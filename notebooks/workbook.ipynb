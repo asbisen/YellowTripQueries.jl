{
 "cells": [
  {
   "cell_type": "code",
   "execution_count": 13,
   "id": "642767c2-dcd8-413b-9be8-4df46dc8310d",
   "metadata": {
    "tags": []
   },
   "outputs": [
    {
     "name": "stderr",
     "output_type": "stream",
     "text": [
      "\u001b[32m\u001b[1m  Activating\u001b[22m\u001b[39m project at `~/Desktop/YellowTripQueries`\n"
     ]
    },
    {
     "data": {
      "text/plain": [
       "\"parquet_scan('/Users/abisen/Desktop/data/tlc/*/*.parquet')\""
      ]
     },
     "execution_count": 13,
     "metadata": {},
     "output_type": "execute_result"
    }
   ],
   "source": [
    "using Pkg; Pkg.activate(\"../\")\n",
    "\n",
    "using YellowTripQueries\n",
    "using VegaLite\n",
    "using DuckDB\n",
    "using DataFrames\n",
    "using Markdown\n",
    "using PrettyTables\n",
    "\n",
    "# Name of DuckDB Database (File)\n",
    "ydb = YellowDB(\"/tmp/ydb__.db\")\n",
    "\n",
    "# Location of Parquet Files\n",
    "table = \"parquet_scan('/Users/abisen/Desktop/data/tlc/*/*.parquet')\""
   ]
  },
  {
   "cell_type": "markdown",
   "id": "c9f3e80f-c6ed-432c-8d41-2b9aa4c3f44f",
   "metadata": {
    "tags": []
   },
   "source": [
    "# Overview"
   ]
  },
  {
   "cell_type": "markdown",
   "id": "f45cf9f6-4d05-4794-8260-507df359c578",
   "metadata": {},
   "source": [
    "A simple analysis of trip [record data](https://www.nyc.gov/site/tlc/about/tlc-trip-record-data.page) released \n",
    "by Taxi and Limousine Commission of New York City."
   ]
  },
  {
   "cell_type": "markdown",
   "id": "6d5c9a65-4225-4913-a0d8-e6bb92c40ffa",
   "metadata": {},
   "source": [
    "# Dataset"
   ]
  },
  {
   "cell_type": "markdown",
   "id": "7d7e4bd1-37fd-4446-8eba-9141bcf9b126",
   "metadata": {},
   "source": [
    "For this analysis 11 years of data from (2011-2021) was used. The data can be downloaded\n",
    "from [TLC's](https://www.nyc.gov/site/tlc/about/tlc-trip-record-data.page) website in parquet format. \n",
    "There are ~1.3 Billion rows one for each trip taken, with 19 features for each record. "
   ]
  },
  {
   "cell_type": "markdown",
   "id": "86938b99-7aea-4ded-9921-eeae54a556c5",
   "metadata": {},
   "source": [
    "## Filtering Outliers"
   ]
  },
  {
   "cell_type": "code",
   "execution_count": 17,
   "id": "74f473a1-1e8b-4324-85d2-b6c6c7c1e95f",
   "metadata": {},
   "outputs": [
    {
     "name": "stdout",
     "output_type": "stream",
     "text": [
      ".------------.-----------.\n",
      "|\u001b[1m passengers \u001b[0m|\u001b[1m       cnt \u001b[0m|\n",
      "|\u001b[90m    String? \u001b[0m|\u001b[90m    Int64? \u001b[0m|\n",
      ":------------+-----------:\n",
      "|          0 |   7675293 |\n",
      "|          1 | 925150291 |\n",
      "|          2 | 189622952 |\n",
      "|          3 |  55890866 |\n",
      "|          4 |  26870691 |\n",
      "|          5 |  73828407 |\n",
      "|          6 |  37369170 |\n",
      "|         7+ |      5620 |\n",
      "|    missing |   2791489 |\n",
      "'------------'-----------'\n",
      "Execution took 3.9089495 sec\n"
     ]
    }
   ],
   "source": [
    "result = query_passenger_count_frequency(ydb, table; plot=true)\n",
    "\n",
    "pretty_table(result.df, tf=tf_ascii_rounded)\n",
    "println(\"Execution took $(result.runtime) sec\")"
   ]
  },
  {
   "cell_type": "code",
   "execution_count": 18,
   "id": "89dd01cc-d45c-4520-b6fa-2d4e8698d476",
   "metadata": {},
   "outputs": [
    {
     "data": {
      "application/vnd.vegalite.v4+json": {
       "data": {
        "values": [
         {
          "cnt": 7675293,
          "passengers": "0"
         },
         {
          "cnt": 925150291,
          "passengers": "1"
         },
         {
          "cnt": 189622952,
          "passengers": "2"
         },
         {
          "cnt": 55890866,
          "passengers": "3"
         },
         {
          "cnt": 26870691,
          "passengers": "4"
         },
         {
          "cnt": 73828407,
          "passengers": "5"
         },
         {
          "cnt": 37369170,
          "passengers": "6"
         },
         {
          "cnt": 5620,
          "passengers": "7+"
         },
         {
          "cnt": 2791489,
          "passengers": "missing"
         }
        ]
       },
       "encoding": {
        "x": {
         "field": "passengers",
         "title": "Num Passenger",
         "type": "nominal"
        },
        "y": {
         "field": "cnt",
         "title": "Num Rides",
         "type": "quantitative"
        }
       },
       "height": 200,
       "mark": {
        "tooltip": true,
        "type": "bar"
       },
       "title": "Passenger Counts Per Ride",
       "width": 600
      },
      "image/png": "[encoded data removed]",
      "image/svg+xml": [
       "<?xml version=\"1.0\" encoding=\"utf-8\"?>\n",
       "<!DOCTYPE svg PUBLIC \"-//W3C//DTD SVG 1.1//EN\" \"http://www.w3.org/Graphics/SVG/1.1/DTD/svg11.dtd\">\n",
       "<svg xmlns=\"http://www.w3.org/2000/svg\" xmlns:xlink=\"http://www.w3.org/1999/xlink\" version=\"1.1\" class=\"marks\" width=\"701\" height=\"288\" viewBox=\"0 0 701 288\"><rect width=\"701\" height=\"288\" fill=\"white\"/><g fill=\"none\" stroke-miterlimit=\"10\" transform=\"translate(96,27)\"><g class=\"mark-group role-frame root\" role=\"graphics-object\" aria-roledescription=\"group mark container\"><g transform=\"translate(0,0)\"><path class=\"background\" aria-hidden=\"true\" d=\"M0.5,0.5h600v200h-600Z\" stroke=\"#ddd\"/><g><g class=\"mark-group role-axis\" aria-hidden=\"true\"><g transform=\"translate(0.5,0.5)\"><path class=\"background\" aria-hidden=\"true\" d=\"M0,0h0v0h0Z\" pointer-events=\"none\"/><g><g class=\"mark-rule role-axis-grid\" pointer-events=\"none\"><line transform=\"translate(0,200)\" x2=\"600\" y2=\"0\" stroke=\"#ddd\" stroke-width=\"1\" opacity=\"1\"/><line transform=\"translate(0,160)\" x2=\"600\" y2=\"0\" stroke=\"#ddd\" stroke-width=\"1\" opacity=\"1\"/><line transform=\"translate(0,120)\" x2=\"600\" y2=\"0\" stroke=\"#ddd\" stroke-width=\"1\" opacity=\"1\"/><line transform=\"translate(0,80)\" x2=\"600\" y2=\"0\" stroke=\"#ddd\" stroke-width=\"1\" opacity=\"1\"/><line transform=\"translate(0,40)\" x2=\"600\" y2=\"0\" stroke=\"#ddd\" stroke-width=\"1\" opacity=\"1\"/><line transform=\"translate(0,0)\" x2=\"600\" y2=\"0\" stroke=\"#ddd\" stroke-width=\"1\" opacity=\"1\"/></g></g><path class=\"foreground\" aria-hidden=\"true\" d=\"\" pointer-events=\"none\" display=\"none\"/></g></g><g class=\"mark-group role-axis\" role=\"graphics-symbol\" aria-roledescription=\"axis\" aria-label=\"X-axis titled 'Num Passenger' for a discrete scale with 9 values: 0, 1, 2, 3, 4, ending with missing\"><g transform=\"translate(0.5,200.5)\"><path class=\"background\" aria-hidden=\"true\" d=\"M0,0h0v0h0Z\" pointer-events=\"none\"/><g><g class=\"mark-rule role-axis-tick\" pointer-events=\"none\"><line transform=\"translate(33,0)\" x2=\"0\" y2=\"5\" stroke=\"#888\" stroke-width=\"1\" opacity=\"1\"/><line transform=\"translate(99,0)\" x2=\"0\" y2=\"5\" stroke=\"#888\" stroke-width=\"1\" opacity=\"1\"/><line transform=\"translate(166,0)\" x2=\"0\" y2=\"5\" stroke=\"#888\" stroke-width=\"1\" opacity=\"1\"/><line transform=\"translate(233,0)\" x2=\"0\" y2=\"5\" stroke=\"#888\" stroke-width=\"1\" opacity=\"1\"/><line transform=\"translate(300,0)\" x2=\"0\" y2=\"5\" stroke=\"#888\" stroke-width=\"1\" opacity=\"1\"/><line transform=\"translate(366,0)\" x2=\"0\" y2=\"5\" stroke=\"#888\" stroke-width=\"1\" opacity=\"1\"/><line transform=\"translate(433,0)\" x2=\"0\" y2=\"5\" stroke=\"#888\" stroke-width=\"1\" opacity=\"1\"/><line transform=\"translate(500,0)\" x2=\"0\" y2=\"5\" stroke=\"#888\" stroke-width=\"1\" opacity=\"1\"/><line transform=\"translate(566,0)\" x2=\"0\" y2=\"5\" stroke=\"#888\" stroke-width=\"1\" opacity=\"1\"/></g><g class=\"mark-text role-axis-label\" pointer-events=\"none\"><text text-anchor=\"end\" transform=\"translate(32.833333333333314,7) rotate(270) translate(0,3)\" font-family=\"sans-serif\" font-size=\"10px\" fill=\"#000\" opacity=\"1\">0</text><text text-anchor=\"end\" transform=\"translate(99.49999999999999,7) rotate(270) translate(0,3)\" font-family=\"sans-serif\" font-size=\"10px\" fill=\"#000\" opacity=\"1\">1</text><text text-anchor=\"end\" transform=\"translate(166.16666666666666,7) rotate(270) translate(0,3)\" font-family=\"sans-serif\" font-size=\"10px\" fill=\"#000\" opacity=\"1\">2</text><text text-anchor=\"end\" transform=\"translate(232.83333333333331,7) rotate(270) translate(0,3)\" font-family=\"sans-serif\" font-size=\"10px\" fill=\"#000\" opacity=\"1\">3</text><text text-anchor=\"end\" transform=\"translate(299.5,7) rotate(270) translate(0,3)\" font-family=\"sans-serif\" font-size=\"10px\" fill=\"#000\" opacity=\"1\">4</text><text text-anchor=\"end\" transform=\"translate(366.1666666666667,7) rotate(270) translate(0,3)\" font-family=\"sans-serif\" font-size=\"10px\" fill=\"#000\" opacity=\"1\">5</text><text text-anchor=\"end\" transform=\"translate(432.8333333333333,7) rotate(270) translate(0,3)\" font-family=\"sans-serif\" font-size=\"10px\" fill=\"#000\" opacity=\"1\">6</text><text text-anchor=\"end\" transform=\"translate(499.5,7) rotate(270) translate(0,3)\" font-family=\"sans-serif\" font-size=\"10px\" fill=\"#000\" opacity=\"1\">7+</text><text text-anchor=\"end\" transform=\"translate(566.1666666666667,7) rotate(270) translate(0,3)\" font-family=\"sans-serif\" font-size=\"10px\" fill=\"#000\" opacity=\"1\">missing</text></g><g class=\"mark-rule role-axis-domain\" pointer-events=\"none\"><line transform=\"translate(0,0)\" x2=\"600\" y2=\"0\" stroke=\"#888\" stroke-width=\"1\" opacity=\"1\"/></g><g class=\"mark-text role-axis-title\" pointer-events=\"none\"><text text-anchor=\"middle\" transform=\"translate(300,54)\" font-family=\"sans-serif\" font-size=\"11px\" font-weight=\"bold\" fill=\"#000\" opacity=\"1\">Num Passenger</text></g></g><path class=\"foreground\" aria-hidden=\"true\" d=\"\" pointer-events=\"none\" display=\"none\"/></g></g><g class=\"mark-group role-axis\" role=\"graphics-symbol\" aria-roledescription=\"axis\" aria-label=\"Y-axis titled 'Num Rides' for a linear scale with values from 0 to 1,000,000,000\"><g transform=\"translate(0.5,0.5)\"><path class=\"background\" aria-hidden=\"true\" d=\"M0,0h0v0h0Z\" pointer-events=\"none\"/><g><g class=\"mark-rule role-axis-tick\" pointer-events=\"none\"><line transform=\"translate(0,200)\" x2=\"-5\" y2=\"0\" stroke=\"#888\" stroke-width=\"1\" opacity=\"1\"/><line transform=\"translate(0,160)\" x2=\"-5\" y2=\"0\" stroke=\"#888\" stroke-width=\"1\" opacity=\"1\"/><line transform=\"translate(0,120)\" x2=\"-5\" y2=\"0\" stroke=\"#888\" stroke-width=\"1\" opacity=\"1\"/><line transform=\"translate(0,80)\" x2=\"-5\" y2=\"0\" stroke=\"#888\" stroke-width=\"1\" opacity=\"1\"/><line transform=\"translate(0,40)\" x2=\"-5\" y2=\"0\" stroke=\"#888\" stroke-width=\"1\" opacity=\"1\"/><line transform=\"translate(0,0)\" x2=\"-5\" y2=\"0\" stroke=\"#888\" stroke-width=\"1\" opacity=\"1\"/></g><g class=\"mark-text role-axis-label\" pointer-events=\"none\"><text text-anchor=\"end\" transform=\"translate(-7,203)\" font-family=\"sans-serif\" font-size=\"10px\" fill=\"#000\" opacity=\"1\">0</text><text text-anchor=\"end\" transform=\"translate(-7,163)\" font-family=\"sans-serif\" font-size=\"10px\" fill=\"#000\" opacity=\"1\">200,000,000</text><text text-anchor=\"end\" transform=\"translate(-7,123)\" font-family=\"sans-serif\" font-size=\"10px\" fill=\"#000\" opacity=\"1\">400,000,000</text><text text-anchor=\"end\" transform=\"translate(-7,83)\" font-family=\"sans-serif\" font-size=\"10px\" fill=\"#000\" opacity=\"1\">600,000,000</text><text text-anchor=\"end\" transform=\"translate(-7,42.99999999999999)\" font-family=\"sans-serif\" font-size=\"10px\" fill=\"#000\" opacity=\"1\">800,000,000</text><text text-anchor=\"end\" transform=\"translate(-7,3)\" font-family=\"sans-serif\" font-size=\"10px\" fill=\"#000\" opacity=\"1\">1,000,000,000</text></g><g class=\"mark-rule role-axis-domain\" pointer-events=\"none\"><line transform=\"translate(0,200)\" x2=\"0\" y2=\"-200\" stroke=\"#888\" stroke-width=\"1\" opacity=\"1\"/></g><g class=\"mark-text role-axis-title\" pointer-events=\"none\"><text text-anchor=\"middle\" transform=\"translate(-80,100) rotate(-90) translate(0,-2)\" font-family=\"sans-serif\" font-size=\"11px\" font-weight=\"bold\" fill=\"#000\" opacity=\"1\">Num Rides</text></g></g><path class=\"foreground\" aria-hidden=\"true\" d=\"\" pointer-events=\"none\" display=\"none\"/></g></g><g class=\"mark-rect role-mark marks\" role=\"graphics-object\" aria-roledescription=\"rect mark container\"><path aria-label=\"Num Passenger: 0; Num Rides: 7675293\" role=\"graphics-symbol\" aria-roledescription=\"bar\" d=\"M3.3333333333333144,198.4649414h60.00000000000001v1.5350586000000135h-60.00000000000001Z\" fill=\"#4c78a8\"/><path aria-label=\"Num Passenger: 1; Num Rides: 925150291\" role=\"graphics-symbol\" aria-roledescription=\"bar\" d=\"M69.99999999999999,14.969941799999997h60.00000000000001v185.0300582h-60.00000000000001Z\" fill=\"#4c78a8\"/><path aria-label=\"Num Passenger: 2; Num Rides: 189622952\" role=\"graphics-symbol\" aria-roledescription=\"bar\" d=\"M136.66666666666666,162.0754096h60.00000000000001v37.9245904h-60.00000000000001Z\" fill=\"#4c78a8\"/><path aria-label=\"Num Passenger: 3; Num Rides: 55890866\" role=\"graphics-symbol\" aria-roledescription=\"bar\" d=\"M203.33333333333331,188.8218268h60.00000000000001v11.178173200000003h-60.00000000000001Z\" fill=\"#4c78a8\"/><path aria-label=\"Num Passenger: 4; Num Rides: 26870691\" role=\"graphics-symbol\" aria-roledescription=\"bar\" d=\"M270,194.62586180000002h60.00000000000001v5.374138199999976h-60.00000000000001Z\" fill=\"#4c78a8\"/><path aria-label=\"Num Passenger: 5; Num Rides: 73828407\" role=\"graphics-symbol\" aria-roledescription=\"bar\" d=\"M336.6666666666667,185.2343186h60.00000000000001v14.765681400000005h-60.00000000000001Z\" fill=\"#4c78a8\"/><path aria-label=\"Num Passenger: 6; Num Rides: 37369170\" role=\"graphics-symbol\" aria-roledescription=\"bar\" d=\"M403.3333333333333,192.52616600000002h60.00000000000001v7.473833999999982h-60.00000000000001Z\" fill=\"#4c78a8\"/><path aria-label=\"Num Passenger: 7+; Num Rides: 5620\" role=\"graphics-symbol\" aria-roledescription=\"bar\" d=\"M470,199.998876h60.00000000000001v0.0011240000000043437h-60.00000000000001Z\" fill=\"#4c78a8\"/><path aria-label=\"Num Passenger: missing; Num Rides: 2791489\" role=\"graphics-symbol\" aria-roledescription=\"bar\" d=\"M536.6666666666667,199.44170219999998h60.00000000000001v0.5582978000000196h-60.00000000000001Z\" fill=\"#4c78a8\"/></g><g class=\"mark-group role-title\"><g transform=\"translate(300,-22)\"><path class=\"background\" aria-hidden=\"true\" d=\"M0,0h0v0h0Z\" pointer-events=\"none\"/><g><g class=\"mark-text role-title-text\" role=\"graphics-symbol\" aria-roledescription=\"title\" aria-label=\"Title text 'Passenger Counts Per Ride'\" pointer-events=\"none\"><text text-anchor=\"middle\" transform=\"translate(0,10)\" font-family=\"sans-serif\" font-size=\"13px\" font-weight=\"bold\" fill=\"#000\" opacity=\"1\">Passenger Counts Per Ride</text></g></g><path class=\"foreground\" aria-hidden=\"true\" d=\"\" pointer-events=\"none\" display=\"none\"/></g></g></g><path class=\"foreground\" aria-hidden=\"true\" d=\"\" display=\"none\"/></g></g></g></svg>\n"
      ],
      "text/plain": [
       "@vlplot(\n",
       "    mark={\n",
       "        tooltip=true,\n",
       "        type=\"bar\"\n",
       "    },\n",
       "    width=600,\n",
       "    height=200,\n",
       "    title=\"Passenger Counts Per Ride\",\n",
       "    encoding={\n",
       "        x={\n",
       "            title=\"Num Passenger\",\n",
       "            field=\"passengers\"\n",
       "        },\n",
       "        y={\n",
       "            title=\"Num Rides\",\n",
       "            field=\"cnt\"\n",
       "        }\n",
       "    },\n",
       "    data={\n",
       "        values=...\n",
       "    }\n",
       ")"
      ]
     },
     "execution_count": 18,
     "metadata": {},
     "output_type": "execute_result"
    }
   ],
   "source": [
    "result.plot"
   ]
  },
  {
   "cell_type": "code",
   "execution_count": 20,
   "id": "c6ed5220-adb5-4790-b817-cad100615438",
   "metadata": {},
   "outputs": [
    {
     "data": {
      "text/html": [],
      "text/plain": [
       "YellowTripQueries.YellowQueryResult(YellowDB(\"/tmp/ydb__.db\", \"READ_WRITE\", nothing, nothing), \u001b[1m19×6 DataFrame\u001b[0m\n",
       "\u001b[1m Row \u001b[0m│\u001b[1m column_name           \u001b[0m\u001b[1m column_type \u001b[0m\u001b[1m null    \u001b[0m\u001b[1m key     \u001b[0m\u001b[1m default \u001b[0m\u001b[1m extra   \u001b[0m\n",
       "     │\u001b[90m String?               \u001b[0m\u001b[90m String?     \u001b[0m\u001b[90m String? \u001b[0m\u001b[90m String? \u001b[0m\u001b[90m String? \u001b[0m\u001b[90m String? \u001b[0m\n",
       "─────┼────────────────────────────────────────────────────────────────────────\n",
       "   1 │ VendorID               BIGINT       YES     \u001b[90m missing \u001b[0m\u001b[90m missing \u001b[0m\u001b[90m missing \u001b[0m\n",
       "   2 │ tpep_pickup_datetime   TIMESTAMP    YES     \u001b[90m missing \u001b[0m\u001b[90m missing \u001b[0m\u001b[90m missing \u001b[0m\n",
       "   3 │ tpep_dropoff_datetime  TIMESTAMP    YES     \u001b[90m missing \u001b[0m\u001b[90m missing \u001b[0m\u001b[90m missing \u001b[0m\n",
       "   4 │ passenger_count        BIGINT       YES     \u001b[90m missing \u001b[0m\u001b[90m missing \u001b[0m\u001b[90m missing \u001b[0m\n",
       "   5 │ trip_distance          DOUBLE       YES     \u001b[90m missing \u001b[0m\u001b[90m missing \u001b[0m\u001b[90m missing \u001b[0m\n",
       "   6 │ RatecodeID             BIGINT       YES     \u001b[90m missing \u001b[0m\u001b[90m missing \u001b[0m\u001b[90m missing \u001b[0m\n",
       "   7 │ store_and_fwd_flag     VARCHAR      YES     \u001b[90m missing \u001b[0m\u001b[90m missing \u001b[0m\u001b[90m missing \u001b[0m\n",
       "   8 │ PULocationID           BIGINT       YES     \u001b[90m missing \u001b[0m\u001b[90m missing \u001b[0m\u001b[90m missing \u001b[0m\n",
       "   9 │ DOLocationID           BIGINT       YES     \u001b[90m missing \u001b[0m\u001b[90m missing \u001b[0m\u001b[90m missing \u001b[0m\n",
       "  10 │ payment_type           BIGINT       YES     \u001b[90m missing \u001b[0m\u001b[90m missing \u001b[0m\u001b[90m missing \u001b[0m\n",
       "  11 │ fare_amount            DOUBLE       YES     \u001b[90m missing \u001b[0m\u001b[90m missing \u001b[0m\u001b[90m missing \u001b[0m\n",
       "  12 │ extra                  DOUBLE       YES     \u001b[90m missing \u001b[0m\u001b[90m missing \u001b[0m\u001b[90m missing \u001b[0m\n",
       "  13 │ mta_tax                DOUBLE       YES     \u001b[90m missing \u001b[0m\u001b[90m missing \u001b[0m\u001b[90m missing \u001b[0m\n",
       "  14 │ tip_amount             DOUBLE       YES     \u001b[90m missing \u001b[0m\u001b[90m missing \u001b[0m\u001b[90m missing \u001b[0m\n",
       "  15 │ tolls_amount           DOUBLE       YES     \u001b[90m missing \u001b[0m\u001b[90m missing \u001b[0m\u001b[90m missing \u001b[0m\n",
       "  16 │ improvement_surcharge  DOUBLE       YES     \u001b[90m missing \u001b[0m\u001b[90m missing \u001b[0m\u001b[90m missing \u001b[0m\n",
       "  17 │ total_amount           DOUBLE       YES     \u001b[90m missing \u001b[0m\u001b[90m missing \u001b[0m\u001b[90m missing \u001b[0m\n",
       "  18 │ congestion_surcharge   INTEGER      YES     \u001b[90m missing \u001b[0m\u001b[90m missing \u001b[0m\u001b[90m missing \u001b[0m\n",
       "  19 │ airport_fee            INTEGER      YES     \u001b[90m missing \u001b[0m\u001b[90m missing \u001b[0m\u001b[90m missing \u001b[0m, nothing, 0.008035542, \"DESCRIBE SELECT * FROM parquet_scan('/Users/abisen/Desktop/data/tlc/*/*.parquet') LIMIT 1\")"
      ]
     },
     "execution_count": 20,
     "metadata": {},
     "output_type": "execute_result"
    },
    {
     "name": "stdout",
     "output_type": "stream",
     "text": [
      "\u001b[1m19×6 DataFrame\u001b[0m\n",
      "\u001b[1m Row \u001b[0m│\u001b[1m column_name           \u001b[0m\u001b[1m column_type \u001b[0m\u001b[1m null    \u001b[0m\u001b[1m key     \u001b[0m\u001b[1m default \u001b[0m\u001b[1m extra   \u001b[0m\n",
      "     │\u001b[90m String?               \u001b[0m\u001b[90m String?     \u001b[0m\u001b[90m String? \u001b[0m\u001b[90m String? \u001b[0m\u001b[90m String? \u001b[0m\u001b[90m String? \u001b[0m\n",
      "─────┼────────────────────────────────────────────────────────────────────────\n",
      "   1 │ VendorID               BIGINT       YES     \u001b[90m missing \u001b[0m\u001b[90m missing \u001b[0m\u001b[90m missing \u001b[0m\n",
      "   2 │ tpep_pickup_datetime   TIMESTAMP    YES     \u001b[90m missing \u001b[0m\u001b[90m missing \u001b[0m\u001b[90m missing \u001b[0m\n",
      "   3 │ tpep_dropoff_datetime  TIMESTAMP    YES     \u001b[90m missing \u001b[0m\u001b[90m missing \u001b[0m\u001b[90m missing \u001b[0m\n",
      "   4 │ passenger_count        BIGINT       YES     \u001b[90m missing \u001b[0m\u001b[90m missing \u001b[0m\u001b[90m missing \u001b[0m\n",
      "   5 │ trip_distance          DOUBLE       YES     \u001b[90m missing \u001b[0m\u001b[90m missing \u001b[0m\u001b[90m missing \u001b[0m\n",
      "   6 │ RatecodeID             BIGINT       YES     \u001b[90m missing \u001b[0m\u001b[90m missing \u001b[0m\u001b[90m missing \u001b[0m\n",
      "   7 │ store_and_fwd_flag     VARCHAR      YES     \u001b[90m missing \u001b[0m\u001b[90m missing \u001b[0m\u001b[90m missing \u001b[0m\n",
      "   8 │ PULocationID           BIGINT       YES     \u001b[90m missing \u001b[0m\u001b[90m missing \u001b[0m\u001b[90m missing \u001b[0m\n",
      "   9 │ DOLocationID           BIGINT       YES     \u001b[90m missing \u001b[0m\u001b[90m missing \u001b[0m\u001b[90m missing \u001b[0m\n",
      "  10 │ payment_type           BIGINT       YES     \u001b[90m missing \u001b[0m\u001b[90m missing \u001b[0m\u001b[90m missing \u001b[0m\n",
      "  11 │ fare_amount            DOUBLE       YES     \u001b[90m missing \u001b[0m\u001b[90m missing \u001b[0m\u001b[90m missing \u001b[0m\n",
      "  12 │ extra                  DOUBLE       YES     \u001b[90m missing \u001b[0m\u001b[90m missing \u001b[0m\u001b[90m missing \u001b[0m\n",
      "  13 │ mta_tax                DOUBLE       YES     \u001b[90m missing \u001b[0m\u001b[90m missing \u001b[0m\u001b[90m missing \u001b[0m\n",
      "  14 │ tip_amount             DOUBLE       YES     \u001b[90m missing \u001b[0m\u001b[90m missing \u001b[0m\u001b[90m missing \u001b[0m\n",
      "  15 │ tolls_amount           DOUBLE       YES     \u001b[90m missing \u001b[0m\u001b[90m missing \u001b[0m\u001b[90m missing \u001b[0m\n",
      "  16 │ improvement_surcharge  DOUBLE       YES     \u001b[90m missing \u001b[0m\u001b[90m missing \u001b[0m\u001b[90m missing \u001b[0m\n",
      "  17 │ total_amount           DOUBLE       YES     \u001b[90m missing \u001b[0m\u001b[90m missing \u001b[0m\u001b[90m missing \u001b[0m\n",
      "  18 │ congestion_surcharge   INTEGER      YES     \u001b[90m missing \u001b[0m\u001b[90m missing \u001b[0m\u001b[90m missing \u001b[0m\n",
      "  19 │ airport_fee            INTEGER      YES     \u001b[90m missing \u001b[0m\u001b[90m missing \u001b[0m\u001b[90m missing \u001b[0m\n",
      "\n",
      "Execution Time: 0.008035542\n"
     ]
    }
   ],
   "source": [
    "q = \"DESCRIBE SELECT * FROM $(table) LIMIT 1\"\n",
    "result = execute(ydb, q)"
   ]
  },
  {
   "cell_type": "markdown",
   "id": "6ea91846-f515-4dfa-aa24-620e4fe35401",
   "metadata": {},
   "source": [
    "## Heatmap"
   ]
  },
  {
   "cell_type": "code",
   "execution_count": 23,
   "id": "2db4bd5e-ee5b-449a-8bf2-db7a0b1cafbf",
   "metadata": {},
   "outputs": [
    {
     "data": {
      "application/vnd.vegalite.v4+json": {
       "data": {
        "values": [
         {
          "DOW": "Sat",
          "cnt": 16373039,
          "month": "Jun"
         },
         {
          "DOW": "Sun",
          "cnt": 13827111,
          "month": "Jun"
         },
         {
          "DOW": "Mon",
          "cnt": 14303260,
          "month": "Jun"
         },
         {
          "DOW": "Tue",
          "cnt": 14931151,
          "month": "Jun"
         },
         {
          "DOW": "Wed",
          "cnt": 15946765,
          "month": "Jun"
         },
         {
          "DOW": "Thu",
          "cnt": 16620730,
          "month": "Jun"
         },
         {
          "DOW": "Fri",
          "cnt": 16543204,
          "month": "Jun"
         },
         {
          "DOW": "Tue",
          "cnt": 15578015,
          "month": "Apr"
         },
         {
          "DOW": "Wed",
          "cnt": 15711674,
          "month": "Apr"
         },
         {
          "DOW": "Thu",
          "cnt": 15887340,
          "month": "Apr"
         },
         {
          "DOW": "Fri",
          "cnt": 16595301,
          "month": "Apr"
         },
         {
          "DOW": "Sat",
          "cnt": 16665699,
          "month": "Apr"
         },
         {
          "DOW": "Sun",
          "cnt": 14286101,
          "month": "Apr"
         },
         {
          "DOW": "Mon",
          "cnt": 14484940,
          "month": "Apr"
         },
         {
          "DOW": "Sat",
          "cnt": 18924387,
          "month": "Mar"
         },
         {
          "DOW": "Sun",
          "cnt": 15846130,
          "month": "Mar"
         },
         {
          "DOW": "Mon",
          "cnt": 14714579,
          "month": "Mar"
         },
         {
          "DOW": "Tue",
          "cnt": 15981787,
          "month": "Mar"
         },
         {
          "DOW": "Wed",
          "cnt": 16579390,
          "month": "Mar"
         },
         {
          "DOW": "Thu",
          "cnt": 18127059,
          "month": "Mar"
         },
         {
          "DOW": "Fri",
          "cnt": 18663159,
          "month": "Mar"
         },
         {
          "DOW": "Wed",
          "cnt": 15455479,
          "month": "Jul"
         },
         {
          "DOW": "Thu",
          "cnt": 15050609,
          "month": "Jul"
         },
         {
          "DOW": "Fri",
          "cnt": 15195055,
          "month": "Jul"
         },
         {
          "DOW": "Sat",
          "cnt": 14083955,
          "month": "Jul"
         },
         {
          "DOW": "Sun",
          "cnt": 13350445,
          "month": "Jul"
         },
         {
          "DOW": "Mon",
          "cnt": 13830375,
          "month": "Jul"
         },
         {
          "DOW": "Tue",
          "cnt": 15334419,
          "month": "Jul"
         },
         {
          "DOW": "Sat",
          "cnt": 15936169,
          "month": "Sep"
         },
         {
          "DOW": "Sun",
          "cnt": 14160875,
          "month": "Sep"
         },
         {
          "DOW": "Mon",
          "cnt": 13050759,
          "month": "Sep"
         },
         {
          "DOW": "Tue",
          "cnt": 14334379,
          "month": "Sep"
         },
         {
          "DOW": "Wed",
          "cnt": 14693002,
          "month": "Sep"
         },
         {
          "DOW": "Thu",
          "cnt": 15566144,
          "month": "Sep"
         },
         {
          "DOW": "Fri",
          "cnt": 16096623,
          "month": "Sep"
         },
         {
          "DOW": "Wed",
          "cnt": 15380126,
          "month": "Nov"
         },
         {
          "DOW": "Tue",
          "cnt": 15426909,
          "month": "Oct"
         },
         {
          "DOW": "Thu",
          "cnt": 14548989,
          "month": "Nov"
         },
         {
          "DOW": "Fri",
          "cnt": 15806667,
          "month": "Nov"
         },
         {
          "DOW": "Sat",
          "cnt": 16317998,
          "month": "Nov"
         },
         {
          "DOW": "Sun",
          "cnt": 14016477,
          "month": "Nov"
         },
         {
          "DOW": "Mon",
          "cnt": 13511156,
          "month": "Nov"
         },
         {
          "DOW": "Tue",
          "cnt": 14904353,
          "month": "Nov"
         },
         {
          "DOW": "Fri",
          "cnt": 15986311,
          "month": "Dec"
         },
         {
          "DOW": "Wed",
          "cnt": 14623569,
          "month": "Dec"
         },
         {
          "DOW": "Wed",
          "cnt": 16337597,
          "month": "Oct"
         },
         {
          "DOW": "Wed",
          "cnt": 16127460,
          "month": "Jan"
         },
         {
          "DOW": "Thu",
          "cnt": 15918976,
          "month": "Feb"
         },
         {
          "DOW": "Thu",
          "cnt": 15538782,
          "month": "Dec"
         },
         {
          "DOW": "Thu",
          "cnt": 16841692,
          "month": "Jan"
         },
         {
          "DOW": "Thu",
          "cnt": 16876521,
          "month": "Oct"
         },
         {
          "DOW": "Fri",
          "cnt": 16651012,
          "month": "Oct"
         },
         {
          "DOW": "Sat",
          "cnt": 17173539,
          "month": "Oct"
         },
         {
          "DOW": "Sat",
          "cnt": 16400176,
          "month": "Dec"
         },
         {
          "DOW": "Sun",
          "cnt": 14693618,
          "month": "Oct"
         },
         {
          "DOW": "Mon",
          "cnt": 14220409,
          "month": "Oct"
         },
         {
          "DOW": "Mon",
          "cnt": 14176084,
          "month": "Dec"
         },
         {
          "DOW": "Tue",
          "cnt": 14736294,
          "month": "Dec"
         },
         {
          "DOW": "Sun",
          "cnt": 14487165,
          "month": "Jan"
         },
         {
          "DOW": "Fri",
          "cnt": 17202086,
          "month": "Jan"
         },
         {
          "DOW": "Fri",
          "cnt": 16699803,
          "month": "Feb"
         },
         {
          "DOW": "Mon",
          "cnt": 12790221,
          "month": "Aug"
         },
         {
          "DOW": "Mon",
          "cnt": 14023126,
          "month": "Jan"
         },
         {
          "DOW": "Tue",
          "cnt": 15490167,
          "month": "Jan"
         },
         {
          "DOW": "Tue",
          "cnt": 14878721,
          "month": "Feb"
         },
         {
          "DOW": "Sat",
          "cnt": 13642082,
          "month": "Aug"
         },
         {
          "DOW": "Thu",
          "cnt": 15368420,
          "month": "Aug"
         },
         {
          "DOW": "Fri",
          "cnt": 15250681,
          "month": "Aug"
         },
         {
          "DOW": "Tue",
          "cnt": 14011871,
          "month": "Aug"
         },
         {
          "DOW": "Wed",
          "cnt": 15194329,
          "month": "Aug"
         },
         {
          "DOW": "Sat",
          "cnt": 16817217,
          "month": "Feb"
         },
         {
          "DOW": "Sun",
          "cnt": 14305229,
          "month": "Feb"
         },
         {
          "DOW": "Mon",
          "cnt": 13917041,
          "month": "Feb"
         },
         {
          "DOW": "Wed",
          "cnt": 15909633,
          "month": "Feb"
         },
         {
          "DOW": "Sat",
          "cnt": 16417576,
          "month": "Jan"
         },
         {
          "DOW": "Fri",
          "cnt": 17138923,
          "month": "May"
         },
         {
          "DOW": "Thu",
          "cnt": 17303942,
          "month": "May"
         },
         {
          "DOW": "Sat",
          "cnt": 16206007,
          "month": "May"
         },
         {
          "DOW": "Sun",
          "cnt": 14463427,
          "month": "May"
         },
         {
          "DOW": "Tue",
          "cnt": 16328725,
          "month": "May"
         },
         {
          "DOW": "Wed",
          "cnt": 16794516,
          "month": "May"
         },
         {
          "DOW": "Mon",
          "cnt": 13906492,
          "month": "May"
         },
         {
          "DOW": "Sun",
          "cnt": 10980347,
          "month": "Aug"
         },
         {
          "DOW": "Sun",
          "cnt": 14161581,
          "month": "Dec"
         }
        ]
       },
       "encoding": {
        "color": {
         "field": "cnt",
         "title": "Pickups",
         "type": "quantitative"
        },
        "x": {
         "field": "month",
         "sort": [
          "Jan",
          "Feb",
          "Mar",
          "Apr",
          "May",
          "Jun",
          "Jul",
          "Aug",
          "Sep",
          "Oct",
          "Nov",
          "Dec"
         ],
         "type": "ordinal"
        },
        "y": {
         "field": "DOW",
         "sort": [
          "Mon",
          "Tue",
          "Wed",
          "Thu",
          "Fri",
          "Sat"
         ],
         "type": "ordinal"
        }
       },
       "height": 400,
       "mark": {
        "tooltip": true,
        "type": "rect"
       },
       "title": "Pickup Demand by Month & Weekday",
       "width": 600
      },
      "image/png": "[encoded data removed]",
      "image/svg+xml": [
       "<?xml version=\"1.0\" encoding=\"utf-8\"?>\n",
       "<!DOCTYPE svg PUBLIC \"-//W3C//DTD SVG 1.1//EN\" \"http://www.w3.org/Graphics/SVG/1.1/DTD/svg11.dtd\">\n",
       "<svg xmlns=\"http://www.w3.org/2000/svg\" xmlns:xlink=\"http://www.w3.org/1999/xlink\" version=\"1.1\" class=\"marks\" width=\"742\" height=\"468\" viewBox=\"0 0 742 468\"><rect width=\"742\" height=\"468\" fill=\"white\"/><g fill=\"none\" stroke-miterlimit=\"10\" transform=\"translate(47,22)\"><g class=\"mark-group role-frame root\" role=\"graphics-object\" aria-roledescription=\"group mark container\"><g transform=\"translate(0,0)\"><path class=\"background\" aria-hidden=\"true\" d=\"M0.5,0.5h600v400h-600Z\" stroke=\"#ddd\"/><g><g class=\"mark-rect role-mark marks\" role=\"graphics-object\" aria-roledescription=\"rect mark container\"><path aria-label=\"month: Jun; DOW: Sat; Pickups: 16373039\" role=\"graphics-symbol\" aria-roledescription=\"rect mark\" d=\"M250,285.7142857142857h50v57.142857142857146h-50Z\" fill=\"rgb(35, 136, 186)\"/><path aria-label=\"month: Jun; DOW: Sun; Pickups: 13827111\" role=\"graphics-symbol\" aria-roledescription=\"rect mark\" d=\"M250,342.8571428571429h50v57.142857142857146h-50Z\" fill=\"rgb(123, 204, 188)\"/><path aria-label=\"month: Jun; DOW: Mon; Pickups: 14303260\" role=\"graphics-symbol\" aria-roledescription=\"rect mark\" d=\"M250,0h50v57.142857142857146h-50Z\" fill=\"rgb(98, 194, 191)\"/><path aria-label=\"month: Jun; DOW: Tue; Pickups: 14931151\" role=\"graphics-symbol\" aria-roledescription=\"rect mark\" d=\"M250,57.142857142857146h50v57.142857142857146h-50Z\" fill=\"rgb(70, 180, 194)\"/><path aria-label=\"month: Jun; DOW: Wed; Pickups: 15946765\" role=\"graphics-symbol\" aria-roledescription=\"rect mark\" d=\"M250,114.28571428571429h50v57.142857142857146h-50Z\" fill=\"rgb(41, 151, 190)\"/><path aria-label=\"month: Jun; DOW: Thu; Pickups: 16620730\" role=\"graphics-symbol\" aria-roledescription=\"rect mark\" d=\"M250,171.42857142857144h50v57.142857142857146h-50Z\" fill=\"rgb(33, 127, 183)\"/><path aria-label=\"month: Jun; DOW: Fri; Pickups: 16543204\" role=\"graphics-symbol\" aria-roledescription=\"rect mark\" d=\"M250,228.57142857142858h50v57.142857142857146h-50Z\" fill=\"rgb(33, 130, 184)\"/><path aria-label=\"month: Apr; DOW: Tue; Pickups: 15578015\" role=\"graphics-symbol\" aria-roledescription=\"rect mark\" d=\"M150,57.142857142857146h50v57.142857142857146h-50Z\" fill=\"rgb(49, 163, 192)\"/><path aria-label=\"month: Apr; DOW: Wed; Pickups: 15711674\" role=\"graphics-symbol\" aria-roledescription=\"rect mark\" d=\"M150,114.28571428571429h50v57.142857142857146h-50Z\" fill=\"rgb(45, 159, 192)\"/><path aria-label=\"month: Apr; DOW: Thu; Pickups: 15887340\" role=\"graphics-symbol\" aria-roledescription=\"rect mark\" d=\"M150,171.42857142857144h50v57.142857142857146h-50Z\" fill=\"rgb(42, 153, 191)\"/><path aria-label=\"month: Apr; DOW: Fri; Pickups: 16595301\" role=\"graphics-symbol\" aria-roledescription=\"rect mark\" d=\"M150,228.57142857142858h50v57.142857142857146h-50Z\" fill=\"rgb(33, 128, 183)\"/><path aria-label=\"month: Apr; DOW: Sat; Pickups: 16665699\" role=\"graphics-symbol\" aria-roledescription=\"rect mark\" d=\"M150,285.7142857142857h50v57.142857142857146h-50Z\" fill=\"rgb(33, 125, 182)\"/><path aria-label=\"month: Apr; DOW: Sun; Pickups: 14286101\" role=\"graphics-symbol\" aria-roledescription=\"rect mark\" d=\"M150,342.8571428571429h50v57.142857142857146h-50Z\" fill=\"rgb(99, 194, 191)\"/><path aria-label=\"month: Apr; DOW: Mon; Pickups: 14484940\" role=\"graphics-symbol\" aria-roledescription=\"rect mark\" d=\"M150,0h50v57.142857142857146h-50Z\" fill=\"rgb(90, 190, 192)\"/><path aria-label=\"month: Mar; DOW: Sat; Pickups: 18924387\" role=\"graphics-symbol\" aria-roledescription=\"rect mark\" d=\"M100,285.7142857142857h50v57.142857142857146h-50Z\" fill=\"rgb(28, 49, 133)\"/><path aria-label=\"month: Mar; DOW: Sun; Pickups: 15846130\" role=\"graphics-symbol\" aria-roledescription=\"rect mark\" d=\"M100,342.8571428571429h50v57.142857142857146h-50Z\" fill=\"rgb(43, 154, 191)\"/><path aria-label=\"month: Mar; DOW: Mon; Pickups: 14714579\" role=\"graphics-symbol\" aria-roledescription=\"rect mark\" d=\"M100,0h50v57.142857142857146h-50Z\" fill=\"rgb(80, 185, 193)\"/><path aria-label=\"month: Mar; DOW: Tue; Pickups: 15981787\" role=\"graphics-symbol\" aria-roledescription=\"rect mark\" d=\"M100,57.142857142857146h50v57.142857142857146h-50Z\" fill=\"rgb(41, 150, 190)\"/><path aria-label=\"month: Mar; DOW: Wed; Pickups: 16579390\" role=\"graphics-symbol\" aria-roledescription=\"rect mark\" d=\"M100,114.28571428571429h50v57.142857142857146h-50Z\" fill=\"rgb(33, 129, 183)\"/><path aria-label=\"month: Mar; DOW: Thu; Pickups: 18127059\" role=\"graphics-symbol\" aria-roledescription=\"rect mark\" d=\"M100,171.42857142857144h50v57.142857142857146h-50Z\" fill=\"rgb(35, 71, 156)\"/><path aria-label=\"month: Mar; DOW: Fri; Pickups: 18663159\" role=\"graphics-symbol\" aria-roledescription=\"rect mark\" d=\"M100,228.57142857142858h50v57.142857142857146h-50Z\" fill=\"rgb(30, 56, 141)\"/><path aria-label=\"month: Jul; DOW: Wed; Pickups: 15455479\" role=\"graphics-symbol\" aria-roledescription=\"rect mark\" d=\"M300,114.28571428571429h50v57.142857142857146h-50Z\" fill=\"rgb(53, 166, 193)\"/><path aria-label=\"month: Jul; DOW: Thu; Pickups: 15050609\" role=\"graphics-symbol\" aria-roledescription=\"rect mark\" d=\"M300,171.42857142857144h50v57.142857142857146h-50Z\" fill=\"rgb(66, 177, 194)\"/><path aria-label=\"month: Jul; DOW: Fri; Pickups: 15195055\" role=\"graphics-symbol\" aria-roledescription=\"rect mark\" d=\"M300,228.57142857142858h50v57.142857142857146h-50Z\" fill=\"rgb(61, 173, 193)\"/><path aria-label=\"month: Jul; DOW: Sat; Pickups: 14083955\" role=\"graphics-symbol\" aria-roledescription=\"rect mark\" d=\"M300,285.7142857142857h50v57.142857142857146h-50Z\" fill=\"rgb(109, 198, 190)\"/><path aria-label=\"month: Jul; DOW: Sun; Pickups: 13350445\" role=\"graphics-symbol\" aria-roledescription=\"rect mark\" d=\"M300,342.8571428571429h50v57.142857142857146h-50Z\" fill=\"rgb(149, 213, 185)\"/><path aria-label=\"month: Jul; DOW: Mon; Pickups: 13830375\" role=\"graphics-symbol\" aria-roledescription=\"rect mark\" d=\"M300,0h50v57.142857142857146h-50Z\" fill=\"rgb(123, 204, 188)\"/><path aria-label=\"month: Jul; DOW: Tue; Pickups: 15334419\" role=\"graphics-symbol\" aria-roledescription=\"rect mark\" d=\"M300,57.142857142857146h50v57.142857142857146h-50Z\" fill=\"rgb(57, 169, 193)\"/><path aria-label=\"month: Sep; DOW: Sat; Pickups: 15936169\" role=\"graphics-symbol\" aria-roledescription=\"rect mark\" d=\"M400,285.7142857142857h50v57.142857142857146h-50Z\" fill=\"rgb(41, 151, 190)\"/><path aria-label=\"month: Sep; DOW: Sun; Pickups: 14160875\" role=\"graphics-symbol\" aria-roledescription=\"rect mark\" d=\"M400,342.8571428571429h50v57.142857142857146h-50Z\" fill=\"rgb(105, 197, 190)\"/><path aria-label=\"month: Sep; DOW: Mon; Pickups: 13050759\" role=\"graphics-symbol\" aria-roledescription=\"rect mark\" d=\"M400,0h50v57.142857142857146h-50Z\" fill=\"rgb(164, 219, 183)\"/><path aria-label=\"month: Sep; DOW: Tue; Pickups: 14334379\" role=\"graphics-symbol\" aria-roledescription=\"rect mark\" d=\"M400,57.142857142857146h50v57.142857142857146h-50Z\" fill=\"rgb(97, 193, 191)\"/><path aria-label=\"month: Sep; DOW: Wed; Pickups: 14693002\" role=\"graphics-symbol\" aria-roledescription=\"rect mark\" d=\"M400,114.28571428571429h50v57.142857142857146h-50Z\" fill=\"rgb(81, 186, 193)\"/><path aria-label=\"month: Sep; DOW: Thu; Pickups: 15566144\" role=\"graphics-symbol\" aria-roledescription=\"rect mark\" d=\"M400,171.42857142857144h50v57.142857142857146h-50Z\" fill=\"rgb(50, 163, 192)\"/><path aria-label=\"month: Sep; DOW: Fri; Pickups: 16096623\" role=\"graphics-symbol\" aria-roledescription=\"rect mark\" d=\"M400,228.57142857142858h50v57.142857142857146h-50Z\" fill=\"rgb(39, 146, 188)\"/><path aria-label=\"month: Nov; DOW: Wed; Pickups: 15380126\" role=\"graphics-symbol\" aria-roledescription=\"rect mark\" d=\"M500,114.28571428571429h50v57.142857142857146h-50Z\" fill=\"rgb(56, 168, 193)\"/><path aria-label=\"month: Oct; DOW: Tue; Pickups: 15426909\" role=\"graphics-symbol\" aria-roledescription=\"rect mark\" d=\"M450,57.142857142857146h50v57.142857142857146h-50Z\" fill=\"rgb(54, 167, 193)\"/><path aria-label=\"month: Nov; DOW: Thu; Pickups: 14548989\" role=\"graphics-symbol\" aria-roledescription=\"rect mark\" d=\"M500,171.42857142857144h50v57.142857142857146h-50Z\" fill=\"rgb(87, 189, 192)\"/><path aria-label=\"month: Nov; DOW: Fri; Pickups: 15806667\" role=\"graphics-symbol\" aria-roledescription=\"rect mark\" d=\"M500,228.57142857142858h50v57.142857142857146h-50Z\" fill=\"rgb(43, 156, 191)\"/><path aria-label=\"month: Nov; DOW: Sat; Pickups: 16317998\" role=\"graphics-symbol\" aria-roledescription=\"rect mark\" d=\"M500,285.7142857142857h50v57.142857142857146h-50Z\" fill=\"rgb(36, 138, 186)\"/><path aria-label=\"month: Nov; DOW: Sun; Pickups: 14016477\" role=\"graphics-symbol\" aria-roledescription=\"rect mark\" d=\"M500,342.8571428571429h50v57.142857142857146h-50Z\" fill=\"rgb(113, 200, 189)\"/><path aria-label=\"month: Nov; DOW: Mon; Pickups: 13511156\" role=\"graphics-symbol\" aria-roledescription=\"rect mark\" d=\"M500,0h50v57.142857142857146h-50Z\" fill=\"rgb(140, 210, 186)\"/><path aria-label=\"month: Nov; DOW: Tue; Pickups: 14904353\" role=\"graphics-symbol\" aria-roledescription=\"rect mark\" d=\"M500,57.142857142857146h50v57.142857142857146h-50Z\" fill=\"rgb(71, 181, 194)\"/><path aria-label=\"month: Dec; DOW: Fri; Pickups: 15986311\" role=\"graphics-symbol\" aria-roledescription=\"rect mark\" d=\"M550,228.57142857142858h50v57.142857142857146h-50Z\" fill=\"rgb(41, 150, 190)\"/><path aria-label=\"month: Dec; DOW: Wed; Pickups: 14623569\" role=\"graphics-symbol\" aria-roledescription=\"rect mark\" d=\"M550,114.28571428571429h50v57.142857142857146h-50Z\" fill=\"rgb(84, 187, 192)\"/><path aria-label=\"month: Oct; DOW: Wed; Pickups: 16337597\" role=\"graphics-symbol\" aria-roledescription=\"rect mark\" d=\"M450,114.28571428571429h50v57.142857142857146h-50Z\" fill=\"rgb(36, 137, 186)\"/><path aria-label=\"month: Jan; DOW: Wed; Pickups: 16127460\" role=\"graphics-symbol\" aria-roledescription=\"rect mark\" d=\"M0,114.28571428571429h50v57.142857142857146h-50Z\" fill=\"rgb(39, 145, 188)\"/><path aria-label=\"month: Feb; DOW: Thu; Pickups: 15918976\" role=\"graphics-symbol\" aria-roledescription=\"rect mark\" d=\"M50,171.42857142857144h50v57.142857142857146h-50Z\" fill=\"rgb(42, 152, 190)\"/><path aria-label=\"month: Dec; DOW: Thu; Pickups: 15538782\" role=\"graphics-symbol\" aria-roledescription=\"rect mark\" d=\"M550,171.42857142857144h50v57.142857142857146h-50Z\" fill=\"rgb(51, 164, 193)\"/><path aria-label=\"month: Jan; DOW: Thu; Pickups: 16841692\" role=\"graphics-symbol\" aria-roledescription=\"rect mark\" d=\"M0,171.42857142857144h50v57.142857142857146h-50Z\" fill=\"rgb(33, 118, 179)\"/><path aria-label=\"month: Oct; DOW: Thu; Pickups: 16876521\" role=\"graphics-symbol\" aria-roledescription=\"rect mark\" d=\"M450,171.42857142857144h50v57.142857142857146h-50Z\" fill=\"rgb(33, 117, 178)\"/><path aria-label=\"month: Oct; DOW: Fri; Pickups: 16651012\" role=\"graphics-symbol\" aria-roledescription=\"rect mark\" d=\"M450,228.57142857142858h50v57.142857142857146h-50Z\" fill=\"rgb(33, 126, 182)\"/><path aria-label=\"month: Oct; DOW: Sat; Pickups: 17173539\" role=\"graphics-symbol\" aria-roledescription=\"rect mark\" d=\"M450,285.7142857142857h50v57.142857142857146h-50Z\" fill=\"rgb(33, 105, 173)\"/><path aria-label=\"month: Dec; DOW: Sat; Pickups: 16400176\" role=\"graphics-symbol\" aria-roledescription=\"rect mark\" d=\"M550,285.7142857142857h50v57.142857142857146h-50Z\" fill=\"rgb(35, 135, 185)\"/><path aria-label=\"month: Oct; DOW: Sun; Pickups: 14693618\" role=\"graphics-symbol\" aria-roledescription=\"rect mark\" d=\"M450,342.8571428571429h50v57.142857142857146h-50Z\" fill=\"rgb(81, 186, 193)\"/><path aria-label=\"month: Oct; DOW: Mon; Pickups: 14220409\" role=\"graphics-symbol\" aria-roledescription=\"rect mark\" d=\"M450,0h50v57.142857142857146h-50Z\" fill=\"rgb(102, 196, 190)\"/><path aria-label=\"month: Dec; DOW: Mon; Pickups: 14176084\" role=\"graphics-symbol\" aria-roledescription=\"rect mark\" d=\"M550,0h50v57.142857142857146h-50Z\" fill=\"rgb(104, 197, 190)\"/><path aria-label=\"month: Dec; DOW: Tue; Pickups: 14736294\" role=\"graphics-symbol\" aria-roledescription=\"rect mark\" d=\"M550,57.142857142857146h50v57.142857142857146h-50Z\" fill=\"rgb(79, 185, 193)\"/><path aria-label=\"month: Jan; DOW: Sun; Pickups: 14487165\" role=\"graphics-symbol\" aria-roledescription=\"rect mark\" d=\"M0,342.8571428571429h50v57.142857142857146h-50Z\" fill=\"rgb(90, 190, 192)\"/><path aria-label=\"month: Jan; DOW: Fri; Pickups: 17202086\" role=\"graphics-symbol\" aria-roledescription=\"rect mark\" d=\"M0,228.57142857142858h50v57.142857142857146h-50Z\" fill=\"rgb(33, 104, 172)\"/><path aria-label=\"month: Feb; DOW: Fri; Pickups: 16699803\" role=\"graphics-symbol\" aria-roledescription=\"rect mark\" d=\"M50,228.57142857142858h50v57.142857142857146h-50Z\" fill=\"rgb(33, 124, 181)\"/><path aria-label=\"month: Aug; DOW: Mon; Pickups: 12790221\" role=\"graphics-symbol\" aria-roledescription=\"rect mark\" d=\"M350,0h50v57.142857142857146h-50Z\" fill=\"rgb(178, 225, 182)\"/><path aria-label=\"month: Jan; DOW: Mon; Pickups: 14023126\" role=\"graphics-symbol\" aria-roledescription=\"rect mark\" d=\"M0,0h50v57.142857142857146h-50Z\" fill=\"rgb(112, 200, 189)\"/><path aria-label=\"month: Jan; DOW: Tue; Pickups: 15490167\" role=\"graphics-symbol\" aria-roledescription=\"rect mark\" d=\"M0,57.142857142857146h50v57.142857142857146h-50Z\" fill=\"rgb(52, 165, 193)\"/><path aria-label=\"month: Feb; DOW: Tue; Pickups: 14878721\" role=\"graphics-symbol\" aria-roledescription=\"rect mark\" d=\"M50,57.142857142857146h50v57.142857142857146h-50Z\" fill=\"rgb(72, 182, 194)\"/><path aria-label=\"month: Aug; DOW: Sat; Pickups: 13642082\" role=\"graphics-symbol\" aria-roledescription=\"rect mark\" d=\"M350,285.7142857142857h50v57.142857142857146h-50Z\" fill=\"rgb(133, 207, 187)\"/><path aria-label=\"month: Aug; DOW: Thu; Pickups: 15368420\" role=\"graphics-symbol\" aria-roledescription=\"rect mark\" d=\"M350,171.42857142857144h50v57.142857142857146h-50Z\" fill=\"rgb(56, 168, 193)\"/><path aria-label=\"month: Aug; DOW: Fri; Pickups: 15250681\" role=\"graphics-symbol\" aria-roledescription=\"rect mark\" d=\"M350,228.57142857142858h50v57.142857142857146h-50Z\" fill=\"rgb(60, 172, 193)\"/><path aria-label=\"month: Aug; DOW: Tue; Pickups: 14011871\" role=\"graphics-symbol\" aria-roledescription=\"rect mark\" d=\"M350,57.142857142857146h50v57.142857142857146h-50Z\" fill=\"rgb(113, 200, 189)\"/><path aria-label=\"month: Aug; DOW: Wed; Pickups: 15194329\" role=\"graphics-symbol\" aria-roledescription=\"rect mark\" d=\"M350,114.28571428571429h50v57.142857142857146h-50Z\" fill=\"rgb(61, 173, 193)\"/><path aria-label=\"month: Feb; DOW: Sat; Pickups: 16817217\" role=\"graphics-symbol\" aria-roledescription=\"rect mark\" d=\"M50,285.7142857142857h50v57.142857142857146h-50Z\" fill=\"rgb(33, 119, 179)\"/><path aria-label=\"month: Feb; DOW: Sun; Pickups: 14305229\" role=\"graphics-symbol\" aria-roledescription=\"rect mark\" d=\"M50,342.8571428571429h50v57.142857142857146h-50Z\" fill=\"rgb(98, 194, 191)\"/><path aria-label=\"month: Feb; DOW: Mon; Pickups: 13917041\" role=\"graphics-symbol\" aria-roledescription=\"rect mark\" d=\"M50,0h50v57.142857142857146h-50Z\" fill=\"rgb(118, 202, 188)\"/><path aria-label=\"month: Feb; DOW: Wed; Pickups: 15909633\" role=\"graphics-symbol\" aria-roledescription=\"rect mark\" d=\"M50,114.28571428571429h50v57.142857142857146h-50Z\" fill=\"rgb(42, 152, 190)\"/><path aria-label=\"month: Jan; DOW: Sat; Pickups: 16417576\" role=\"graphics-symbol\" aria-roledescription=\"rect mark\" d=\"M0,285.7142857142857h50v57.142857142857146h-50Z\" fill=\"rgb(35, 134, 185)\"/><path aria-label=\"month: May; DOW: Fri; Pickups: 17138923\" role=\"graphics-symbol\" aria-roledescription=\"rect mark\" d=\"M200,228.57142857142858h50v57.142857142857146h-50Z\" fill=\"rgb(33, 107, 173)\"/><path aria-label=\"month: May; DOW: Thu; Pickups: 17303942\" role=\"graphics-symbol\" aria-roledescription=\"rect mark\" d=\"M200,171.42857142857144h50v57.142857142857146h-50Z\" fill=\"rgb(33, 100, 171)\"/><path aria-label=\"month: May; DOW: Sat; Pickups: 16206007\" role=\"graphics-symbol\" aria-roledescription=\"rect mark\" d=\"M200,285.7142857142857h50v57.142857142857146h-50Z\" fill=\"rgb(38, 142, 187)\"/><path aria-label=\"month: May; DOW: Sun; Pickups: 14463427\" role=\"graphics-symbol\" aria-roledescription=\"rect mark\" d=\"M200,342.8571428571429h50v57.142857142857146h-50Z\" fill=\"rgb(91, 190, 192)\"/><path aria-label=\"month: May; DOW: Tue; Pickups: 16328725\" role=\"graphics-symbol\" aria-roledescription=\"rect mark\" d=\"M200,57.142857142857146h50v57.142857142857146h-50Z\" fill=\"rgb(36, 137, 186)\"/><path aria-label=\"month: May; DOW: Wed; Pickups: 16794516\" role=\"graphics-symbol\" aria-roledescription=\"rect mark\" d=\"M200,114.28571428571429h50v57.142857142857146h-50Z\" fill=\"rgb(33, 120, 180)\"/><path aria-label=\"month: May; DOW: Mon; Pickups: 13906492\" role=\"graphics-symbol\" aria-roledescription=\"rect mark\" d=\"M200,0h50v57.142857142857146h-50Z\" fill=\"rgb(119, 202, 188)\"/><path aria-label=\"month: Aug; DOW: Sun; Pickups: 10980347\" role=\"graphics-symbol\" aria-roledescription=\"rect mark\" d=\"M350,342.8571428571429h50v57.142857142857146h-50Z\" fill=\"rgb(239, 249, 189)\"/><path aria-label=\"month: Dec; DOW: Sun; Pickups: 14161581\" role=\"graphics-symbol\" aria-roledescription=\"rect mark\" d=\"M550,342.8571428571429h50v57.142857142857146h-50Z\" fill=\"rgb(105, 197, 190)\"/></g><g class=\"mark-group role-legend\" role=\"graphics-symbol\" aria-roledescription=\"legend\" aria-label=\"Gradient legend titled 'Pickups' for fill color with values from 10,980,347 to 18,924,387\"><g transform=\"translate(618,0)\"><path class=\"background\" aria-hidden=\"true\" d=\"M0,0h72v216h-72Z\" pointer-events=\"none\"/><g><g class=\"mark-group role-legend-entry\"><g transform=\"translate(0,16)\"><path class=\"background\" aria-hidden=\"true\" d=\"M0,0h0v0h0Z\" pointer-events=\"none\"/><g><g class=\"mark-rect role-legend-gradient\" pointer-events=\"none\"><path d=\"M0,0h16v200h-16Z\" fill=\"url(#gradient_0)\" stroke=\"#ddd\" stroke-width=\"0\" opacity=\"1\"/></g><g class=\"mark-text role-legend-label\" pointer-events=\"none\"><text text-anchor=\"start\" transform=\"translate(18,177.32910710419384)\" font-family=\"sans-serif\" font-size=\"10px\" fill=\"#000\" opacity=\"1\">12,000,000</text><text text-anchor=\"start\" transform=\"translate(18,126.97689336911697)\" font-family=\"sans-serif\" font-size=\"10px\" fill=\"#000\" opacity=\"1\">14,000,000</text><text text-anchor=\"start\" transform=\"translate(18,76.62467963404012)\" font-family=\"sans-serif\" font-size=\"10px\" fill=\"#000\" opacity=\"1\">16,000,000</text><text text-anchor=\"start\" transform=\"translate(18,26.272465898963258)\" font-family=\"sans-serif\" font-size=\"10px\" fill=\"#000\" opacity=\"1\">18,000,000</text></g></g><path class=\"foreground\" aria-hidden=\"true\" d=\"\" pointer-events=\"none\" display=\"none\"/></g></g><g class=\"mark-text role-legend-title\" pointer-events=\"none\"><text text-anchor=\"start\" transform=\"translate(0,9)\" font-family=\"sans-serif\" font-size=\"11px\" font-weight=\"bold\" fill=\"#000\" opacity=\"1\">Pickups</text></g></g><path class=\"foreground\" aria-hidden=\"true\" d=\"\" pointer-events=\"none\" display=\"none\"/></g></g><g class=\"mark-group role-title\"><g transform=\"translate(300,-17)\"><path class=\"background\" aria-hidden=\"true\" d=\"M0,0h0v0h0Z\" pointer-events=\"none\"/><g><g class=\"mark-text role-title-text\" role=\"graphics-symbol\" aria-roledescription=\"title\" aria-label=\"Title text 'Pickup Demand by Month &amp; Weekday'\" pointer-events=\"none\"><text text-anchor=\"middle\" transform=\"translate(0,10)\" font-family=\"sans-serif\" font-size=\"13px\" font-weight=\"bold\" fill=\"#000\" opacity=\"1\">Pickup Demand by Month &amp; Weekday</text></g></g><path class=\"foreground\" aria-hidden=\"true\" d=\"\" pointer-events=\"none\" display=\"none\"/></g></g><g class=\"mark-group role-axis\" role=\"graphics-symbol\" aria-roledescription=\"axis\" aria-label=\"X-axis titled 'month' for a discrete scale with 12 values: Jan, Feb, Mar, Apr, May, ending with Dec\"><g transform=\"translate(0.5,400.5)\"><path class=\"background\" aria-hidden=\"true\" d=\"M0,0h0v0h0Z\" pointer-events=\"none\"/><g><g class=\"mark-rule role-axis-tick\" pointer-events=\"none\"><line transform=\"translate(25,0)\" x2=\"0\" y2=\"5\" stroke=\"#888\" stroke-width=\"1\" opacity=\"1\"/><line transform=\"translate(75,0)\" x2=\"0\" y2=\"5\" stroke=\"#888\" stroke-width=\"1\" opacity=\"1\"/><line transform=\"translate(125,0)\" x2=\"0\" y2=\"5\" stroke=\"#888\" stroke-width=\"1\" opacity=\"1\"/><line transform=\"translate(175,0)\" x2=\"0\" y2=\"5\" stroke=\"#888\" stroke-width=\"1\" opacity=\"1\"/><line transform=\"translate(225,0)\" x2=\"0\" y2=\"5\" stroke=\"#888\" stroke-width=\"1\" opacity=\"1\"/><line transform=\"translate(275,0)\" x2=\"0\" y2=\"5\" stroke=\"#888\" stroke-width=\"1\" opacity=\"1\"/><line transform=\"translate(325,0)\" x2=\"0\" y2=\"5\" stroke=\"#888\" stroke-width=\"1\" opacity=\"1\"/><line transform=\"translate(375,0)\" x2=\"0\" y2=\"5\" stroke=\"#888\" stroke-width=\"1\" opacity=\"1\"/><line transform=\"translate(425,0)\" x2=\"0\" y2=\"5\" stroke=\"#888\" stroke-width=\"1\" opacity=\"1\"/><line transform=\"translate(475,0)\" x2=\"0\" y2=\"5\" stroke=\"#888\" stroke-width=\"1\" opacity=\"1\"/><line transform=\"translate(525,0)\" x2=\"0\" y2=\"5\" stroke=\"#888\" stroke-width=\"1\" opacity=\"1\"/><line transform=\"translate(575,0)\" x2=\"0\" y2=\"5\" stroke=\"#888\" stroke-width=\"1\" opacity=\"1\"/></g><g class=\"mark-text role-axis-label\" pointer-events=\"none\"><text text-anchor=\"end\" transform=\"translate(24.5,7) rotate(270) translate(0,3)\" font-family=\"sans-serif\" font-size=\"10px\" fill=\"#000\" opacity=\"1\">Jan</text><text text-anchor=\"end\" transform=\"translate(74.5,7) rotate(270) translate(0,3)\" font-family=\"sans-serif\" font-size=\"10px\" fill=\"#000\" opacity=\"1\">Feb</text><text text-anchor=\"end\" transform=\"translate(124.5,7) rotate(270) translate(0,3)\" font-family=\"sans-serif\" font-size=\"10px\" fill=\"#000\" opacity=\"1\">Mar</text><text text-anchor=\"end\" transform=\"translate(174.5,7) rotate(270) translate(0,3)\" font-family=\"sans-serif\" font-size=\"10px\" fill=\"#000\" opacity=\"1\">Apr</text><text text-anchor=\"end\" transform=\"translate(224.5,7) rotate(270) translate(0,3)\" font-family=\"sans-serif\" font-size=\"10px\" fill=\"#000\" opacity=\"1\">May</text><text text-anchor=\"end\" transform=\"translate(274.5,7) rotate(270) translate(0,3)\" font-family=\"sans-serif\" font-size=\"10px\" fill=\"#000\" opacity=\"1\">Jun</text><text text-anchor=\"end\" transform=\"translate(324.5,7) rotate(270) translate(0,3)\" font-family=\"sans-serif\" font-size=\"10px\" fill=\"#000\" opacity=\"1\">Jul</text><text text-anchor=\"end\" transform=\"translate(374.5,7) rotate(270) translate(0,3)\" font-family=\"sans-serif\" font-size=\"10px\" fill=\"#000\" opacity=\"1\">Aug</text><text text-anchor=\"end\" transform=\"translate(424.5,7) rotate(270) translate(0,3)\" font-family=\"sans-serif\" font-size=\"10px\" fill=\"#000\" opacity=\"1\">Sep</text><text text-anchor=\"end\" transform=\"translate(474.5,7) rotate(270) translate(0,3)\" font-family=\"sans-serif\" font-size=\"10px\" fill=\"#000\" opacity=\"1\">Oct</text><text text-anchor=\"end\" transform=\"translate(524.5,7) rotate(270) translate(0,3)\" font-family=\"sans-serif\" font-size=\"10px\" fill=\"#000\" opacity=\"1\">Nov</text><text text-anchor=\"end\" transform=\"translate(574.5,7) rotate(270) translate(0,3)\" font-family=\"sans-serif\" font-size=\"10px\" fill=\"#000\" opacity=\"1\">Dec</text></g><g class=\"mark-rule role-axis-domain\" pointer-events=\"none\"><line transform=\"translate(0,0)\" x2=\"600\" y2=\"0\" stroke=\"#888\" stroke-width=\"1\" opacity=\"1\"/></g><g class=\"mark-text role-axis-title\" pointer-events=\"none\"><text text-anchor=\"middle\" transform=\"translate(300,39)\" font-family=\"sans-serif\" font-size=\"11px\" font-weight=\"bold\" fill=\"#000\" opacity=\"1\">month</text></g></g><path class=\"foreground\" aria-hidden=\"true\" d=\"\" pointer-events=\"none\" display=\"none\"/></g></g><g class=\"mark-group role-axis\" role=\"graphics-symbol\" aria-roledescription=\"axis\" aria-label=\"Y-axis titled 'DOW' for a discrete scale with 7 values: Mon, Tue, Wed, Thu, Fri, Sat, Sun\"><g transform=\"translate(0.5,0.5)\"><path class=\"background\" aria-hidden=\"true\" d=\"M0,0h0v0h0Z\" pointer-events=\"none\"/><g><g class=\"mark-rule role-axis-tick\" pointer-events=\"none\"><line transform=\"translate(0,28)\" x2=\"-5\" y2=\"0\" stroke=\"#888\" stroke-width=\"1\" opacity=\"1\"/><line transform=\"translate(0,85)\" x2=\"-5\" y2=\"0\" stroke=\"#888\" stroke-width=\"1\" opacity=\"1\"/><line transform=\"translate(0,142)\" x2=\"-5\" y2=\"0\" stroke=\"#888\" stroke-width=\"1\" opacity=\"1\"/><line transform=\"translate(0,200)\" x2=\"-5\" y2=\"0\" stroke=\"#888\" stroke-width=\"1\" opacity=\"1\"/><line transform=\"translate(0,257)\" x2=\"-5\" y2=\"0\" stroke=\"#888\" stroke-width=\"1\" opacity=\"1\"/><line transform=\"translate(0,314)\" x2=\"-5\" y2=\"0\" stroke=\"#888\" stroke-width=\"1\" opacity=\"1\"/><line transform=\"translate(0,371)\" x2=\"-5\" y2=\"0\" stroke=\"#888\" stroke-width=\"1\" opacity=\"1\"/></g><g class=\"mark-text role-axis-label\" pointer-events=\"none\"><text text-anchor=\"end\" transform=\"translate(-7,31.071428571428573)\" font-family=\"sans-serif\" font-size=\"10px\" fill=\"#000\" opacity=\"1\">Mon</text><text text-anchor=\"end\" transform=\"translate(-7,88.21428571428572)\" font-family=\"sans-serif\" font-size=\"10px\" fill=\"#000\" opacity=\"1\">Tue</text><text text-anchor=\"end\" transform=\"translate(-7,145.35714285714286)\" font-family=\"sans-serif\" font-size=\"10px\" fill=\"#000\" opacity=\"1\">Wed</text><text text-anchor=\"end\" transform=\"translate(-7,202.50000000000003)\" font-family=\"sans-serif\" font-size=\"10px\" fill=\"#000\" opacity=\"1\">Thu</text><text text-anchor=\"end\" transform=\"translate(-7,259.64285714285717)\" font-family=\"sans-serif\" font-size=\"10px\" fill=\"#000\" opacity=\"1\">Fri</text><text text-anchor=\"end\" transform=\"translate(-7,316.7857142857143)\" font-family=\"sans-serif\" font-size=\"10px\" fill=\"#000\" opacity=\"1\">Sat</text><text text-anchor=\"end\" transform=\"translate(-7,373.92857142857144)\" font-family=\"sans-serif\" font-size=\"10px\" fill=\"#000\" opacity=\"1\">Sun</text></g><g class=\"mark-rule role-axis-domain\" pointer-events=\"none\"><line transform=\"translate(0,0)\" x2=\"0\" y2=\"400\" stroke=\"#888\" stroke-width=\"1\" opacity=\"1\"/></g><g class=\"mark-text role-axis-title\" pointer-events=\"none\"><text text-anchor=\"middle\" transform=\"translate(-31,200) rotate(-90) translate(0,-2)\" font-family=\"sans-serif\" font-size=\"11px\" font-weight=\"bold\" fill=\"#000\" opacity=\"1\">DOW</text></g></g><path class=\"foreground\" aria-hidden=\"true\" d=\"\" pointer-events=\"none\" display=\"none\"/></g></g></g><path class=\"foreground\" aria-hidden=\"true\" d=\"\" display=\"none\"/></g></g></g><defs><linearGradient id=\"gradient_0\" x1=\"0\" x2=\"0\" y1=\"1\" y2=\"0\"><stop offset=\"0\" stop-color=\"rgb(239, 249, 189)\"/><stop offset=\"0.002473930141338664\" stop-color=\"rgb(239, 249, 189)\"/><stop offset=\"0.06541419731018475\" stop-color=\"rgb(226, 244, 183)\"/><stop offset=\"0.12835446447903082\" stop-color=\"rgb(210, 238, 180)\"/><stop offset=\"0.1912947316478769\" stop-color=\"rgb(192, 230, 181)\"/><stop offset=\"0.25423499881672296\" stop-color=\"rgb(167, 220, 183)\"/><stop offset=\"0.31717526598556905\" stop-color=\"rgb(141, 210, 186)\"/><stop offset=\"0.38011553315441515\" stop-color=\"rgb(114, 200, 189)\"/><stop offset=\"0.4430558003232612\" stop-color=\"rgb(89, 190, 192)\"/><stop offset=\"0.5059960674921072\" stop-color=\"rgb(68, 179, 194)\"/><stop offset=\"0.5689363346609534\" stop-color=\"rgb(52, 165, 193)\"/><stop offset=\"0.6318766018297994\" stop-color=\"rgb(40, 149, 189)\"/><stop offset=\"0.6948168689986455\" stop-color=\"rgb(34, 131, 184)\"/><stop offset=\"0.7577571361674916\" stop-color=\"rgb(33, 112, 176)\"/><stop offset=\"0.8206974033363377\" stop-color=\"rgb(33, 93, 167)\"/><stop offset=\"0.8836376705051837\" stop-color=\"rgb(35, 76, 158)\"/><stop offset=\"0.9465779376740299\" stop-color=\"rgb(32, 61, 145)\"/><stop offset=\"1\" stop-color=\"rgb(28, 49, 133)\"/></linearGradient></defs></svg>\n"
      ],
      "text/plain": [
       "@vlplot(\n",
       "    mark={\n",
       "        tooltip=true,\n",
       "        type=\"rect\"\n",
       "    },\n",
       "    width=600,\n",
       "    height=400,\n",
       "    title=\"Pickup Demand by Month & Weekday\",\n",
       "    encoding={\n",
       "        x={\n",
       "            type=\"ordinal\",\n",
       "            sort=[\n",
       "                \"Jan\",\n",
       "                \"Feb\",\n",
       "                \"Mar\",\n",
       "                \"Apr\",\n",
       "                \"May\",\n",
       "                \"Jun\",\n",
       "                \"Jul\",\n",
       "                \"Aug\",\n",
       "                \"Sep\",\n",
       "                \"Oct\",\n",
       "                \"Nov\",\n",
       "                \"Dec\"\n",
       "            ],\n",
       "            field=\"month\"\n",
       "        },\n",
       "        y={\n",
       "            type=\"ordinal\",\n",
       "            sort=[\n",
       "                \"Mon\",\n",
       "                \"Tue\",\n",
       "                \"Wed\",\n",
       "                \"Thu\",\n",
       "                \"Fri\",\n",
       "                \"Sat\"\n",
       "            ],\n",
       "            field=\"DOW\"\n",
       "        },\n",
       "        color={\n",
       "            title=\"Pickups\",\n",
       "            field=\"cnt\"\n",
       "        }\n",
       "    },\n",
       "    data={\n",
       "        values=...\n",
       "    }\n",
       ")"
      ]
     },
     "execution_count": 23,
     "metadata": {},
     "output_type": "execute_result"
    }
   ],
   "source": [
    "result = query_ridership_week_and_month(ydb, table; plot=true)\n",
    "result.plot"
   ]
  },
  {
   "cell_type": "code",
   "execution_count": 24,
   "id": "d92dab07-bb8e-4940-98f0-71102177ba27",
   "metadata": {},
   "outputs": [
    {
     "data": {
      "application/vnd.vegalite.v4+json": {
       "data": {
        "values": [
         {
          "DOW": "Fri",
          "PickupHour": 0,
          "cnt": 7713682
         },
         {
          "DOW": "Fri",
          "PickupHour": 1,
          "cnt": 5071352
         },
         {
          "DOW": "Fri",
          "PickupHour": 2,
          "cnt": 3340041
         },
         {
          "DOW": "Fri",
          "PickupHour": 3,
          "cnt": 2208207
         },
         {
          "DOW": "Fri",
          "PickupHour": 4,
          "cnt": 1747313
         },
         {
          "DOW": "Fri",
          "PickupHour": 5,
          "cnt": 1971338
         },
         {
          "DOW": "Fri",
          "PickupHour": 6,
          "cnt": 4654198
         },
         {
          "DOW": "Fri",
          "PickupHour": 7,
          "cnt": 8151064
         },
         {
          "DOW": "Fri",
          "PickupHour": 8,
          "cnt": 9924148
         },
         {
          "DOW": "Fri",
          "PickupHour": 9,
          "cnt": 9609446
         },
         {
          "DOW": "Fri",
          "PickupHour": 10,
          "cnt": 8909591
         },
         {
          "DOW": "Fri",
          "PickupHour": 11,
          "cnt": 9015076
         },
         {
          "DOW": "Fri",
          "PickupHour": 12,
          "cnt": 9313704
         },
         {
          "DOW": "Fri",
          "PickupHour": 13,
          "cnt": 9199654
         },
         {
          "DOW": "Fri",
          "PickupHour": 14,
          "cnt": 9846096
         },
         {
          "DOW": "Fri",
          "PickupHour": 15,
          "cnt": 9177751
         },
         {
          "DOW": "Fri",
          "PickupHour": 16,
          "cnt": 7895470
         },
         {
          "DOW": "Fri",
          "PickupHour": 17,
          "cnt": 9710349
         },
         {
          "DOW": "Fri",
          "PickupHour": 18,
          "cnt": 11843392
         },
         {
          "DOW": "Fri",
          "PickupHour": 19,
          "cnt": 12524379
         },
         {
          "DOW": "Fri",
          "PickupHour": 20,
          "cnt": 11543572
         },
         {
          "DOW": "Fri",
          "PickupHour": 21,
          "cnt": 11316824
         },
         {
          "DOW": "Fri",
          "PickupHour": 22,
          "cnt": 11682646
         },
         {
          "DOW": "Fri",
          "PickupHour": 23,
          "cnt": 11459532
         },
         {
          "DOW": "Sat",
          "PickupHour": 0,
          "cnt": 10458820
         },
         {
          "DOW": "Sat",
          "PickupHour": 1,
          "cnt": 8900598
         },
         {
          "DOW": "Sat",
          "PickupHour": 2,
          "cnt": 7304697
         },
         {
          "DOW": "Sat",
          "PickupHour": 3,
          "cnt": 5408518
         },
         {
          "DOW": "Sat",
          "PickupHour": 4,
          "cnt": 3461247
         },
         {
          "DOW": "Sat",
          "PickupHour": 5,
          "cnt": 1756247
         },
         {
          "DOW": "Sat",
          "PickupHour": 6,
          "cnt": 2130600
         },
         {
          "DOW": "Sat",
          "PickupHour": 7,
          "cnt": 3116198
         },
         {
          "DOW": "Sat",
          "PickupHour": 8,
          "cnt": 4704100
         },
         {
          "DOW": "Sat",
          "PickupHour": 9,
          "cnt": 6684974
         },
         {
          "DOW": "Sat",
          "PickupHour": 10,
          "cnt": 8063161
         },
         {
          "DOW": "Sat",
          "PickupHour": 11,
          "cnt": 9056195
         },
         {
          "DOW": "Sat",
          "PickupHour": 12,
          "cnt": 9769389
         },
         {
          "DOW": "Sat",
          "PickupHour": 13,
          "cnt": 9970433
         },
         {
          "DOW": "Sat",
          "PickupHour": 14,
          "cnt": 9693755
         },
         {
          "DOW": "Sat",
          "PickupHour": 15,
          "cnt": 9679323
         },
         {
          "DOW": "Sat",
          "PickupHour": 16,
          "cnt": 8763351
         },
         {
          "DOW": "Sat",
          "PickupHour": 17,
          "cnt": 9807984
         },
         {
          "DOW": "Sat",
          "PickupHour": 18,
          "cnt": 11202632
         },
         {
          "DOW": "Sat",
          "PickupHour": 19,
          "cnt": 11674811
         },
         {
          "DOW": "Sat",
          "PickupHour": 20,
          "cnt": 10412905
         },
         {
          "DOW": "Sat",
          "PickupHour": 21,
          "cnt": 10330392
         },
         {
          "DOW": "Sat",
          "PickupHour": 22,
          "cnt": 11153827
         },
         {
          "DOW": "Sat",
          "PickupHour": 23,
          "cnt": 11453687
         },
         {
          "DOW": "Sun",
          "PickupHour": 0,
          "cnt": 10644613
         },
         {
          "DOW": "Sun",
          "PickupHour": 1,
          "cnt": 9538074
         },
         {
          "DOW": "Sun",
          "PickupHour": 2,
          "cnt": 7726327
         },
         {
          "DOW": "Sun",
          "PickupHour": 3,
          "cnt": 6099577
         },
         {
          "DOW": "Sun",
          "PickupHour": 4,
          "cnt": 3897294
         },
         {
          "DOW": "Sun",
          "PickupHour": 5,
          "cnt": 1813963
         },
         {
          "DOW": "Sun",
          "PickupHour": 6,
          "cnt": 1820636
         },
         {
          "DOW": "Sun",
          "PickupHour": 7,
          "cnt": 2412709
         },
         {
          "DOW": "Sun",
          "PickupHour": 8,
          "cnt": 3592624
         },
         {
          "DOW": "Sun",
          "PickupHour": 9,
          "cnt": 5334833
         },
         {
          "DOW": "Sun",
          "PickupHour": 10,
          "cnt": 7290148
         },
         {
          "DOW": "Sun",
          "PickupHour": 11,
          "cnt": 8466706
         },
         {
          "DOW": "Sun",
          "PickupHour": 12,
          "cnt": 9208783
         },
         {
          "DOW": "Sun",
          "PickupHour": 13,
          "cnt": 9275283
         },
         {
          "DOW": "Sun",
          "PickupHour": 14,
          "cnt": 9276544
         },
         {
          "DOW": "Sun",
          "PickupHour": 15,
          "cnt": 8881265
         },
         {
          "DOW": "Sun",
          "PickupHour": 16,
          "cnt": 8390000
         },
         {
          "DOW": "Sun",
          "PickupHour": 17,
          "cnt": 8900858
         },
         {
          "DOW": "Sun",
          "PickupHour": 18,
          "cnt": 9386752
         },
         {
          "DOW": "Sun",
          "PickupHour": 19,
          "cnt": 8717993
         },
         {
          "DOW": "Sun",
          "PickupHour": 20,
          "cnt": 7921584
         },
         {
          "DOW": "Sun",
          "PickupHour": 21,
          "cnt": 7541907
         },
         {
          "DOW": "Sun",
          "PickupHour": 22,
          "cnt": 6888044
         },
         {
          "DOW": "Sun",
          "PickupHour": 23,
          "cnt": 5551989
         },
         {
          "DOW": "Mon",
          "PickupHour": 0,
          "cnt": 3852700
         },
         {
          "DOW": "Mon",
          "PickupHour": 1,
          "cnt": 2343771
         },
         {
          "DOW": "Mon",
          "PickupHour": 2,
          "cnt": 1540124
         },
         {
          "DOW": "Mon",
          "PickupHour": 3,
          "cnt": 1078027
         },
         {
          "DOW": "Mon",
          "PickupHour": 4,
          "cnt": 1132490
         },
         {
          "DOW": "Mon",
          "PickupHour": 5,
          "cnt": 1791388
         },
         {
          "DOW": "Mon",
          "PickupHour": 6,
          "cnt": 4470974
         },
         {
          "DOW": "Mon",
          "PickupHour": 7,
          "cnt": 7541066
         },
         {
          "DOW": "Mon",
          "PickupHour": 8,
          "cnt": 9085095
         },
         {
          "DOW": "Mon",
          "PickupHour": 9,
          "cnt": 8818479
         },
         {
          "DOW": "Mon",
          "PickupHour": 10,
          "cnt": 8004399
         },
         {
          "DOW": "Mon",
          "PickupHour": 11,
          "cnt": 8018453
         },
         {
          "DOW": "Mon",
          "PickupHour": 12,
          "cnt": 8429912
         },
         {
          "DOW": "Mon",
          "PickupHour": 13,
          "cnt": 8433910
         },
         {
          "DOW": "Mon",
          "PickupHour": 14,
          "cnt": 9045783
         },
         {
          "DOW": "Mon",
          "PickupHour": 15,
          "cnt": 9020956
         },
         {
          "DOW": "Mon",
          "PickupHour": 16,
          "cnt": 8169459
         },
         {
          "DOW": "Mon",
          "PickupHour": 17,
          "cnt": 9649443
         },
         {
          "DOW": "Mon",
          "PickupHour": 18,
          "cnt": 11263610
         },
         {
          "DOW": "Mon",
          "PickupHour": 19,
          "cnt": 10941817
         },
         {
          "DOW": "Mon",
          "PickupHour": 20,
          "cnt": 10059103
         },
         {
          "DOW": "Mon",
          "PickupHour": 21,
          "cnt": 9590654
         },
         {
          "DOW": "Mon",
          "PickupHour": 22,
          "cnt": 8446828
         },
         {
          "DOW": "Mon",
          "PickupHour": 23,
          "cnt": 6200001
         },
         {
          "DOW": "Tue",
          "PickupHour": 0,
          "cnt": 4074129
         },
         {
          "DOW": "Tue",
          "PickupHour": 2,
          "cnt": 1480476
         },
         {
          "DOW": "Tue",
          "PickupHour": 3,
          "cnt": 983345
         },
         {
          "DOW": "Tue",
          "PickupHour": 4,
          "cnt": 982845
         },
         {
          "DOW": "Tue",
          "PickupHour": 5,
          "cnt": 1730510
         },
         {
          "DOW": "Tue",
          "PickupHour": 6,
          "cnt": 4779347
         },
         {
          "DOW": "Tue",
          "PickupHour": 9,
          "cnt": 9801557
         },
         {
          "DOW": "Tue",
          "PickupHour": 10,
          "cnt": 8841992
         },
         {
          "DOW": "Tue",
          "PickupHour": 11,
          "cnt": 8775037
         },
         {
          "DOW": "Tue",
          "PickupHour": 12,
          "cnt": 9169626
         },
         {
          "DOW": "Tue",
          "PickupHour": 14,
          "cnt": 9694200
         },
         {
          "DOW": "Tue",
          "PickupHour": 15,
          "cnt": 9332305
         },
         {
          "DOW": "Tue",
          "PickupHour": 16,
          "cnt": 8024280
         },
         {
          "DOW": "Tue",
          "PickupHour": 17,
          "cnt": 9771739
         },
         {
          "DOW": "Tue",
          "PickupHour": 18,
          "cnt": 11881641
         },
         {
          "DOW": "Tue",
          "PickupHour": 19,
          "cnt": 11906309
         },
         {
          "DOW": "Tue",
          "PickupHour": 20,
          "cnt": 11327319
         },
         {
          "DOW": "Tue",
          "PickupHour": 21,
          "cnt": 11229441
         },
         {
          "DOW": "Tue",
          "PickupHour": 22,
          "cnt": 10131714
         },
         {
          "DOW": "Tue",
          "PickupHour": 23,
          "cnt": 7711251
         },
         {
          "DOW": "Wed",
          "PickupHour": 0,
          "cnt": 5019567
         },
         {
          "DOW": "Wed",
          "PickupHour": 2,
          "cnt": 1844940
         },
         {
          "DOW": "Wed",
          "PickupHour": 3,
          "cnt": 1225914
         },
         {
          "DOW": "Wed",
          "PickupHour": 4,
          "cnt": 1132391
         },
         {
          "DOW": "Wed",
          "PickupHour": 5,
          "cnt": 1765854
         },
         {
          "DOW": "Wed",
          "PickupHour": 6,
          "cnt": 4829743
         },
         {
          "DOW": "Wed",
          "PickupHour": 8,
          "cnt": 10485313
         },
         {
          "DOW": "Wed",
          "PickupHour": 9,
          "cnt": 9993648
         },
         {
          "DOW": "Wed",
          "PickupHour": 10,
          "cnt": 9058740
         },
         {
          "DOW": "Wed",
          "PickupHour": 11,
          "cnt": 9084753
         },
         {
          "DOW": "Wed",
          "PickupHour": 12,
          "cnt": 9474341
         },
         {
          "DOW": "Wed",
          "PickupHour": 13,
          "cnt": 9358019
         },
         {
          "DOW": "Wed",
          "PickupHour": 14,
          "cnt": 9765416
         },
         {
          "DOW": "Wed",
          "PickupHour": 15,
          "cnt": 9309229
         },
         {
          "DOW": "Wed",
          "PickupHour": 16,
          "cnt": 7941043
         },
         {
          "DOW": "Wed",
          "PickupHour": 17,
          "cnt": 9723531
         },
         {
          "DOW": "Wed",
          "PickupHour": 18,
          "cnt": 11858116
         },
         {
          "DOW": "Wed",
          "PickupHour": 19,
          "cnt": 12250936
         },
         {
          "DOW": "Wed",
          "PickupHour": 21,
          "cnt": 11672256
         },
         {
          "DOW": "Wed",
          "PickupHour": 22,
          "cnt": 10881972
         },
         {
          "DOW": "Wed",
          "PickupHour": 23,
          "cnt": 8684595
         },
         {
          "DOW": "Thu",
          "PickupHour": 0,
          "cnt": 5795727
         },
         {
          "DOW": "Thu",
          "PickupHour": 1,
          "cnt": 3470407
         },
         {
          "DOW": "Thu",
          "PickupHour": 2,
          "cnt": 2183454
         },
         {
          "DOW": "Thu",
          "PickupHour": 3,
          "cnt": 1432794
         },
         {
          "DOW": "Thu",
          "PickupHour": 4,
          "cnt": 1273200
         },
         {
          "DOW": "Thu",
          "PickupHour": 5,
          "cnt": 1832472
         },
         {
          "DOW": "Thu",
          "PickupHour": 6,
          "cnt": 4860323
         },
         {
          "DOW": "Thu",
          "PickupHour": 7,
          "cnt": 8728340
         },
         {
          "DOW": "Thu",
          "PickupHour": 8,
          "cnt": 10412499
         },
         {
          "DOW": "Thu",
          "PickupHour": 9,
          "cnt": 9943405
         },
         {
          "DOW": "Thu",
          "PickupHour": 10,
          "cnt": 9086695
         },
         {
          "DOW": "Thu",
          "PickupHour": 11,
          "cnt": 9083255
         },
         {
          "DOW": "Thu",
          "PickupHour": 12,
          "cnt": 9488279
         },
         {
          "DOW": "Thu",
          "PickupHour": 13,
          "cnt": 9392114
         },
         {
          "DOW": "Thu",
          "PickupHour": 14,
          "cnt": 9904388
         },
         {
          "DOW": "Thu",
          "PickupHour": 15,
          "cnt": 9324076
         },
         {
          "DOW": "Thu",
          "PickupHour": 16,
          "cnt": 7856361
         },
         {
          "DOW": "Thu",
          "PickupHour": 17,
          "cnt": 9636414
         },
         {
          "DOW": "Thu",
          "PickupHour": 18,
          "cnt": 11836418
         },
         {
          "DOW": "Thu",
          "PickupHour": 19,
          "cnt": 12370645
         },
         {
          "DOW": "Thu",
          "PickupHour": 20,
          "cnt": 12006813
         },
         {
          "DOW": "Thu",
          "PickupHour": 21,
          "cnt": 12054581
         },
         {
          "DOW": "Thu",
          "PickupHour": 22,
          "cnt": 11538512
         },
         {
          "DOW": "Thu",
          "PickupHour": 23,
          "cnt": 10138032
         },
         {
          "DOW": "Tue",
          "PickupHour": 1,
          "cnt": 2388637
         },
         {
          "DOW": "Tue",
          "PickupHour": 7,
          "cnt": 8537980
         },
         {
          "DOW": "Tue",
          "PickupHour": 8,
          "cnt": 10278478
         },
         {
          "DOW": "Tue",
          "PickupHour": 13,
          "cnt": 9102633
         },
         {
          "DOW": "Wed",
          "PickupHour": 1,
          "cnt": 2955400
         },
         {
          "DOW": "Wed",
          "PickupHour": 7,
          "cnt": 8735288
         },
         {
          "DOW": "Wed",
          "PickupHour": 20,
          "cnt": 11702535
         }
        ]
       },
       "encoding": {
        "color": {
         "field": "cnt",
         "title": "Pickups",
         "type": "quantitative"
        },
        "x": {
         "field": "DOW",
         "sort": [
          "Mon",
          "Tue",
          "Wed",
          "Thu",
          "Fri",
          "Sat"
         ],
         "type": "ordinal"
        },
        "y": {
         "field": "PickupHour",
         "type": "ordinal"
        }
       },
       "height": 400,
       "mark": {
        "tooltip": true,
        "type": "rect"
       },
       "title": "Pickup Demand by Day & Hour",
       "width": 600
      },
      "image/png": "[encoded data removed]",
      "image/svg+xml": [
       "<?xml version=\"1.0\" encoding=\"utf-8\"?>\n",
       "<!DOCTYPE svg PUBLIC \"-//W3C//DTD SVG 1.1//EN\" \"http://www.w3.org/Graphics/SVG/1.1/DTD/svg11.dtd\">\n",
       "<svg xmlns=\"http://www.w3.org/2000/svg\" xmlns:xlink=\"http://www.w3.org/1999/xlink\" version=\"1.1\" class=\"marks\" width=\"734\" height=\"469\" viewBox=\"0 0 734 469\"><rect width=\"734\" height=\"469\" fill=\"white\"/><g fill=\"none\" stroke-miterlimit=\"10\" transform=\"translate(39,22)\"><g class=\"mark-group role-frame root\" role=\"graphics-object\" aria-roledescription=\"group mark container\"><g transform=\"translate(0,0)\"><path class=\"background\" aria-hidden=\"true\" d=\"M0.5,0.5h600v400h-600Z\" stroke=\"#ddd\"/><g><g class=\"mark-rect role-mark marks\" role=\"graphics-object\" aria-roledescription=\"rect mark container\"><path aria-label=\"DOW: Fri; PickupHour: 0; Pickups: 7713682\" role=\"graphics-symbol\" aria-roledescription=\"rect mark\" d=\"M342.85714285714283,0h85.71428571428571v16.666666666666668h-85.71428571428571Z\" fill=\"rgb(48, 162, 192)\"/><path aria-label=\"DOW: Fri; PickupHour: 1; Pickups: 5071352\" role=\"graphics-symbol\" aria-roledescription=\"rect mark\" d=\"M342.85714285714283,16.666666666666668h85.71428571428571v16.666666666666668h-85.71428571428571Z\" fill=\"rgb(125, 204, 188)\"/><path aria-label=\"DOW: Fri; PickupHour: 2; Pickups: 3340041\" role=\"graphics-symbol\" aria-roledescription=\"rect mark\" d=\"M342.85714285714283,33.333333333333336h85.71428571428571v16.666666666666668h-85.71428571428571Z\" fill=\"rgb(187, 228, 181)\"/><path aria-label=\"DOW: Fri; PickupHour: 3; Pickups: 2208207\" role=\"graphics-symbol\" aria-roledescription=\"rect mark\" d=\"M342.85714285714283,50h85.71428571428571v16.666666666666668h-85.71428571428571Z\" fill=\"rgb(217, 240, 180)\"/><path aria-label=\"DOW: Fri; PickupHour: 4; Pickups: 1747313\" role=\"graphics-symbol\" aria-roledescription=\"rect mark\" d=\"M342.85714285714283,66.66666666666667h85.71428571428571v16.666666666666668h-85.71428571428571Z\" fill=\"rgb(226, 244, 183)\"/><path aria-label=\"DOW: Fri; PickupHour: 5; Pickups: 1971338\" role=\"graphics-symbol\" aria-roledescription=\"rect mark\" d=\"M342.85714285714283,83.33333333333334h85.71428571428571v16.666666666666668h-85.71428571428571Z\" fill=\"rgb(222, 242, 181)\"/><path aria-label=\"DOW: Fri; PickupHour: 6; Pickups: 4654198\" role=\"graphics-symbol\" aria-roledescription=\"rect mark\" d=\"M342.85714285714283,100h85.71428571428571v16.666666666666668h-85.71428571428571Z\" fill=\"rgb(140, 210, 186)\"/><path aria-label=\"DOW: Fri; PickupHour: 7; Pickups: 8151064\" role=\"graphics-symbol\" aria-roledescription=\"rect mark\" d=\"M342.85714285714283,116.66666666666667h85.71428571428571v16.666666666666668h-85.71428571428571Z\" fill=\"rgb(42, 152, 190)\"/><path aria-label=\"DOW: Fri; PickupHour: 8; Pickups: 9924148\" role=\"graphics-symbol\" aria-roledescription=\"rect mark\" d=\"M342.85714285714283,133.33333333333334h85.71428571428571v16.666666666666668h-85.71428571428571Z\" fill=\"rgb(33, 107, 174)\"/><path aria-label=\"DOW: Fri; PickupHour: 9; Pickups: 9609446\" role=\"graphics-symbol\" aria-roledescription=\"rect mark\" d=\"M342.85714285714283,150h85.71428571428571v16.666666666666668h-85.71428571428571Z\" fill=\"rgb(33, 115, 177)\"/><path aria-label=\"DOW: Fri; PickupHour: 10; Pickups: 8909591\" role=\"graphics-symbol\" aria-roledescription=\"rect mark\" d=\"M342.85714285714283,166.66666666666669h85.71428571428571v16.666666666666668h-85.71428571428571Z\" fill=\"rgb(34, 134, 185)\"/><path aria-label=\"DOW: Fri; PickupHour: 11; Pickups: 9015076\" role=\"graphics-symbol\" aria-roledescription=\"rect mark\" d=\"M342.85714285714283,183.33333333333334h85.71428571428571v16.666666666666668h-85.71428571428571Z\" fill=\"rgb(33, 131, 184)\"/><path aria-label=\"DOW: Fri; PickupHour: 12; Pickups: 9313704\" role=\"graphics-symbol\" aria-roledescription=\"rect mark\" d=\"M342.85714285714283,200h85.71428571428571v16.666666666666668h-85.71428571428571Z\" fill=\"rgb(33, 123, 181)\"/><path aria-label=\"DOW: Fri; PickupHour: 13; Pickups: 9199654\" role=\"graphics-symbol\" aria-roledescription=\"rect mark\" d=\"M342.85714285714283,216.66666666666669h85.71428571428571v16.666666666666668h-85.71428571428571Z\" fill=\"rgb(33, 126, 182)\"/><path aria-label=\"DOW: Fri; PickupHour: 14; Pickups: 9846096\" role=\"graphics-symbol\" aria-roledescription=\"rect mark\" d=\"M342.85714285714283,233.33333333333334h85.71428571428571v16.666666666666668h-85.71428571428571Z\" fill=\"rgb(33, 109, 174)\"/><path aria-label=\"DOW: Fri; PickupHour: 15; Pickups: 9177751\" role=\"graphics-symbol\" aria-roledescription=\"rect mark\" d=\"M342.85714285714283,250.00000000000003h85.71428571428571v16.666666666666668h-85.71428571428571Z\" fill=\"rgb(33, 127, 183)\"/><path aria-label=\"DOW: Fri; PickupHour: 16; Pickups: 7895470\" role=\"graphics-symbol\" aria-roledescription=\"rect mark\" d=\"M342.85714285714283,266.6666666666667h85.71428571428571v16.666666666666668h-85.71428571428571Z\" fill=\"rgb(44, 158, 192)\"/><path aria-label=\"DOW: Fri; PickupHour: 17; Pickups: 9710349\" role=\"graphics-symbol\" aria-roledescription=\"rect mark\" d=\"M342.85714285714283,283.33333333333337h85.71428571428571v16.666666666666668h-85.71428571428571Z\" fill=\"rgb(33, 113, 176)\"/><path aria-label=\"DOW: Fri; PickupHour: 18; Pickups: 11843392\" role=\"graphics-symbol\" aria-roledescription=\"rect mark\" d=\"M342.85714285714283,300h85.71428571428571v16.666666666666668h-85.71428571428571Z\" fill=\"rgb(32, 62, 147)\"/><path aria-label=\"DOW: Fri; PickupHour: 19; Pickups: 12524379\" role=\"graphics-symbol\" aria-roledescription=\"rect mark\" d=\"M342.85714285714283,316.6666666666667h85.71428571428571v16.666666666666668h-85.71428571428571Z\" fill=\"rgb(28, 49, 133)\"/><path aria-label=\"DOW: Fri; PickupHour: 20; Pickups: 11543572\" role=\"graphics-symbol\" aria-roledescription=\"rect mark\" d=\"M342.85714285714283,333.33333333333337h85.71428571428571v16.666666666666668h-85.71428571428571Z\" fill=\"rgb(34, 68, 153)\"/><path aria-label=\"DOW: Fri; PickupHour: 21; Pickups: 11316824\" role=\"graphics-symbol\" aria-roledescription=\"rect mark\" d=\"M342.85714285714283,350h85.71428571428571v16.666666666666668h-85.71428571428571Z\" fill=\"rgb(35, 72, 157)\"/><path aria-label=\"DOW: Fri; PickupHour: 22; Pickups: 11682646\" role=\"graphics-symbol\" aria-roledescription=\"rect mark\" d=\"M342.85714285714283,366.6666666666667h85.71428571428571v16.666666666666668h-85.71428571428571Z\" fill=\"rgb(33, 65, 150)\"/><path aria-label=\"DOW: Fri; PickupHour: 23; Pickups: 11459532\" role=\"graphics-symbol\" aria-roledescription=\"rect mark\" d=\"M342.85714285714283,383.33333333333337h85.71428571428571v16.666666666666668h-85.71428571428571Z\" fill=\"rgb(34, 69, 154)\"/><path aria-label=\"DOW: Sat; PickupHour: 0; Pickups: 10458820\" role=\"graphics-symbol\" aria-roledescription=\"rect mark\" d=\"M428.57142857142856,0h85.71428571428571v16.666666666666668h-85.71428571428571Z\" fill=\"rgb(33, 93, 167)\"/><path aria-label=\"DOW: Sat; PickupHour: 1; Pickups: 8900598\" role=\"graphics-symbol\" aria-roledescription=\"rect mark\" d=\"M428.57142857142856,16.666666666666668h85.71428571428571v16.666666666666668h-85.71428571428571Z\" fill=\"rgb(35, 134, 185)\"/><path aria-label=\"DOW: Sat; PickupHour: 2; Pickups: 7304697\" role=\"graphics-symbol\" aria-roledescription=\"rect mark\" d=\"M428.57142857142856,33.333333333333336h85.71428571428571v16.666666666666668h-85.71428571428571Z\" fill=\"rgb(57, 169, 193)\"/><path aria-label=\"DOW: Sat; PickupHour: 3; Pickups: 5408518\" role=\"graphics-symbol\" aria-roledescription=\"rect mark\" d=\"M428.57142857142856,50h85.71428571428571v16.666666666666668h-85.71428571428571Z\" fill=\"rgb(112, 200, 189)\"/><path aria-label=\"DOW: Sat; PickupHour: 4; Pickups: 3461247\" role=\"graphics-symbol\" aria-roledescription=\"rect mark\" d=\"M428.57142857142856,66.66666666666667h85.71428571428571v16.666666666666668h-85.71428571428571Z\" fill=\"rgb(183, 227, 182)\"/><path aria-label=\"DOW: Sat; PickupHour: 5; Pickups: 1756247\" role=\"graphics-symbol\" aria-roledescription=\"rect mark\" d=\"M428.57142857142856,83.33333333333334h85.71428571428571v16.666666666666668h-85.71428571428571Z\" fill=\"rgb(226, 244, 183)\"/><path aria-label=\"DOW: Sat; PickupHour: 6; Pickups: 2130600\" role=\"graphics-symbol\" aria-roledescription=\"rect mark\" d=\"M428.57142857142856,100h85.71428571428571v16.666666666666668h-85.71428571428571Z\" fill=\"rgb(219, 241, 180)\"/><path aria-label=\"DOW: Sat; PickupHour: 7; Pickups: 3116198\" role=\"graphics-symbol\" aria-roledescription=\"rect mark\" d=\"M428.57142857142856,116.66666666666667h85.71428571428571v16.666666666666668h-85.71428571428571Z\" fill=\"rgb(194, 231, 181)\"/><path aria-label=\"DOW: Sat; PickupHour: 8; Pickups: 4704100\" role=\"graphics-symbol\" aria-roledescription=\"rect mark\" d=\"M428.57142857142856,133.33333333333334h85.71428571428571v16.666666666666668h-85.71428571428571Z\" fill=\"rgb(138, 209, 186)\"/><path aria-label=\"DOW: Sat; PickupHour: 9; Pickups: 6684974\" role=\"graphics-symbol\" aria-roledescription=\"rect mark\" d=\"M428.57142857142856,150h85.71428571428571v16.666666666666668h-85.71428571428571Z\" fill=\"rgb(71, 181, 194)\"/><path aria-label=\"DOW: Sat; PickupHour: 10; Pickups: 8063161\" role=\"graphics-symbol\" aria-roledescription=\"rect mark\" d=\"M428.57142857142856,166.66666666666669h85.71428571428571v16.666666666666668h-85.71428571428571Z\" fill=\"rgb(43, 154, 191)\"/><path aria-label=\"DOW: Sat; PickupHour: 11; Pickups: 9056195\" role=\"graphics-symbol\" aria-roledescription=\"rect mark\" d=\"M428.57142857142856,183.33333333333334h85.71428571428571v16.666666666666668h-85.71428571428571Z\" fill=\"rgb(33, 130, 184)\"/><path aria-label=\"DOW: Sat; PickupHour: 12; Pickups: 9769389\" role=\"graphics-symbol\" aria-roledescription=\"rect mark\" d=\"M428.57142857142856,200h85.71428571428571v16.666666666666668h-85.71428571428571Z\" fill=\"rgb(33, 111, 175)\"/><path aria-label=\"DOW: Sat; PickupHour: 13; Pickups: 9970433\" role=\"graphics-symbol\" aria-roledescription=\"rect mark\" d=\"M428.57142857142856,216.66666666666669h85.71428571428571v16.666666666666668h-85.71428571428571Z\" fill=\"rgb(33, 106, 173)\"/><path aria-label=\"DOW: Sat; PickupHour: 14; Pickups: 9693755\" role=\"graphics-symbol\" aria-roledescription=\"rect mark\" d=\"M428.57142857142856,233.33333333333334h85.71428571428571v16.666666666666668h-85.71428571428571Z\" fill=\"rgb(33, 113, 176)\"/><path aria-label=\"DOW: Sat; PickupHour: 15; Pickups: 9679323\" role=\"graphics-symbol\" aria-roledescription=\"rect mark\" d=\"M428.57142857142856,250.00000000000003h85.71428571428571v16.666666666666668h-85.71428571428571Z\" fill=\"rgb(33, 113, 177)\"/><path aria-label=\"DOW: Sat; PickupHour: 16; Pickups: 8763351\" role=\"graphics-symbol\" aria-roledescription=\"rect mark\" d=\"M428.57142857142856,266.6666666666667h85.71428571428571v16.666666666666668h-85.71428571428571Z\" fill=\"rgb(36, 137, 186)\"/><path aria-label=\"DOW: Sat; PickupHour: 17; Pickups: 9807984\" role=\"graphics-symbol\" aria-roledescription=\"rect mark\" d=\"M428.57142857142856,283.33333333333337h85.71428571428571v16.666666666666668h-85.71428571428571Z\" fill=\"rgb(33, 110, 175)\"/><path aria-label=\"DOW: Sat; PickupHour: 18; Pickups: 11202632\" role=\"graphics-symbol\" aria-roledescription=\"rect mark\" d=\"M428.57142857142856,300h85.71428571428571v16.666666666666668h-85.71428571428571Z\" fill=\"rgb(35, 75, 158)\"/><path aria-label=\"DOW: Sat; PickupHour: 19; Pickups: 11674811\" role=\"graphics-symbol\" aria-roledescription=\"rect mark\" d=\"M428.57142857142856,316.6666666666667h85.71428571428571v16.666666666666668h-85.71428571428571Z\" fill=\"rgb(33, 65, 150)\"/><path aria-label=\"DOW: Sat; PickupHour: 20; Pickups: 10412905\" role=\"graphics-symbol\" aria-roledescription=\"rect mark\" d=\"M428.57142857142856,333.33333333333337h85.71428571428571v16.666666666666668h-85.71428571428571Z\" fill=\"rgb(33, 94, 168)\"/><path aria-label=\"DOW: Sat; PickupHour: 21; Pickups: 10330392\" role=\"graphics-symbol\" aria-roledescription=\"rect mark\" d=\"M428.57142857142856,350h85.71428571428571v16.666666666666668h-85.71428571428571Z\" fill=\"rgb(33, 96, 169)\"/><path aria-label=\"DOW: Sat; PickupHour: 22; Pickups: 11153827\" role=\"graphics-symbol\" aria-roledescription=\"rect mark\" d=\"M428.57142857142856,366.6666666666667h85.71428571428571v16.666666666666668h-85.71428571428571Z\" fill=\"rgb(35, 76, 159)\"/><path aria-label=\"DOW: Sat; PickupHour: 23; Pickups: 11453687\" role=\"graphics-symbol\" aria-roledescription=\"rect mark\" d=\"M428.57142857142856,383.33333333333337h85.71428571428571v16.666666666666668h-85.71428571428571Z\" fill=\"rgb(34, 69, 154)\"/><path aria-label=\"DOW: Sun; PickupHour: 0; Pickups: 10644613\" role=\"graphics-symbol\" aria-roledescription=\"rect mark\" d=\"M514.2857142857142,0h85.71428571428571v16.666666666666668h-85.71428571428571Z\" fill=\"rgb(34, 89, 165)\"/><path aria-label=\"DOW: Sun; PickupHour: 1; Pickups: 9538074\" role=\"graphics-symbol\" aria-roledescription=\"rect mark\" d=\"M514.2857142857142,16.666666666666668h85.71428571428571v16.666666666666668h-85.71428571428571Z\" fill=\"rgb(33, 117, 178)\"/><path aria-label=\"DOW: Sun; PickupHour: 2; Pickups: 7726327\" role=\"graphics-symbol\" aria-roledescription=\"rect mark\" d=\"M514.2857142857142,33.333333333333336h85.71428571428571v16.666666666666668h-85.71428571428571Z\" fill=\"rgb(48, 161, 192)\"/><path aria-label=\"DOW: Sun; PickupHour: 3; Pickups: 6099577\" role=\"graphics-symbol\" aria-roledescription=\"rect mark\" d=\"M514.2857142857142,50h85.71428571428571v16.666666666666668h-85.71428571428571Z\" fill=\"rgb(89, 190, 192)\"/><path aria-label=\"DOW: Sun; PickupHour: 4; Pickups: 3897294\" role=\"graphics-symbol\" aria-roledescription=\"rect mark\" d=\"M514.2857142857142,66.66666666666667h85.71428571428571v16.666666666666668h-85.71428571428571Z\" fill=\"rgb(167, 221, 183)\"/><path aria-label=\"DOW: Sun; PickupHour: 5; Pickups: 1813963\" role=\"graphics-symbol\" aria-roledescription=\"rect mark\" d=\"M514.2857142857142,83.33333333333334h85.71428571428571v16.666666666666668h-85.71428571428571Z\" fill=\"rgb(225, 243, 183)\"/><path aria-label=\"DOW: Sun; PickupHour: 6; Pickups: 1820636\" role=\"graphics-symbol\" aria-roledescription=\"rect mark\" d=\"M514.2857142857142,100h85.71428571428571v16.666666666666668h-85.71428571428571Z\" fill=\"rgb(224, 243, 182)\"/><path aria-label=\"DOW: Sun; PickupHour: 7; Pickups: 2412709\" role=\"graphics-symbol\" aria-roledescription=\"rect mark\" d=\"M514.2857142857142,116.66666666666667h85.71428571428571v16.666666666666668h-85.71428571428571Z\" fill=\"rgb(212, 238, 180)\"/><path aria-label=\"DOW: Sun; PickupHour: 8; Pickups: 3592624\" role=\"graphics-symbol\" aria-roledescription=\"rect mark\" d=\"M514.2857142857142,133.33333333333334h85.71428571428571v16.666666666666668h-85.71428571428571Z\" fill=\"rgb(178, 225, 182)\"/><path aria-label=\"DOW: Sun; PickupHour: 9; Pickups: 5334833\" role=\"graphics-symbol\" aria-roledescription=\"rect mark\" d=\"M514.2857142857142,150h85.71428571428571v16.666666666666668h-85.71428571428571Z\" fill=\"rgb(115, 201, 189)\"/><path aria-label=\"DOW: Sun; PickupHour: 10; Pickups: 7290148\" role=\"graphics-symbol\" aria-roledescription=\"rect mark\" d=\"M514.2857142857142,166.66666666666669h85.71428571428571v16.666666666666668h-85.71428571428571Z\" fill=\"rgb(57, 170, 193)\"/><path aria-label=\"DOW: Sun; PickupHour: 11; Pickups: 8466706\" role=\"graphics-symbol\" aria-roledescription=\"rect mark\" d=\"M514.2857142857142,183.33333333333334h85.71428571428571v16.666666666666668h-85.71428571428571Z\" fill=\"rgb(39, 144, 188)\"/><path aria-label=\"DOW: Sun; PickupHour: 12; Pickups: 9208783\" role=\"graphics-symbol\" aria-roledescription=\"rect mark\" d=\"M514.2857142857142,200h85.71428571428571v16.666666666666668h-85.71428571428571Z\" fill=\"rgb(33, 126, 182)\"/><path aria-label=\"DOW: Sun; PickupHour: 13; Pickups: 9275283\" role=\"graphics-symbol\" aria-roledescription=\"rect mark\" d=\"M514.2857142857142,216.66666666666669h85.71428571428571v16.666666666666668h-85.71428571428571Z\" fill=\"rgb(33, 124, 181)\"/><path aria-label=\"DOW: Sun; PickupHour: 14; Pickups: 9276544\" role=\"graphics-symbol\" aria-roledescription=\"rect mark\" d=\"M514.2857142857142,233.33333333333334h85.71428571428571v16.666666666666668h-85.71428571428571Z\" fill=\"rgb(33, 124, 181)\"/><path aria-label=\"DOW: Sun; PickupHour: 15; Pickups: 8881265\" role=\"graphics-symbol\" aria-roledescription=\"rect mark\" d=\"M514.2857142857142,250.00000000000003h85.71428571428571v16.666666666666668h-85.71428571428571Z\" fill=\"rgb(35, 134, 185)\"/><path aria-label=\"DOW: Sun; PickupHour: 16; Pickups: 8390000\" role=\"graphics-symbol\" aria-roledescription=\"rect mark\" d=\"M514.2857142857142,266.6666666666667h85.71428571428571v16.666666666666668h-85.71428571428571Z\" fill=\"rgb(39, 146, 189)\"/><path aria-label=\"DOW: Sun; PickupHour: 17; Pickups: 8900858\" role=\"graphics-symbol\" aria-roledescription=\"rect mark\" d=\"M514.2857142857142,283.33333333333337h85.71428571428571v16.666666666666668h-85.71428571428571Z\" fill=\"rgb(35, 134, 185)\"/><path aria-label=\"DOW: Sun; PickupHour: 18; Pickups: 9386752\" role=\"graphics-symbol\" aria-roledescription=\"rect mark\" d=\"M514.2857142857142,300h85.71428571428571v16.666666666666668h-85.71428571428571Z\" fill=\"rgb(33, 121, 180)\"/><path aria-label=\"DOW: Sun; PickupHour: 19; Pickups: 8717993\" role=\"graphics-symbol\" aria-roledescription=\"rect mark\" d=\"M514.2857142857142,316.6666666666667h85.71428571428571v16.666666666666668h-85.71428571428571Z\" fill=\"rgb(36, 138, 186)\"/><path aria-label=\"DOW: Sun; PickupHour: 20; Pickups: 7921584\" role=\"graphics-symbol\" aria-roledescription=\"rect mark\" d=\"M514.2857142857142,333.33333333333337h85.71428571428571v16.666666666666668h-85.71428571428571Z\" fill=\"rgb(44, 158, 192)\"/><path aria-label=\"DOW: Sun; PickupHour: 21; Pickups: 7541907\" role=\"graphics-symbol\" aria-roledescription=\"rect mark\" d=\"M514.2857142857142,350h85.71428571428571v16.666666666666668h-85.71428571428571Z\" fill=\"rgb(52, 165, 193)\"/><path aria-label=\"DOW: Sun; PickupHour: 22; Pickups: 6888044\" role=\"graphics-symbol\" aria-roledescription=\"rect mark\" d=\"M514.2857142857142,366.6666666666667h85.71428571428571v16.666666666666668h-85.71428571428571Z\" fill=\"rgb(66, 177, 194)\"/><path aria-label=\"DOW: Sun; PickupHour: 23; Pickups: 5551989\" role=\"graphics-symbol\" aria-roledescription=\"rect mark\" d=\"M514.2857142857142,383.33333333333337h85.71428571428571v16.666666666666668h-85.71428571428571Z\" fill=\"rgb(107, 198, 190)\"/><path aria-label=\"DOW: Mon; PickupHour: 0; Pickups: 3852700\" role=\"graphics-symbol\" aria-roledescription=\"rect mark\" d=\"M0,0h85.71428571428571v16.666666666666668h-85.71428571428571Z\" fill=\"rgb(169, 221, 183)\"/><path aria-label=\"DOW: Mon; PickupHour: 1; Pickups: 2343771\" role=\"graphics-symbol\" aria-roledescription=\"rect mark\" d=\"M0,16.666666666666668h85.71428571428571v16.666666666666668h-85.71428571428571Z\" fill=\"rgb(214, 239, 180)\"/><path aria-label=\"DOW: Mon; PickupHour: 2; Pickups: 1540124\" role=\"graphics-symbol\" aria-roledescription=\"rect mark\" d=\"M0,33.333333333333336h85.71428571428571v16.666666666666668h-85.71428571428571Z\" fill=\"rgb(229, 245, 185)\"/><path aria-label=\"DOW: Mon; PickupHour: 3; Pickups: 1078027\" role=\"graphics-symbol\" aria-roledescription=\"rect mark\" d=\"M0,50h85.71428571428571v16.666666666666668h-85.71428571428571Z\" fill=\"rgb(237, 248, 188)\"/><path aria-label=\"DOW: Mon; PickupHour: 4; Pickups: 1132490\" role=\"graphics-symbol\" aria-roledescription=\"rect mark\" d=\"M0,66.66666666666667h85.71428571428571v16.666666666666668h-85.71428571428571Z\" fill=\"rgb(236, 248, 188)\"/><path aria-label=\"DOW: Mon; PickupHour: 5; Pickups: 1791388\" role=\"graphics-symbol\" aria-roledescription=\"rect mark\" d=\"M0,83.33333333333334h85.71428571428571v16.666666666666668h-85.71428571428571Z\" fill=\"rgb(225, 243, 183)\"/><path aria-label=\"DOW: Mon; PickupHour: 6; Pickups: 4470974\" role=\"graphics-symbol\" aria-roledescription=\"rect mark\" d=\"M0,100h85.71428571428571v16.666666666666668h-85.71428571428571Z\" fill=\"rgb(147, 213, 185)\"/><path aria-label=\"DOW: Mon; PickupHour: 7; Pickups: 7541066\" role=\"graphics-symbol\" aria-roledescription=\"rect mark\" d=\"M0,116.66666666666667h85.71428571428571v16.666666666666668h-85.71428571428571Z\" fill=\"rgb(52, 165, 193)\"/><path aria-label=\"DOW: Mon; PickupHour: 8; Pickups: 9085095\" role=\"graphics-symbol\" aria-roledescription=\"rect mark\" d=\"M0,133.33333333333334h85.71428571428571v16.666666666666668h-85.71428571428571Z\" fill=\"rgb(33, 129, 184)\"/><path aria-label=\"DOW: Mon; PickupHour: 9; Pickups: 8818479\" role=\"graphics-symbol\" aria-roledescription=\"rect mark\" d=\"M0,150h85.71428571428571v16.666666666666668h-85.71428571428571Z\" fill=\"rgb(35, 136, 186)\"/><path aria-label=\"DOW: Mon; PickupHour: 10; Pickups: 8004399\" role=\"graphics-symbol\" aria-roledescription=\"rect mark\" d=\"M0,166.66666666666669h85.71428571428571v16.666666666666668h-85.71428571428571Z\" fill=\"rgb(43, 156, 191)\"/><path aria-label=\"DOW: Mon; PickupHour: 11; Pickups: 8018453\" role=\"graphics-symbol\" aria-roledescription=\"rect mark\" d=\"M0,183.33333333333334h85.71428571428571v16.666666666666668h-85.71428571428571Z\" fill=\"rgb(43, 155, 191)\"/><path aria-label=\"DOW: Mon; PickupHour: 12; Pickups: 8429912\" role=\"graphics-symbol\" aria-roledescription=\"rect mark\" d=\"M0,200h85.71428571428571v16.666666666666668h-85.71428571428571Z\" fill=\"rgb(39, 145, 188)\"/><path aria-label=\"DOW: Mon; PickupHour: 13; Pickups: 8433910\" role=\"graphics-symbol\" aria-roledescription=\"rect mark\" d=\"M0,216.66666666666669h85.71428571428571v16.666666666666668h-85.71428571428571Z\" fill=\"rgb(39, 145, 188)\"/><path aria-label=\"DOW: Mon; PickupHour: 14; Pickups: 9045783\" role=\"graphics-symbol\" aria-roledescription=\"rect mark\" d=\"M0,233.33333333333334h85.71428571428571v16.666666666666668h-85.71428571428571Z\" fill=\"rgb(33, 130, 184)\"/><path aria-label=\"DOW: Mon; PickupHour: 15; Pickups: 9020956\" role=\"graphics-symbol\" aria-roledescription=\"rect mark\" d=\"M0,250.00000000000003h85.71428571428571v16.666666666666668h-85.71428571428571Z\" fill=\"rgb(33, 131, 184)\"/><path aria-label=\"DOW: Mon; PickupHour: 16; Pickups: 8169459\" role=\"graphics-symbol\" aria-roledescription=\"rect mark\" d=\"M0,266.6666666666667h85.71428571428571v16.666666666666668h-85.71428571428571Z\" fill=\"rgb(42, 152, 190)\"/><path aria-label=\"DOW: Mon; PickupHour: 17; Pickups: 9649443\" role=\"graphics-symbol\" aria-roledescription=\"rect mark\" d=\"M0,283.33333333333337h85.71428571428571v16.666666666666668h-85.71428571428571Z\" fill=\"rgb(33, 114, 177)\"/><path aria-label=\"DOW: Mon; PickupHour: 18; Pickups: 11263610\" role=\"graphics-symbol\" aria-roledescription=\"rect mark\" d=\"M0,300h85.71428571428571v16.666666666666668h-85.71428571428571Z\" fill=\"rgb(35, 74, 157)\"/><path aria-label=\"DOW: Mon; PickupHour: 19; Pickups: 10941817\" role=\"graphics-symbol\" aria-roledescription=\"rect mark\" d=\"M0,316.6666666666667h85.71428571428571v16.666666666666668h-85.71428571428571Z\" fill=\"rgb(34, 81, 161)\"/><path aria-label=\"DOW: Mon; PickupHour: 20; Pickups: 10059103\" role=\"graphics-symbol\" aria-roledescription=\"rect mark\" d=\"M0,333.33333333333337h85.71428571428571v16.666666666666668h-85.71428571428571Z\" fill=\"rgb(33, 103, 172)\"/><path aria-label=\"DOW: Mon; PickupHour: 21; Pickups: 9590654\" role=\"graphics-symbol\" aria-roledescription=\"rect mark\" d=\"M0,350h85.71428571428571v16.666666666666668h-85.71428571428571Z\" fill=\"rgb(33, 116, 178)\"/><path aria-label=\"DOW: Mon; PickupHour: 22; Pickups: 8446828\" role=\"graphics-symbol\" aria-roledescription=\"rect mark\" d=\"M0,366.6666666666667h85.71428571428571v16.666666666666668h-85.71428571428571Z\" fill=\"rgb(39, 145, 188)\"/><path aria-label=\"DOW: Mon; PickupHour: 23; Pickups: 6200001\" role=\"graphics-symbol\" aria-roledescription=\"rect mark\" d=\"M0,383.33333333333337h85.71428571428571v16.666666666666668h-85.71428571428571Z\" fill=\"rgb(86, 188, 192)\"/><path aria-label=\"DOW: Tue; PickupHour: 0; Pickups: 4074129\" role=\"graphics-symbol\" aria-roledescription=\"rect mark\" d=\"M85.71428571428571,0h85.71428571428571v16.666666666666668h-85.71428571428571Z\" fill=\"rgb(161, 218, 184)\"/><path aria-label=\"DOW: Tue; PickupHour: 2; Pickups: 1480476\" role=\"graphics-symbol\" aria-roledescription=\"rect mark\" d=\"M85.71428571428571,33.333333333333336h85.71428571428571v16.666666666666668h-85.71428571428571Z\" fill=\"rgb(230, 246, 185)\"/><path aria-label=\"DOW: Tue; PickupHour: 3; Pickups: 983345\" role=\"graphics-symbol\" aria-roledescription=\"rect mark\" d=\"M85.71428571428571,50h85.71428571428571v16.666666666666668h-85.71428571428571Z\" fill=\"rgb(239, 249, 189)\"/><path aria-label=\"DOW: Tue; PickupHour: 4; Pickups: 982845\" role=\"graphics-symbol\" aria-roledescription=\"rect mark\" d=\"M85.71428571428571,66.66666666666667h85.71428571428571v16.666666666666668h-85.71428571428571Z\" fill=\"rgb(239, 249, 189)\"/><path aria-label=\"DOW: Tue; PickupHour: 5; Pickups: 1730510\" role=\"graphics-symbol\" aria-roledescription=\"rect mark\" d=\"M85.71428571428571,83.33333333333334h85.71428571428571v16.666666666666668h-85.71428571428571Z\" fill=\"rgb(226, 244, 183)\"/><path aria-label=\"DOW: Tue; PickupHour: 6; Pickups: 4779347\" role=\"graphics-symbol\" aria-roledescription=\"rect mark\" d=\"M85.71428571428571,100h85.71428571428571v16.666666666666668h-85.71428571428571Z\" fill=\"rgb(136, 208, 186)\"/><path aria-label=\"DOW: Tue; PickupHour: 9; Pickups: 9801557\" role=\"graphics-symbol\" aria-roledescription=\"rect mark\" d=\"M85.71428571428571,150h85.71428571428571v16.666666666666668h-85.71428571428571Z\" fill=\"rgb(33, 110, 175)\"/><path aria-label=\"DOW: Tue; PickupHour: 10; Pickups: 8841992\" role=\"graphics-symbol\" aria-roledescription=\"rect mark\" d=\"M85.71428571428571,166.66666666666669h85.71428571428571v16.666666666666668h-85.71428571428571Z\" fill=\"rgb(35, 135, 186)\"/><path aria-label=\"DOW: Tue; PickupHour: 11; Pickups: 8775037\" role=\"graphics-symbol\" aria-roledescription=\"rect mark\" d=\"M85.71428571428571,183.33333333333334h85.71428571428571v16.666666666666668h-85.71428571428571Z\" fill=\"rgb(36, 137, 186)\"/><path aria-label=\"DOW: Tue; PickupHour: 12; Pickups: 9169626\" role=\"graphics-symbol\" aria-roledescription=\"rect mark\" d=\"M85.71428571428571,200h85.71428571428571v16.666666666666668h-85.71428571428571Z\" fill=\"rgb(33, 127, 183)\"/><path aria-label=\"DOW: Tue; PickupHour: 14; Pickups: 9694200\" role=\"graphics-symbol\" aria-roledescription=\"rect mark\" d=\"M85.71428571428571,233.33333333333334h85.71428571428571v16.666666666666668h-85.71428571428571Z\" fill=\"rgb(33, 113, 176)\"/><path aria-label=\"DOW: Tue; PickupHour: 15; Pickups: 9332305\" role=\"graphics-symbol\" aria-roledescription=\"rect mark\" d=\"M85.71428571428571,250.00000000000003h85.71428571428571v16.666666666666668h-85.71428571428571Z\" fill=\"rgb(33, 123, 181)\"/><path aria-label=\"DOW: Tue; PickupHour: 16; Pickups: 8024280\" role=\"graphics-symbol\" aria-roledescription=\"rect mark\" d=\"M85.71428571428571,266.6666666666667h85.71428571428571v16.666666666666668h-85.71428571428571Z\" fill=\"rgb(43, 155, 191)\"/><path aria-label=\"DOW: Tue; PickupHour: 17; Pickups: 9771739\" role=\"graphics-symbol\" aria-roledescription=\"rect mark\" d=\"M85.71428571428571,283.33333333333337h85.71428571428571v16.666666666666668h-85.71428571428571Z\" fill=\"rgb(33, 111, 175)\"/><path aria-label=\"DOW: Tue; PickupHour: 18; Pickups: 11881641\" role=\"graphics-symbol\" aria-roledescription=\"rect mark\" d=\"M85.71428571428571,300h85.71428571428571v16.666666666666668h-85.71428571428571Z\" fill=\"rgb(32, 61, 146)\"/><path aria-label=\"DOW: Tue; PickupHour: 19; Pickups: 11906309\" role=\"graphics-symbol\" aria-roledescription=\"rect mark\" d=\"M85.71428571428571,316.6666666666667h85.71428571428571v16.666666666666668h-85.71428571428571Z\" fill=\"rgb(32, 61, 145)\"/><path aria-label=\"DOW: Tue; PickupHour: 20; Pickups: 11327319\" role=\"graphics-symbol\" aria-roledescription=\"rect mark\" d=\"M85.71428571428571,333.33333333333337h85.71428571428571v16.666666666666668h-85.71428571428571Z\" fill=\"rgb(35, 72, 157)\"/><path aria-label=\"DOW: Tue; PickupHour: 21; Pickups: 11229441\" role=\"graphics-symbol\" aria-roledescription=\"rect mark\" d=\"M85.71428571428571,350h85.71428571428571v16.666666666666668h-85.71428571428571Z\" fill=\"rgb(35, 74, 158)\"/><path aria-label=\"DOW: Tue; PickupHour: 22; Pickups: 10131714\" role=\"graphics-symbol\" aria-roledescription=\"rect mark\" d=\"M85.71428571428571,366.6666666666667h85.71428571428571v16.666666666666668h-85.71428571428571Z\" fill=\"rgb(33, 101, 171)\"/><path aria-label=\"DOW: Tue; PickupHour: 23; Pickups: 7711251\" role=\"graphics-symbol\" aria-roledescription=\"rect mark\" d=\"M85.71428571428571,383.33333333333337h85.71428571428571v16.666666666666668h-85.71428571428571Z\" fill=\"rgb(48, 162, 192)\"/><path aria-label=\"DOW: Wed; PickupHour: 0; Pickups: 5019567\" role=\"graphics-symbol\" aria-roledescription=\"rect mark\" d=\"M171.42857142857142,0h85.71428571428571v16.666666666666668h-85.71428571428571Z\" fill=\"rgb(127, 205, 187)\"/><path aria-label=\"DOW: Wed; PickupHour: 2; Pickups: 1844940\" role=\"graphics-symbol\" aria-roledescription=\"rect mark\" d=\"M171.42857142857142,33.333333333333336h85.71428571428571v16.666666666666668h-85.71428571428571Z\" fill=\"rgb(224, 243, 182)\"/><path aria-label=\"DOW: Wed; PickupHour: 3; Pickups: 1225914\" role=\"graphics-symbol\" aria-roledescription=\"rect mark\" d=\"M171.42857142857142,50h85.71428571428571v16.666666666666668h-85.71428571428571Z\" fill=\"rgb(235, 247, 187)\"/><path aria-label=\"DOW: Wed; PickupHour: 4; Pickups: 1132391\" role=\"graphics-symbol\" aria-roledescription=\"rect mark\" d=\"M171.42857142857142,66.66666666666667h85.71428571428571v16.666666666666668h-85.71428571428571Z\" fill=\"rgb(236, 248, 188)\"/><path aria-label=\"DOW: Wed; PickupHour: 5; Pickups: 1765854\" role=\"graphics-symbol\" aria-roledescription=\"rect mark\" d=\"M171.42857142857142,83.33333333333334h85.71428571428571v16.666666666666668h-85.71428571428571Z\" fill=\"rgb(225, 244, 183)\"/><path aria-label=\"DOW: Wed; PickupHour: 6; Pickups: 4829743\" role=\"graphics-symbol\" aria-roledescription=\"rect mark\" d=\"M171.42857142857142,100h85.71428571428571v16.666666666666668h-85.71428571428571Z\" fill=\"rgb(134, 208, 187)\"/><path aria-label=\"DOW: Wed; PickupHour: 8; Pickups: 10485313\" role=\"graphics-symbol\" aria-roledescription=\"rect mark\" d=\"M171.42857142857142,133.33333333333334h85.71428571428571v16.666666666666668h-85.71428571428571Z\" fill=\"rgb(33, 92, 167)\"/><path aria-label=\"DOW: Wed; PickupHour: 9; Pickups: 9993648\" role=\"graphics-symbol\" aria-roledescription=\"rect mark\" d=\"M171.42857142857142,150h85.71428571428571v16.666666666666668h-85.71428571428571Z\" fill=\"rgb(33, 105, 173)\"/><path aria-label=\"DOW: Wed; PickupHour: 10; Pickups: 9058740\" role=\"graphics-symbol\" aria-roledescription=\"rect mark\" d=\"M171.42857142857142,166.66666666666669h85.71428571428571v16.666666666666668h-85.71428571428571Z\" fill=\"rgb(33, 130, 184)\"/><path aria-label=\"DOW: Wed; PickupHour: 11; Pickups: 9084753\" role=\"graphics-symbol\" aria-roledescription=\"rect mark\" d=\"M171.42857142857142,183.33333333333334h85.71428571428571v16.666666666666668h-85.71428571428571Z\" fill=\"rgb(33, 129, 184)\"/><path aria-label=\"DOW: Wed; PickupHour: 12; Pickups: 9474341\" role=\"graphics-symbol\" aria-roledescription=\"rect mark\" d=\"M171.42857142857142,200h85.71428571428571v16.666666666666668h-85.71428571428571Z\" fill=\"rgb(33, 119, 179)\"/><path aria-label=\"DOW: Wed; PickupHour: 13; Pickups: 9358019\" role=\"graphics-symbol\" aria-roledescription=\"rect mark\" d=\"M171.42857142857142,216.66666666666669h85.71428571428571v16.666666666666668h-85.71428571428571Z\" fill=\"rgb(33, 122, 180)\"/><path aria-label=\"DOW: Wed; PickupHour: 14; Pickups: 9765416\" role=\"graphics-symbol\" aria-roledescription=\"rect mark\" d=\"M171.42857142857142,233.33333333333334h85.71428571428571v16.666666666666668h-85.71428571428571Z\" fill=\"rgb(33, 111, 175)\"/><path aria-label=\"DOW: Wed; PickupHour: 15; Pickups: 9309229\" role=\"graphics-symbol\" aria-roledescription=\"rect mark\" d=\"M171.42857142857142,250.00000000000003h85.71428571428571v16.666666666666668h-85.71428571428571Z\" fill=\"rgb(33, 123, 181)\"/><path aria-label=\"DOW: Wed; PickupHour: 16; Pickups: 7941043\" role=\"graphics-symbol\" aria-roledescription=\"rect mark\" d=\"M171.42857142857142,266.6666666666667h85.71428571428571v16.666666666666668h-85.71428571428571Z\" fill=\"rgb(44, 157, 192)\"/><path aria-label=\"DOW: Wed; PickupHour: 17; Pickups: 9723531\" role=\"graphics-symbol\" aria-roledescription=\"rect mark\" d=\"M171.42857142857142,283.33333333333337h85.71428571428571v16.666666666666668h-85.71428571428571Z\" fill=\"rgb(33, 112, 176)\"/><path aria-label=\"DOW: Wed; PickupHour: 18; Pickups: 11858116\" role=\"graphics-symbol\" aria-roledescription=\"rect mark\" d=\"M171.42857142857142,300h85.71428571428571v16.666666666666668h-85.71428571428571Z\" fill=\"rgb(32, 62, 146)\"/><path aria-label=\"DOW: Wed; PickupHour: 19; Pickups: 12250936\" role=\"graphics-symbol\" aria-roledescription=\"rect mark\" d=\"M171.42857142857142,316.6666666666667h85.71428571428571v16.666666666666668h-85.71428571428571Z\" fill=\"rgb(30, 54, 138)\"/><path aria-label=\"DOW: Wed; PickupHour: 21; Pickups: 11672256\" role=\"graphics-symbol\" aria-roledescription=\"rect mark\" d=\"M171.42857142857142,350h85.71428571428571v16.666666666666668h-85.71428571428571Z\" fill=\"rgb(33, 65, 150)\"/><path aria-label=\"DOW: Wed; PickupHour: 22; Pickups: 10881972\" role=\"graphics-symbol\" aria-roledescription=\"rect mark\" d=\"M171.42857142857142,366.6666666666667h85.71428571428571v16.666666666666668h-85.71428571428571Z\" fill=\"rgb(34, 83, 162)\"/><path aria-label=\"DOW: Wed; PickupHour: 23; Pickups: 8684595\" role=\"graphics-symbol\" aria-roledescription=\"rect mark\" d=\"M171.42857142857142,383.33333333333337h85.71428571428571v16.666666666666668h-85.71428571428571Z\" fill=\"rgb(37, 139, 187)\"/><path aria-label=\"DOW: Thu; PickupHour: 0; Pickups: 5795727\" role=\"graphics-symbol\" aria-roledescription=\"rect mark\" d=\"M257.1428571428571,0h85.71428571428571v16.666666666666668h-85.71428571428571Z\" fill=\"rgb(99, 194, 191)\"/><path aria-label=\"DOW: Thu; PickupHour: 1; Pickups: 3470407\" role=\"graphics-symbol\" aria-roledescription=\"rect mark\" d=\"M257.1428571428571,16.666666666666668h85.71428571428571v16.666666666666668h-85.71428571428571Z\" fill=\"rgb(183, 227, 182)\"/><path aria-label=\"DOW: Thu; PickupHour: 2; Pickups: 2183454\" role=\"graphics-symbol\" aria-roledescription=\"rect mark\" d=\"M257.1428571428571,33.333333333333336h85.71428571428571v16.666666666666668h-85.71428571428571Z\" fill=\"rgb(218, 241, 180)\"/><path aria-label=\"DOW: Thu; PickupHour: 3; Pickups: 1432794\" role=\"graphics-symbol\" aria-roledescription=\"rect mark\" d=\"M257.1428571428571,50h85.71428571428571v16.666666666666668h-85.71428571428571Z\" fill=\"rgb(231, 246, 185)\"/><path aria-label=\"DOW: Thu; PickupHour: 4; Pickups: 1273200\" role=\"graphics-symbol\" aria-roledescription=\"rect mark\" d=\"M257.1428571428571,66.66666666666667h85.71428571428571v16.666666666666668h-85.71428571428571Z\" fill=\"rgb(234, 247, 187)\"/><path aria-label=\"DOW: Thu; PickupHour: 5; Pickups: 1832472\" role=\"graphics-symbol\" aria-roledescription=\"rect mark\" d=\"M257.1428571428571,83.33333333333334h85.71428571428571v16.666666666666668h-85.71428571428571Z\" fill=\"rgb(224, 243, 182)\"/><path aria-label=\"DOW: Thu; PickupHour: 6; Pickups: 4860323\" role=\"graphics-symbol\" aria-roledescription=\"rect mark\" d=\"M257.1428571428571,100h85.71428571428571v16.666666666666668h-85.71428571428571Z\" fill=\"rgb(133, 207, 187)\"/><path aria-label=\"DOW: Thu; PickupHour: 7; Pickups: 8728340\" role=\"graphics-symbol\" aria-roledescription=\"rect mark\" d=\"M257.1428571428571,116.66666666666667h85.71428571428571v16.666666666666668h-85.71428571428571Z\" fill=\"rgb(36, 138, 186)\"/><path aria-label=\"DOW: Thu; PickupHour: 8; Pickups: 10412499\" role=\"graphics-symbol\" aria-roledescription=\"rect mark\" d=\"M257.1428571428571,133.33333333333334h85.71428571428571v16.666666666666668h-85.71428571428571Z\" fill=\"rgb(33, 94, 168)\"/><path aria-label=\"DOW: Thu; PickupHour: 9; Pickups: 9943405\" role=\"graphics-symbol\" aria-roledescription=\"rect mark\" d=\"M257.1428571428571,150h85.71428571428571v16.666666666666668h-85.71428571428571Z\" fill=\"rgb(33, 106, 173)\"/><path aria-label=\"DOW: Thu; PickupHour: 10; Pickups: 9086695\" role=\"graphics-symbol\" aria-roledescription=\"rect mark\" d=\"M257.1428571428571,166.66666666666669h85.71428571428571v16.666666666666668h-85.71428571428571Z\" fill=\"rgb(33, 129, 184)\"/><path aria-label=\"DOW: Thu; PickupHour: 11; Pickups: 9083255\" role=\"graphics-symbol\" aria-roledescription=\"rect mark\" d=\"M257.1428571428571,183.33333333333334h85.71428571428571v16.666666666666668h-85.71428571428571Z\" fill=\"rgb(33, 129, 184)\"/><path aria-label=\"DOW: Thu; PickupHour: 12; Pickups: 9488279\" role=\"graphics-symbol\" aria-roledescription=\"rect mark\" d=\"M257.1428571428571,200h85.71428571428571v16.666666666666668h-85.71428571428571Z\" fill=\"rgb(33, 119, 179)\"/><path aria-label=\"DOW: Thu; PickupHour: 13; Pickups: 9392114\" role=\"graphics-symbol\" aria-roledescription=\"rect mark\" d=\"M257.1428571428571,216.66666666666669h85.71428571428571v16.666666666666668h-85.71428571428571Z\" fill=\"rgb(33, 121, 180)\"/><path aria-label=\"DOW: Thu; PickupHour: 14; Pickups: 9904388\" role=\"graphics-symbol\" aria-roledescription=\"rect mark\" d=\"M257.1428571428571,233.33333333333334h85.71428571428571v16.666666666666668h-85.71428571428571Z\" fill=\"rgb(33, 107, 174)\"/><path aria-label=\"DOW: Thu; PickupHour: 15; Pickups: 9324076\" role=\"graphics-symbol\" aria-roledescription=\"rect mark\" d=\"M257.1428571428571,250.00000000000003h85.71428571428571v16.666666666666668h-85.71428571428571Z\" fill=\"rgb(33, 123, 181)\"/><path aria-label=\"DOW: Thu; PickupHour: 16; Pickups: 7856361\" role=\"graphics-symbol\" aria-roledescription=\"rect mark\" d=\"M257.1428571428571,266.6666666666667h85.71428571428571v16.666666666666668h-85.71428571428571Z\" fill=\"rgb(45, 159, 192)\"/><path aria-label=\"DOW: Thu; PickupHour: 17; Pickups: 9636414\" role=\"graphics-symbol\" aria-roledescription=\"rect mark\" d=\"M257.1428571428571,283.33333333333337h85.71428571428571v16.666666666666668h-85.71428571428571Z\" fill=\"rgb(33, 115, 177)\"/><path aria-label=\"DOW: Thu; PickupHour: 18; Pickups: 11836418\" role=\"graphics-symbol\" aria-roledescription=\"rect mark\" d=\"M257.1428571428571,300h85.71428571428571v16.666666666666668h-85.71428571428571Z\" fill=\"rgb(32, 62, 147)\"/><path aria-label=\"DOW: Thu; PickupHour: 19; Pickups: 12370645\" role=\"graphics-symbol\" aria-roledescription=\"rect mark\" d=\"M257.1428571428571,316.6666666666667h85.71428571428571v16.666666666666668h-85.71428571428571Z\" fill=\"rgb(29, 52, 136)\"/><path aria-label=\"DOW: Thu; PickupHour: 20; Pickups: 12006813\" role=\"graphics-symbol\" aria-roledescription=\"rect mark\" d=\"M257.1428571428571,333.33333333333337h85.71428571428571v16.666666666666668h-85.71428571428571Z\" fill=\"rgb(31, 59, 143)\"/><path aria-label=\"DOW: Thu; PickupHour: 21; Pickups: 12054581\" role=\"graphics-symbol\" aria-roledescription=\"rect mark\" d=\"M257.1428571428571,350h85.71428571428571v16.666666666666668h-85.71428571428571Z\" fill=\"rgb(31, 58, 142)\"/><path aria-label=\"DOW: Thu; PickupHour: 22; Pickups: 11538512\" role=\"graphics-symbol\" aria-roledescription=\"rect mark\" d=\"M257.1428571428571,366.6666666666667h85.71428571428571v16.666666666666668h-85.71428571428571Z\" fill=\"rgb(34, 68, 153)\"/><path aria-label=\"DOW: Thu; PickupHour: 23; Pickups: 10138032\" role=\"graphics-symbol\" aria-roledescription=\"rect mark\" d=\"M257.1428571428571,383.33333333333337h85.71428571428571v16.666666666666668h-85.71428571428571Z\" fill=\"rgb(33, 101, 171)\"/><path aria-label=\"DOW: Tue; PickupHour: 1; Pickups: 2388637\" role=\"graphics-symbol\" aria-roledescription=\"rect mark\" d=\"M85.71428571428571,16.666666666666668h85.71428571428571v16.666666666666668h-85.71428571428571Z\" fill=\"rgb(212, 238, 180)\"/><path aria-label=\"DOW: Tue; PickupHour: 7; Pickups: 8537980\" role=\"graphics-symbol\" aria-roledescription=\"rect mark\" d=\"M85.71428571428571,116.66666666666667h85.71428571428571v16.666666666666668h-85.71428571428571Z\" fill=\"rgb(38, 143, 188)\"/><path aria-label=\"DOW: Tue; PickupHour: 8; Pickups: 10278478\" role=\"graphics-symbol\" aria-roledescription=\"rect mark\" d=\"M85.71428571428571,133.33333333333334h85.71428571428571v16.666666666666668h-85.71428571428571Z\" fill=\"rgb(33, 97, 169)\"/><path aria-label=\"DOW: Tue; PickupHour: 13; Pickups: 9102633\" role=\"graphics-symbol\" aria-roledescription=\"rect mark\" d=\"M85.71428571428571,216.66666666666669h85.71428571428571v16.666666666666668h-85.71428571428571Z\" fill=\"rgb(33, 129, 184)\"/><path aria-label=\"DOW: Wed; PickupHour: 1; Pickups: 2955400\" role=\"graphics-symbol\" aria-roledescription=\"rect mark\" d=\"M171.42857142857142,16.666666666666668h85.71428571428571v16.666666666666668h-85.71428571428571Z\" fill=\"rgb(198, 232, 181)\"/><path aria-label=\"DOW: Wed; PickupHour: 7; Pickups: 8735288\" role=\"graphics-symbol\" aria-roledescription=\"rect mark\" d=\"M171.42857142857142,116.66666666666667h85.71428571428571v16.666666666666668h-85.71428571428571Z\" fill=\"rgb(36, 138, 186)\"/><path aria-label=\"DOW: Wed; PickupHour: 20; Pickups: 11702535\" role=\"graphics-symbol\" aria-roledescription=\"rect mark\" d=\"M171.42857142857142,333.33333333333337h85.71428571428571v16.666666666666668h-85.71428571428571Z\" fill=\"rgb(33, 65, 149)\"/></g><g class=\"mark-group role-legend\" role=\"graphics-symbol\" aria-roledescription=\"legend\" aria-label=\"Gradient legend titled 'Pickups' for fill color with values from 982,845 to 12,524,379\"><g transform=\"translate(618,0)\"><path class=\"background\" aria-hidden=\"true\" d=\"M0,0h72v216h-72Z\" pointer-events=\"none\"/><g><g class=\"mark-group role-legend-entry\"><g transform=\"translate(0,16)\"><path class=\"background\" aria-hidden=\"true\" d=\"M0,0h0v0h0Z\" pointer-events=\"none\"/><g><g class=\"mark-rect role-legend-gradient\" pointer-events=\"none\"><path d=\"M0,0h16v200h-16Z\" fill=\"url(#gradient_0)\" stroke=\"#ddd\" stroke-width=\"0\" opacity=\"1\"/></g><g class=\"mark-text role-legend-label\" pointer-events=\"none\"><text text-anchor=\"start\" transform=\"translate(18,185.3740067828072)\" font-family=\"sans-serif\" font-size=\"10px\" fill=\"#000\" opacity=\"1\">2,000,000</text><text text-anchor=\"start\" transform=\"translate(18,150.71656869875355)\" font-family=\"sans-serif\" font-size=\"10px\" fill=\"#000\" opacity=\"1\">4,000,000</text><text text-anchor=\"start\" transform=\"translate(18,116.05913061469992)\" font-family=\"sans-serif\" font-size=\"10px\" fill=\"#000\" opacity=\"1\">6,000,000</text><text text-anchor=\"start\" transform=\"translate(18,81.40169253064629)\" font-family=\"sans-serif\" font-size=\"10px\" fill=\"#000\" opacity=\"1\">8,000,000</text><text text-anchor=\"start\" transform=\"translate(18,46.74425444659262)\" font-family=\"sans-serif\" font-size=\"10px\" fill=\"#000\" opacity=\"1\">10,000,000</text><text text-anchor=\"start\" transform=\"translate(18,12.086816362538986)\" font-family=\"sans-serif\" font-size=\"10px\" fill=\"#000\" opacity=\"1\">12,000,000</text></g></g><path class=\"foreground\" aria-hidden=\"true\" d=\"\" pointer-events=\"none\" display=\"none\"/></g></g><g class=\"mark-text role-legend-title\" pointer-events=\"none\"><text text-anchor=\"start\" transform=\"translate(0,9)\" font-family=\"sans-serif\" font-size=\"11px\" font-weight=\"bold\" fill=\"#000\" opacity=\"1\">Pickups</text></g></g><path class=\"foreground\" aria-hidden=\"true\" d=\"\" pointer-events=\"none\" display=\"none\"/></g></g><g class=\"mark-group role-title\"><g transform=\"translate(300,-17)\"><path class=\"background\" aria-hidden=\"true\" d=\"M0,0h0v0h0Z\" pointer-events=\"none\"/><g><g class=\"mark-text role-title-text\" role=\"graphics-symbol\" aria-roledescription=\"title\" aria-label=\"Title text 'Pickup Demand by Day &amp; Hour'\" pointer-events=\"none\"><text text-anchor=\"middle\" transform=\"translate(0,10)\" font-family=\"sans-serif\" font-size=\"13px\" font-weight=\"bold\" fill=\"#000\" opacity=\"1\">Pickup Demand by Day &amp; Hour</text></g></g><path class=\"foreground\" aria-hidden=\"true\" d=\"\" pointer-events=\"none\" display=\"none\"/></g></g><g class=\"mark-group role-axis\" role=\"graphics-symbol\" aria-roledescription=\"axis\" aria-label=\"X-axis titled 'DOW' for a discrete scale with 7 values: Mon, Tue, Wed, Thu, Fri, Sat, Sun\"><g transform=\"translate(0.5,400.5)\"><path class=\"background\" aria-hidden=\"true\" d=\"M0,0h0v0h0Z\" pointer-events=\"none\"/><g><g class=\"mark-rule role-axis-tick\" pointer-events=\"none\"><line transform=\"translate(42,0)\" x2=\"0\" y2=\"5\" stroke=\"#888\" stroke-width=\"1\" opacity=\"1\"/><line transform=\"translate(128,0)\" x2=\"0\" y2=\"5\" stroke=\"#888\" stroke-width=\"1\" opacity=\"1\"/><line transform=\"translate(214,0)\" x2=\"0\" y2=\"5\" stroke=\"#888\" stroke-width=\"1\" opacity=\"1\"/><line transform=\"translate(299,0)\" x2=\"0\" y2=\"5\" stroke=\"#888\" stroke-width=\"1\" opacity=\"1\"/><line transform=\"translate(385,0)\" x2=\"0\" y2=\"5\" stroke=\"#888\" stroke-width=\"1\" opacity=\"1\"/><line transform=\"translate(471,0)\" x2=\"0\" y2=\"5\" stroke=\"#888\" stroke-width=\"1\" opacity=\"1\"/><line transform=\"translate(557,0)\" x2=\"0\" y2=\"5\" stroke=\"#888\" stroke-width=\"1\" opacity=\"1\"/></g><g class=\"mark-text role-axis-label\" pointer-events=\"none\"><text text-anchor=\"end\" transform=\"translate(42.357142857142854,7) rotate(270) translate(0,3)\" font-family=\"sans-serif\" font-size=\"10px\" fill=\"#000\" opacity=\"1\">Mon</text><text text-anchor=\"end\" transform=\"translate(128.07142857142856,7) rotate(270) translate(0,3)\" font-family=\"sans-serif\" font-size=\"10px\" fill=\"#000\" opacity=\"1\">Tue</text><text text-anchor=\"end\" transform=\"translate(213.78571428571428,7) rotate(270) translate(0,3)\" font-family=\"sans-serif\" font-size=\"10px\" fill=\"#000\" opacity=\"1\">Wed</text><text text-anchor=\"end\" transform=\"translate(299.49999999999994,7) rotate(270) translate(0,3)\" font-family=\"sans-serif\" font-size=\"10px\" fill=\"#000\" opacity=\"1\">Thu</text><text text-anchor=\"end\" transform=\"translate(385.21428571428567,7) rotate(270) translate(0,3)\" font-family=\"sans-serif\" font-size=\"10px\" fill=\"#000\" opacity=\"1\">Fri</text><text text-anchor=\"end\" transform=\"translate(470.9285714285714,7) rotate(270) translate(0,3)\" font-family=\"sans-serif\" font-size=\"10px\" fill=\"#000\" opacity=\"1\">Sat</text><text text-anchor=\"end\" transform=\"translate(556.6428571428571,7) rotate(270) translate(0,3)\" font-family=\"sans-serif\" font-size=\"10px\" fill=\"#000\" opacity=\"1\">Sun</text></g><g class=\"mark-rule role-axis-domain\" pointer-events=\"none\"><line transform=\"translate(0,0)\" x2=\"600\" y2=\"0\" stroke=\"#888\" stroke-width=\"1\" opacity=\"1\"/></g><g class=\"mark-text role-axis-title\" pointer-events=\"none\"><text text-anchor=\"middle\" transform=\"translate(300,40)\" font-family=\"sans-serif\" font-size=\"11px\" font-weight=\"bold\" fill=\"#000\" opacity=\"1\">DOW</text></g></g><path class=\"foreground\" aria-hidden=\"true\" d=\"\" pointer-events=\"none\" display=\"none\"/></g></g><g class=\"mark-group role-axis\" role=\"graphics-symbol\" aria-roledescription=\"axis\" aria-label=\"Y-axis titled 'PickupHour' for a discrete scale with 24 values: 0, 1, 2, 3, 4, ending with 23\"><g transform=\"translate(0.5,0.5)\"><path class=\"background\" aria-hidden=\"true\" d=\"M0,0h0v0h0Z\" pointer-events=\"none\"/><g><g class=\"mark-rule role-axis-tick\" pointer-events=\"none\"><line transform=\"translate(0,8)\" x2=\"-5\" y2=\"0\" stroke=\"#888\" stroke-width=\"1\" opacity=\"1\"/><line transform=\"translate(0,25)\" x2=\"-5\" y2=\"0\" stroke=\"#888\" stroke-width=\"1\" opacity=\"1\"/><line transform=\"translate(0,41)\" x2=\"-5\" y2=\"0\" stroke=\"#888\" stroke-width=\"1\" opacity=\"1\"/><line transform=\"translate(0,58)\" x2=\"-5\" y2=\"0\" stroke=\"#888\" stroke-width=\"1\" opacity=\"1\"/><line transform=\"translate(0,75)\" x2=\"-5\" y2=\"0\" stroke=\"#888\" stroke-width=\"1\" opacity=\"1\"/><line transform=\"translate(0,91)\" x2=\"-5\" y2=\"0\" stroke=\"#888\" stroke-width=\"1\" opacity=\"1\"/><line transform=\"translate(0,108)\" x2=\"-5\" y2=\"0\" stroke=\"#888\" stroke-width=\"1\" opacity=\"1\"/><line transform=\"translate(0,125)\" x2=\"-5\" y2=\"0\" stroke=\"#888\" stroke-width=\"1\" opacity=\"1\"/><line transform=\"translate(0,141)\" x2=\"-5\" y2=\"0\" stroke=\"#888\" stroke-width=\"1\" opacity=\"1\"/><line transform=\"translate(0,158)\" x2=\"-5\" y2=\"0\" stroke=\"#888\" stroke-width=\"1\" opacity=\"1\"/><line transform=\"translate(0,175)\" x2=\"-5\" y2=\"0\" stroke=\"#888\" stroke-width=\"1\" opacity=\"1\"/><line transform=\"translate(0,191)\" x2=\"-5\" y2=\"0\" stroke=\"#888\" stroke-width=\"1\" opacity=\"1\"/><line transform=\"translate(0,208)\" x2=\"-5\" y2=\"0\" stroke=\"#888\" stroke-width=\"1\" opacity=\"1\"/><line transform=\"translate(0,225)\" x2=\"-5\" y2=\"0\" stroke=\"#888\" stroke-width=\"1\" opacity=\"1\"/><line transform=\"translate(0,241)\" x2=\"-5\" y2=\"0\" stroke=\"#888\" stroke-width=\"1\" opacity=\"1\"/><line transform=\"translate(0,258)\" x2=\"-5\" y2=\"0\" stroke=\"#888\" stroke-width=\"1\" opacity=\"1\"/><line transform=\"translate(0,275)\" x2=\"-5\" y2=\"0\" stroke=\"#888\" stroke-width=\"1\" opacity=\"1\"/><line transform=\"translate(0,291)\" x2=\"-5\" y2=\"0\" stroke=\"#888\" stroke-width=\"1\" opacity=\"1\"/><line transform=\"translate(0,308)\" x2=\"-5\" y2=\"0\" stroke=\"#888\" stroke-width=\"1\" opacity=\"1\"/><line transform=\"translate(0,325)\" x2=\"-5\" y2=\"0\" stroke=\"#888\" stroke-width=\"1\" opacity=\"1\"/><line transform=\"translate(0,341)\" x2=\"-5\" y2=\"0\" stroke=\"#888\" stroke-width=\"1\" opacity=\"1\"/><line transform=\"translate(0,358)\" x2=\"-5\" y2=\"0\" stroke=\"#888\" stroke-width=\"1\" opacity=\"1\"/><line transform=\"translate(0,375)\" x2=\"-5\" y2=\"0\" stroke=\"#888\" stroke-width=\"1\" opacity=\"1\"/><line transform=\"translate(0,391)\" x2=\"-5\" y2=\"0\" stroke=\"#888\" stroke-width=\"1\" opacity=\"1\"/></g><g class=\"mark-text role-axis-label\" pointer-events=\"none\"><text text-anchor=\"end\" transform=\"translate(-7,10.833333333333334)\" font-family=\"sans-serif\" font-size=\"10px\" fill=\"#000\" opacity=\"1\">0</text><text text-anchor=\"end\" transform=\"translate(-7,27.5)\" font-family=\"sans-serif\" font-size=\"10px\" fill=\"#000\" opacity=\"1\">1</text><text text-anchor=\"end\" transform=\"translate(-7,44.16666666666667)\" font-family=\"sans-serif\" font-size=\"10px\" fill=\"#000\" opacity=\"1\">2</text><text text-anchor=\"end\" transform=\"translate(-7,60.833333333333336)\" font-family=\"sans-serif\" font-size=\"10px\" fill=\"#000\" opacity=\"1\">3</text><text text-anchor=\"end\" transform=\"translate(-7,77.5)\" font-family=\"sans-serif\" font-size=\"10px\" fill=\"#000\" opacity=\"1\">4</text><text text-anchor=\"end\" transform=\"translate(-7,94.16666666666667)\" font-family=\"sans-serif\" font-size=\"10px\" fill=\"#000\" opacity=\"1\">5</text><text text-anchor=\"end\" transform=\"translate(-7,110.83333333333333)\" font-family=\"sans-serif\" font-size=\"10px\" fill=\"#000\" opacity=\"1\">6</text><text text-anchor=\"end\" transform=\"translate(-7,127.5)\" font-family=\"sans-serif\" font-size=\"10px\" fill=\"#000\" opacity=\"1\">7</text><text text-anchor=\"end\" transform=\"translate(-7,144.16666666666669)\" font-family=\"sans-serif\" font-size=\"10px\" fill=\"#000\" opacity=\"1\">8</text><text text-anchor=\"end\" transform=\"translate(-7,160.83333333333334)\" font-family=\"sans-serif\" font-size=\"10px\" fill=\"#000\" opacity=\"1\">9</text><text text-anchor=\"end\" transform=\"translate(-7,177.50000000000003)\" font-family=\"sans-serif\" font-size=\"10px\" fill=\"#000\" opacity=\"1\">10</text><text text-anchor=\"end\" transform=\"translate(-7,194.16666666666669)\" font-family=\"sans-serif\" font-size=\"10px\" fill=\"#000\" opacity=\"1\">11</text><text text-anchor=\"end\" transform=\"translate(-7,210.83333333333334)\" font-family=\"sans-serif\" font-size=\"10px\" fill=\"#000\" opacity=\"1\">12</text><text text-anchor=\"end\" transform=\"translate(-7,227.50000000000003)\" font-family=\"sans-serif\" font-size=\"10px\" fill=\"#000\" opacity=\"1\">13</text><text text-anchor=\"end\" transform=\"translate(-7,244.16666666666669)\" font-family=\"sans-serif\" font-size=\"10px\" fill=\"#000\" opacity=\"1\">14</text><text text-anchor=\"end\" transform=\"translate(-7,260.83333333333337)\" font-family=\"sans-serif\" font-size=\"10px\" fill=\"#000\" opacity=\"1\">15</text><text text-anchor=\"end\" transform=\"translate(-7,277.5)\" font-family=\"sans-serif\" font-size=\"10px\" fill=\"#000\" opacity=\"1\">16</text><text text-anchor=\"end\" transform=\"translate(-7,294.1666666666667)\" font-family=\"sans-serif\" font-size=\"10px\" fill=\"#000\" opacity=\"1\">17</text><text text-anchor=\"end\" transform=\"translate(-7,310.8333333333333)\" font-family=\"sans-serif\" font-size=\"10px\" fill=\"#000\" opacity=\"1\">18</text><text text-anchor=\"end\" transform=\"translate(-7,327.5)\" font-family=\"sans-serif\" font-size=\"10px\" fill=\"#000\" opacity=\"1\">19</text><text text-anchor=\"end\" transform=\"translate(-7,344.1666666666667)\" font-family=\"sans-serif\" font-size=\"10px\" fill=\"#000\" opacity=\"1\">20</text><text text-anchor=\"end\" transform=\"translate(-7,360.8333333333333)\" font-family=\"sans-serif\" font-size=\"10px\" fill=\"#000\" opacity=\"1\">21</text><text text-anchor=\"end\" transform=\"translate(-7,377.5)\" font-family=\"sans-serif\" font-size=\"10px\" fill=\"#000\" opacity=\"1\">22</text><text text-anchor=\"end\" transform=\"translate(-7,394.1666666666667)\" font-family=\"sans-serif\" font-size=\"10px\" fill=\"#000\" opacity=\"1\">23</text></g><g class=\"mark-rule role-axis-domain\" pointer-events=\"none\"><line transform=\"translate(0,0)\" x2=\"0\" y2=\"400\" stroke=\"#888\" stroke-width=\"1\" opacity=\"1\"/></g><g class=\"mark-text role-axis-title\" pointer-events=\"none\"><text text-anchor=\"middle\" transform=\"translate(-23,200) rotate(-90) translate(0,-2)\" font-family=\"sans-serif\" font-size=\"11px\" font-weight=\"bold\" fill=\"#000\" opacity=\"1\">PickupHour</text></g></g><path class=\"foreground\" aria-hidden=\"true\" d=\"\" pointer-events=\"none\" display=\"none\"/></g></g></g><path class=\"foreground\" aria-hidden=\"true\" d=\"\" display=\"none\"/></g></g></g><defs><linearGradient id=\"gradient_0\" x1=\"0\" x2=\"0\" y1=\"1\" y2=\"0\"><stop offset=\"0\" stop-color=\"rgb(239, 249, 189)\"/><stop offset=\"0.0014863708758298508\" stop-color=\"rgb(239, 249, 189)\"/><stop offset=\"0.08812996608596396\" stop-color=\"rgb(221, 242, 181)\"/><stop offset=\"0.17477356129609808\" stop-color=\"rgb(197, 232, 181)\"/><stop offset=\"0.2614171565062322\" stop-color=\"rgb(164, 219, 183)\"/><stop offset=\"0.3480607517163663\" stop-color=\"rgb(127, 205, 187)\"/><stop offset=\"0.4347043469265004\" stop-color=\"rgb(93, 191, 191)\"/><stop offset=\"0.5213479421366345\" stop-color=\"rgb(64, 175, 194)\"/><stop offset=\"0.6079915373467686\" stop-color=\"rgb(43, 156, 191)\"/><stop offset=\"0.6946351325569028\" stop-color=\"rgb(34, 132, 184)\"/><stop offset=\"0.7812787277670369\" stop-color=\"rgb(33, 105, 173)\"/><stop offset=\"0.867922322977171\" stop-color=\"rgb(34, 80, 160)\"/><stop offset=\"0.9545659181873051\" stop-color=\"rgb(31, 59, 143)\"/><stop offset=\"1\" stop-color=\"rgb(28, 49, 133)\"/></linearGradient></defs></svg>\n"
      ],
      "text/plain": [
       "@vlplot(\n",
       "    mark={\n",
       "        tooltip=true,\n",
       "        type=\"rect\"\n",
       "    },\n",
       "    width=600,\n",
       "    height=400,\n",
       "    title=\"Pickup Demand by Day & Hour\",\n",
       "    encoding={\n",
       "        x={\n",
       "            type=\"ordinal\",\n",
       "            sort=[\n",
       "                \"Mon\",\n",
       "                \"Tue\",\n",
       "                \"Wed\",\n",
       "                \"Thu\",\n",
       "                \"Fri\",\n",
       "                \"Sat\"\n",
       "            ],\n",
       "            field=\"DOW\"\n",
       "        },\n",
       "        y={\n",
       "            type=\"ordinal\",\n",
       "            field=\"PickupHour\"\n",
       "        },\n",
       "        color={\n",
       "            title=\"Pickups\",\n",
       "            field=\"cnt\"\n",
       "        }\n",
       "    },\n",
       "    data={\n",
       "        values=...\n",
       "    }\n",
       ")"
      ]
     },
     "execution_count": 24,
     "metadata": {},
     "output_type": "execute_result"
    }
   ],
   "source": [
    "result = query_ridership_day_and_hour(ydb, table; plot=true)\n",
    "result.plot"
   ]
  },
  {
   "cell_type": "code",
   "execution_count": 26,
   "id": "ac7fef48-2bb0-44f3-aa4b-0d5b440521c6",
   "metadata": {},
   "outputs": [
    {
     "data": {
      "text/html": [],
      "text/plain": [
       "YellowTripQueries.YellowQueryResult(YellowDB(\"/tmp/ydb__.db\", \"READ_WRITE\", nothing, nothing), \u001b[1m44×5 DataFrame\u001b[0m\n",
       "\u001b[1m Row \u001b[0m│\u001b[1m PickupYear \u001b[0m\u001b[1m tipped \u001b[0m\u001b[1m ptype   \u001b[0m\u001b[1m cnt      \u001b[0m\u001b[1m pct         \u001b[0m\n",
       "     │\u001b[90m Int64?     \u001b[0m\u001b[90m Int32? \u001b[0m\u001b[90m String? \u001b[0m\u001b[90m Int64?   \u001b[0m\u001b[90m Float32?    \u001b[0m\n",
       "─────┼────────────────────────────────────────────────────\n",
       "   1 │       2011       0  Card      2004618   2.69112\n",
       "   2 │       2011       1  Card     72485466  97.3089\n",
       "   3 │       2011       1  Cash        77537   0.0791473\n",
       "   4 │       2011       0  Cash     97887881  99.9209\n",
       "   5 │       2012       1  Card     79408793  97.1863\n",
       "   6 │       2012       0  Card      2298974   2.81365\n",
       "   7 │       2012       0  Cash     86916669  99.9603\n",
       "   8 │       2012       1  Cash        34558   0.0397441\n",
       "   9 │       2013       1  Card     89342394  97.0124\n",
       "  10 │       2013       0  Card      2751346   2.98755\n",
       "  11 │       2013       0  Cash     77800712  99.992\n",
       "  ⋮  │     ⋮         ⋮        ⋮        ⋮           ⋮\n",
       "  35 │       2019       0  Cash     22158219  99.9893\n",
       "  36 │       2019       1  Cash         2372   0.0107037\n",
       "  37 │       2020       1  Card     16346246  96.8612\n",
       "  38 │       2020       0  Card       529699   3.13878\n",
       "  39 │       2020       1  Cash          670   0.0112899\n",
       "  40 │       2020       0  Cash      5933814  99.9887\n",
       "  41 │       2021       0  Card       772749   3.56025\n",
       "  42 │       2021       1  Card     20932143  96.4398\n",
       "  43 │       2021       1  Cash          648   0.0101326\n",
       "  44 │       2021       0  Cash      6394547  99.9899\n",
       "\u001b[36m                                           23 rows omitted\u001b[0m, nothing, 38.8870475, \"WITH t1 AS (\\n    SELECT \\n        CASE \\n            WHEN tip_amount > 0 THEN 1\\n            ELSE 0\\n        END AS tipped,\\n        datepart('year', tpep_pickup_datetime) as PickupYear,\\n        CASE \\n            WHEN payment_type = 1 THEN 'Card'\\n            WHEN payment_type = 2 THEN 'Cash'\\n            WHEN payment_type = 3 THEN 'No Charge'\\n            WHEN payment_type = 4 THEN 'Dispute'\\n            WHEN payment_type = 5 THEN 'Unknown'\\n            WHEN payment_type = 6 THEN 'Voided Trip'\\n            ELSE 'Unknown'\\n        END AS ptype,\\n        count(*) AS cnt,\\n    FROM \\n        parquet_scan('/Users/abisen/Desktop/data/tlc/*/*.parquet')\\n    WHERE\\n        date_diff('second', tpep_pickup_datetime, tpep_dropoff_datetime) > 0     AND\\n        date_diff('second', tpep_pickup_datetime, tpep_dropoff_datetime) < 43200 AND\\n        passenger_count <= 6         AND\\n        passenger_count >  0         AND\\n        passenger_count IS NOT NULL  AND\\n        -- assumption: trip distances greater than 100 miles \\n        -- must be for out of town hire\\n        trip_distance > 0            AND \\n        trip_distance < 100          AND\\n        -- filter out non card / cash transactions\\n        payment_type <= 2            AND             \\n        -- filter out some records with incorrect date time \\n        -- that falls outside the dataset range\\n        datepart('year', tpep_pickup_datetime) > 2010 AND\\n        datepart('year', tpep_pickup_datetime) < 2022\\n    GROUP BY PickupYear, ptype, tipped \\n    )\\n\\nSELECT PickupYear, tipped, ptype, cnt,\\n       CAST(cnt AS FLOAT)/(sum(cnt) OVER (PARTITION BY PickupYear, ptype)) * 100 AS pct\\nFROM t1\\n;\\n\")"
      ]
     },
     "execution_count": 26,
     "metadata": {},
     "output_type": "execute_result"
    },
    {
     "name": "stdout",
     "output_type": "stream",
     "text": [
      "\u001b[1m44×5 DataFrame\u001b[0m\n",
      "\u001b[1m Row \u001b[0m│\u001b[1m PickupYear \u001b[0m\u001b[1m tipped \u001b[0m\u001b[1m ptype   \u001b[0m\u001b[1m cnt      \u001b[0m\u001b[1m pct         \u001b[0m\n",
      "     │\u001b[90m Int64?     \u001b[0m\u001b[90m Int32? \u001b[0m\u001b[90m String? \u001b[0m\u001b[90m Int64?   \u001b[0m\u001b[90m Float32?    \u001b[0m\n",
      "─────┼────────────────────────────────────────────────────\n",
      "   1 │       2011       0  Card      2004618   2.69112\n",
      "   2 │       2011       1  Card     72485466  97.3089\n",
      "   3 │       2011       1  Cash        77537   0.0791473\n",
      "   4 │       2011       0  Cash     97887881  99.9209\n",
      "   5 │       2012       1  Card     79408793  97.1863\n",
      "   6 │       2012       0  Card      2298974   2.81365\n",
      "   7 │       2012       0  Cash     86916669  99.9603\n",
      "   8 │       2012       1  Cash        34558   0.0397441\n",
      "   9 │       2013       1  Card     89342394  97.0124\n",
      "  10 │       2013       0  Card      2751346   2.98755\n",
      "  11 │       2013       0  Cash     77800712  99.992\n",
      "  ⋮  │     ⋮         ⋮        ⋮        ⋮           ⋮\n",
      "  35 │       2019       0  Cash     22158219  99.9893\n",
      "  36 │       2019       1  Cash         2372   0.0107037\n",
      "  37 │       2020       1  Card     16346246  96.8612\n",
      "  38 │       2020       0  Card       529699   3.13878\n",
      "  39 │       2020       1  Cash          670   0.0112899\n",
      "  40 │       2020       0  Cash      5933814  99.9887\n",
      "  41 │       2021       0  Card       772749   3.56025\n",
      "  42 │       2021       1  Card     20932143  96.4398\n",
      "  43 │       2021       1  Cash          648   0.0101326\n",
      "  44 │       2021       0  Cash      6394547  99.9899\n",
      "\u001b[36m                                           23 rows omitted\u001b[0m\n",
      "\n",
      "Execution Time: 38.8870475\n"
     ]
    }
   ],
   "source": [
    "sql = \"\"\"\n",
    "        WITH t1 AS (\n",
    "            SELECT \n",
    "                CASE \n",
    "                    WHEN tip_amount > 0 THEN 1\n",
    "                    ELSE 0\n",
    "                END AS tipped,\n",
    "                datepart('year', tpep_pickup_datetime) as PickupYear,\n",
    "                CASE \n",
    "                    WHEN payment_type = 1 THEN 'Card'\n",
    "                    WHEN payment_type = 2 THEN 'Cash'\n",
    "                    WHEN payment_type = 3 THEN 'No Charge'\n",
    "                    WHEN payment_type = 4 THEN 'Dispute'\n",
    "                    WHEN payment_type = 5 THEN 'Unknown'\n",
    "                    WHEN payment_type = 6 THEN 'Voided Trip'\n",
    "                    ELSE 'Unknown'\n",
    "                END AS ptype,\n",
    "                count(*) AS cnt,\n",
    "            FROM \n",
    "                $(table)\n",
    "            WHERE\n",
    "                date_diff('second', tpep_pickup_datetime, tpep_dropoff_datetime) > 0     AND\n",
    "                date_diff('second', tpep_pickup_datetime, tpep_dropoff_datetime) < 43200 AND\n",
    "                passenger_count <= 6         AND\n",
    "                passenger_count >  0         AND\n",
    "                passenger_count IS NOT NULL  AND\n",
    "                -- assumption: trip distances greater than 100 miles \n",
    "                -- must be for out of town hire\n",
    "                trip_distance > 0            AND \n",
    "                trip_distance < 100          AND\n",
    "                -- filter out non card / cash transactions\n",
    "                payment_type <= 2            AND             \n",
    "                -- filter out some records with incorrect date time \n",
    "                -- that falls outside the dataset range\n",
    "                datepart('year', tpep_pickup_datetime) > 2010 AND\n",
    "                datepart('year', tpep_pickup_datetime) < 2022\n",
    "            GROUP BY PickupYear, ptype, tipped \n",
    "            )\n",
    "\n",
    "        SELECT PickupYear, tipped, ptype, cnt,\n",
    "               CAST(cnt AS FLOAT)/(sum(cnt) OVER (PARTITION BY PickupYear, ptype)) * 100 AS pct\n",
    "        FROM t1\n",
    "        ;\n",
    "        \"\"\"\n",
    "\n",
    "df = execute(ydb, sql)"
   ]
  },
  {
   "cell_type": "code",
   "execution_count": 49,
   "id": "22a5e2c4-086c-41a3-9350-2bb80fe7bf49",
   "metadata": {},
   "outputs": [
    {
     "data": {
      "application/vnd.vegalite.v4+json": {
       "data": {
        "values": [
         {
          "PickupYear": 2011,
          "cnt": 2004618,
          "pct": 2.6911209,
          "ptype": "Card",
          "tipped": 0
         },
         {
          "PickupYear": 2011,
          "cnt": 72485466,
          "pct": 97.30888,
          "ptype": "Card",
          "tipped": 1
         },
         {
          "PickupYear": 2011,
          "cnt": 77537,
          "pct": 0.07914732,
          "ptype": "Cash",
          "tipped": 1
         },
         {
          "PickupYear": 2011,
          "cnt": 97887881,
          "pct": 99.92085,
          "ptype": "Cash",
          "tipped": 0
         },
         {
          "PickupYear": 2012,
          "cnt": 79408793,
          "pct": 97.18635,
          "ptype": "Card",
          "tipped": 1
         },
         {
          "PickupYear": 2012,
          "cnt": 2298974,
          "pct": 2.8136542,
          "ptype": "Card",
          "tipped": 0
         },
         {
          "PickupYear": 2012,
          "cnt": 86916669,
          "pct": 99.96026,
          "ptype": "Cash",
          "tipped": 0
         },
         {
          "PickupYear": 2012,
          "cnt": 34558,
          "pct": 0.03974412,
          "ptype": "Cash",
          "tipped": 1
         },
         {
          "PickupYear": 2013,
          "cnt": 89342394,
          "pct": 97.01244,
          "ptype": "Card",
          "tipped": 1
         },
         {
          "PickupYear": 2013,
          "cnt": 2751346,
          "pct": 2.9875493,
          "ptype": "Card",
          "tipped": 0
         },
         {
          "PickupYear": 2013,
          "cnt": 77800712,
          "pct": 99.99204,
          "ptype": "Cash",
          "tipped": 0
         },
         {
          "PickupYear": 2013,
          "cnt": 6195,
          "pct": 0.007962018,
          "ptype": "Cash",
          "tipped": 1
         },
         {
          "PickupYear": 2014,
          "cnt": 92428667,
          "pct": 96.64197,
          "ptype": "Card",
          "tipped": 1
         },
         {
          "PickupYear": 2014,
          "cnt": 3211632,
          "pct": 3.3580322,
          "ptype": "Card",
          "tipped": 0
         },
         {
          "PickupYear": 2014,
          "cnt": 67753810,
          "pct": 99.99497,
          "ptype": "Cash",
          "tipped": 0
         },
         {
          "PickupYear": 2014,
          "cnt": 3407,
          "pct": 0.0050282464,
          "ptype": "Cash",
          "tipped": 1
         },
         {
          "PickupYear": 2015,
          "cnt": 87865933,
          "pct": 96.41592,
          "ptype": "Card",
          "tipped": 1
         },
         {
          "PickupYear": 2015,
          "cnt": 3266258,
          "pct": 3.584088,
          "ptype": "Card",
          "tipped": 0
         },
         {
          "PickupYear": 2015,
          "cnt": 2005,
          "pct": 0.003761579,
          "ptype": "Cash",
          "tipped": 1
         },
         {
          "PickupYear": 2015,
          "cnt": 53300073,
          "pct": 99.99623,
          "ptype": "Cash",
          "tipped": 0
         },
         {
          "PickupYear": 2016,
          "cnt": 3315588,
          "pct": 3.8659353,
          "ptype": "Card",
          "tipped": 0
         },
         {
          "PickupYear": 2016,
          "cnt": 82448602,
          "pct": 96.13406,
          "ptype": "Card",
          "tipped": 1
         },
         {
          "PickupYear": 2016,
          "cnt": 607,
          "pct": 0.0013866428,
          "ptype": "Cash",
          "tipped": 1
         },
         {
          "PickupYear": 2016,
          "cnt": 43774186,
          "pct": 99.99861,
          "ptype": "Cash",
          "tipped": 0
         },
         {
          "PickupYear": 2017,
          "cnt": 72591892,
          "pct": 95.847466,
          "ptype": "Card",
          "tipped": 1
         },
         {
          "PickupYear": 2017,
          "cnt": 3144998,
          "pct": 4.152531,
          "ptype": "Card",
          "tipped": 0
         },
         {
          "PickupYear": 2017,
          "cnt": 36023943,
          "pct": 99.99993,
          "ptype": "Cash",
          "tipped": 0
         },
         {
          "PickupYear": 2017,
          "cnt": 26,
          "pct": 7.217417e-05,
          "ptype": "Cash",
          "tipped": 1
         },
         {
          "PickupYear": 2018,
          "cnt": 66973202,
          "pct": 95.27411,
          "ptype": "Card",
          "tipped": 1
         },
         {
          "PickupYear": 2018,
          "cnt": 3322082,
          "pct": 4.7258964,
          "ptype": "Card",
          "tipped": 0
         },
         {
          "PickupYear": 2018,
          "cnt": 30098038,
          "pct": 99.99756,
          "ptype": "Cash",
          "tipped": 0
         },
         {
          "PickupYear": 2018,
          "cnt": 733,
          "pct": 0.0024353152,
          "ptype": "Cash",
          "tipped": 1
         },
         {
          "PickupYear": 2019,
          "cnt": 2183075,
          "pct": 3.6987967,
          "ptype": "Card",
          "tipped": 0
         },
         {
          "PickupYear": 2019,
          "cnt": 56838145,
          "pct": 96.3012,
          "ptype": "Card",
          "tipped": 1
         },
         {
          "PickupYear": 2019,
          "cnt": 22158219,
          "pct": 99.989296,
          "ptype": "Cash",
          "tipped": 0
         },
         {
          "PickupYear": 2019,
          "cnt": 2372,
          "pct": 0.010703686,
          "ptype": "Cash",
          "tipped": 1
         },
         {
          "PickupYear": 2020,
          "cnt": 16346246,
          "pct": 96.86123,
          "ptype": "Card",
          "tipped": 1
         },
         {
          "PickupYear": 2020,
          "cnt": 529699,
          "pct": 3.1387813,
          "ptype": "Card",
          "tipped": 0
         },
         {
          "PickupYear": 2020,
          "cnt": 670,
          "pct": 0.011289946,
          "ptype": "Cash",
          "tipped": 1
         },
         {
          "PickupYear": 2020,
          "cnt": 5933814,
          "pct": 99.98871,
          "ptype": "Cash",
          "tipped": 0
         },
         {
          "PickupYear": 2021,
          "cnt": 772749,
          "pct": 3.560253,
          "ptype": "Card",
          "tipped": 0
         },
         {
          "PickupYear": 2021,
          "cnt": 20932143,
          "pct": 96.43975,
          "ptype": "Card",
          "tipped": 1
         },
         {
          "PickupYear": 2021,
          "cnt": 648,
          "pct": 0.010132608,
          "ptype": "Cash",
          "tipped": 1
         },
         {
          "PickupYear": 2021,
          "cnt": 6394547,
          "pct": 99.98987,
          "ptype": "Cash",
          "tipped": 0
         }
        ]
       },
       "encoding": {
        "color": {
         "field": "tipped",
         "type": "nominal"
        },
        "column": {
         "field": "ptype",
         "title": "Payment Type",
         "type": "ordinal"
        },
        "x": {
         "field": "PickupYear",
         "title": "Year",
         "type": "ordinal"
        },
        "y": {
         "field": "pct",
         "type": "quantitative"
        }
       },
       "mark": {
        "tooltip": true,
        "type": "bar"
       },
       "title": "Tiping Percentage for Payment Type"
      },
      "image/png": "[encoded data removed]",
      "image/svg+xml": [
       "<?xml version=\"1.0\" encoding=\"utf-8\"?>\n",
       "<!DOCTYPE svg PUBLIC \"-//W3C//DTD SVG 1.1//EN\" \"http://www.w3.org/Graphics/SVG/1.1/DTD/svg11.dtd\">\n",
       "<svg xmlns=\"http://www.w3.org/2000/svg\" xmlns:xlink=\"http://www.w3.org/1999/xlink\" version=\"1.1\" class=\"marks\" width=\"566\" height=\"326\" viewBox=\"0 0 566 326\"><rect width=\"566\" height=\"326\" fill=\"white\"/><g fill=\"none\" stroke-miterlimit=\"10\" transform=\"translate(46,74)\"><g class=\"mark-group role-frame root\" role=\"graphics-object\" aria-roledescription=\"group mark container\"><g transform=\"translate(0,0)\"><path class=\"background\" aria-hidden=\"true\" d=\"M0,0h0v0h0Z\"/><g><g class=\"mark-group role-column-title column-title\" role=\"graphics-object\" aria-roledescription=\"group mark container\"><g transform=\"translate(231,-31)\"><path class=\"background\" aria-hidden=\"true\" d=\"M0,0h0v0h0Z\"/><g><g class=\"mark-group role-title\"><g transform=\"translate(0,-21)\"><path class=\"background\" aria-hidden=\"true\" d=\"M0,0h0v0h0Z\" pointer-events=\"none\"/><g><g class=\"mark-text role-title-text\" role=\"graphics-symbol\" aria-roledescription=\"title\" aria-label=\"Title text 'Payment Type'\" pointer-events=\"none\"><text text-anchor=\"middle\" transform=\"translate(0,9)\" font-family=\"sans-serif\" font-size=\"11px\" font-weight=\"bold\" fill=\"#000\" opacity=\"1\">Payment Type</text></g></g><path class=\"foreground\" aria-hidden=\"true\" d=\"\" pointer-events=\"none\" display=\"none\"/></g></g></g><path class=\"foreground\" aria-hidden=\"true\" d=\"\" display=\"none\"/></g></g><g class=\"mark-group role-row-header row_header\" role=\"graphics-object\" aria-roledescription=\"group mark container\"><g transform=\"translate(-1,0)\"><path class=\"background\" aria-hidden=\"true\" d=\"M0,0h0v200h0Z\"/><g><g class=\"mark-group role-axis\" role=\"graphics-symbol\" aria-roledescription=\"axis\" aria-label=\"Y-axis titled 'pct' for a linear scale with values from 0 to 110\"><g transform=\"translate(0.5,0.5)\"><path class=\"background\" aria-hidden=\"true\" d=\"M0,0h0v0h0Z\" pointer-events=\"none\"/><g><g class=\"mark-rule role-axis-tick\" pointer-events=\"none\"><line transform=\"translate(0,200)\" x2=\"-5\" y2=\"0\" stroke=\"#888\" stroke-width=\"1\" opacity=\"1\"/><line transform=\"translate(0,164)\" x2=\"-5\" y2=\"0\" stroke=\"#888\" stroke-width=\"1\" opacity=\"1\"/><line transform=\"translate(0,127)\" x2=\"-5\" y2=\"0\" stroke=\"#888\" stroke-width=\"1\" opacity=\"1\"/><line transform=\"translate(0,91)\" x2=\"-5\" y2=\"0\" stroke=\"#888\" stroke-width=\"1\" opacity=\"1\"/><line transform=\"translate(0,55)\" x2=\"-5\" y2=\"0\" stroke=\"#888\" stroke-width=\"1\" opacity=\"1\"/><line transform=\"translate(0,18)\" x2=\"-5\" y2=\"0\" stroke=\"#888\" stroke-width=\"1\" opacity=\"1\"/></g><g class=\"mark-text role-axis-label\" pointer-events=\"none\"><text text-anchor=\"end\" transform=\"translate(-7,203)\" font-family=\"sans-serif\" font-size=\"10px\" fill=\"#000\" opacity=\"1\">0</text><text text-anchor=\"end\" transform=\"translate(-7,166.63636363636363)\" font-family=\"sans-serif\" font-size=\"10px\" fill=\"#000\" opacity=\"1\">20</text><text text-anchor=\"end\" transform=\"translate(-7,130.27272727272725)\" font-family=\"sans-serif\" font-size=\"10px\" fill=\"#000\" opacity=\"1\">40</text><text text-anchor=\"end\" transform=\"translate(-7,93.90909090909092)\" font-family=\"sans-serif\" font-size=\"10px\" fill=\"#000\" opacity=\"1\">60</text><text text-anchor=\"end\" transform=\"translate(-7,57.54545454545454)\" font-family=\"sans-serif\" font-size=\"10px\" fill=\"#000\" opacity=\"1\">80</text><text text-anchor=\"end\" transform=\"translate(-7,21.181818181818187)\" font-family=\"sans-serif\" font-size=\"10px\" fill=\"#000\" opacity=\"1\">100</text></g><g class=\"mark-rule role-axis-domain\" pointer-events=\"none\"><line transform=\"translate(0,200)\" x2=\"0\" y2=\"-200\" stroke=\"#888\" stroke-width=\"1\" opacity=\"1\"/></g><g class=\"mark-text role-axis-title\" pointer-events=\"none\"><text text-anchor=\"middle\" transform=\"translate(-29,100) rotate(-90) translate(0,-2)\" font-family=\"sans-serif\" font-size=\"11px\" font-weight=\"bold\" fill=\"#000\" opacity=\"1\">pct</text></g></g><path class=\"foreground\" aria-hidden=\"true\" d=\"\" pointer-events=\"none\" display=\"none\"/></g></g></g><path class=\"foreground\" aria-hidden=\"true\" d=\"\" display=\"none\"/></g></g><g class=\"mark-group role-column-header column_header\" role=\"graphics-object\" aria-roledescription=\"group mark container\"><g transform=\"translate(0,-1)\"><path class=\"background\" aria-hidden=\"true\" d=\"M0,0h220v0h-220Z\"/><g><g class=\"mark-group role-title\"><g transform=\"translate(110,-20)\"><path class=\"background\" aria-hidden=\"true\" d=\"M0,0h0v0h0Z\" pointer-events=\"none\"/><g><g class=\"mark-text role-title-text\" role=\"graphics-symbol\" aria-roledescription=\"title\" aria-label=\"Title text 'Card'\" pointer-events=\"none\"><text text-anchor=\"middle\" transform=\"translate(0,8)\" font-family=\"sans-serif\" font-size=\"10px\" fill=\"#000\" opacity=\"1\">Card</text></g></g><path class=\"foreground\" aria-hidden=\"true\" d=\"\" pointer-events=\"none\" display=\"none\"/></g></g></g><path class=\"foreground\" aria-hidden=\"true\" d=\"\" display=\"none\"/></g><g transform=\"translate(242,-1)\"><path class=\"background\" aria-hidden=\"true\" d=\"M0,0h220v0h-220Z\"/><g><g class=\"mark-group role-title\"><g transform=\"translate(110,-20)\"><path class=\"background\" aria-hidden=\"true\" d=\"M0,0h0v0h0Z\" pointer-events=\"none\"/><g><g class=\"mark-text role-title-text\" role=\"graphics-symbol\" aria-roledescription=\"title\" aria-label=\"Title text 'Cash'\" pointer-events=\"none\"><text text-anchor=\"middle\" transform=\"translate(0,8)\" font-family=\"sans-serif\" font-size=\"10px\" fill=\"#000\" opacity=\"1\">Cash</text></g></g><path class=\"foreground\" aria-hidden=\"true\" d=\"\" pointer-events=\"none\" display=\"none\"/></g></g></g><path class=\"foreground\" aria-hidden=\"true\" d=\"\" display=\"none\"/></g></g><g class=\"mark-group role-column-footer column_footer\" role=\"graphics-object\" aria-roledescription=\"group mark container\"><g transform=\"translate(0,201)\"><path class=\"background\" aria-hidden=\"true\" d=\"M0,0h220v0h-220Z\"/><g><g class=\"mark-group role-axis\" role=\"graphics-symbol\" aria-roledescription=\"axis\" aria-label=\"X-axis titled 'Year' for a discrete scale with 11 values: 2011, 2012, 2013, 2014, 2015, ending with 2021\"><g transform=\"translate(0.5,0.5)\"><path class=\"background\" aria-hidden=\"true\" d=\"M0,0h0v0h0Z\" pointer-events=\"none\"/><g><g class=\"mark-rule role-axis-tick\" pointer-events=\"none\"><line transform=\"translate(10,0)\" x2=\"0\" y2=\"5\" stroke=\"#888\" stroke-width=\"1\" opacity=\"1\"/><line transform=\"translate(30,0)\" x2=\"0\" y2=\"5\" stroke=\"#888\" stroke-width=\"1\" opacity=\"1\"/><line transform=\"translate(50,0)\" x2=\"0\" y2=\"5\" stroke=\"#888\" stroke-width=\"1\" opacity=\"1\"/><line transform=\"translate(70,0)\" x2=\"0\" y2=\"5\" stroke=\"#888\" stroke-width=\"1\" opacity=\"1\"/><line transform=\"translate(90,0)\" x2=\"0\" y2=\"5\" stroke=\"#888\" stroke-width=\"1\" opacity=\"1\"/><line transform=\"translate(110,0)\" x2=\"0\" y2=\"5\" stroke=\"#888\" stroke-width=\"1\" opacity=\"1\"/><line transform=\"translate(130,0)\" x2=\"0\" y2=\"5\" stroke=\"#888\" stroke-width=\"1\" opacity=\"1\"/><line transform=\"translate(150,0)\" x2=\"0\" y2=\"5\" stroke=\"#888\" stroke-width=\"1\" opacity=\"1\"/><line transform=\"translate(170,0)\" x2=\"0\" y2=\"5\" stroke=\"#888\" stroke-width=\"1\" opacity=\"1\"/><line transform=\"translate(190,0)\" x2=\"0\" y2=\"5\" stroke=\"#888\" stroke-width=\"1\" opacity=\"1\"/><line transform=\"translate(210,0)\" x2=\"0\" y2=\"5\" stroke=\"#888\" stroke-width=\"1\" opacity=\"1\"/></g><g class=\"mark-text role-axis-label\" pointer-events=\"none\"><text text-anchor=\"end\" transform=\"translate(9.5,7) rotate(270) translate(0,3)\" font-family=\"sans-serif\" font-size=\"10px\" fill=\"#000\" opacity=\"1\">2011</text><text text-anchor=\"end\" transform=\"translate(29.5,7) rotate(270) translate(0,3)\" font-family=\"sans-serif\" font-size=\"10px\" fill=\"#000\" opacity=\"1\">2012</text><text text-anchor=\"end\" transform=\"translate(49.5,7) rotate(270) translate(0,3)\" font-family=\"sans-serif\" font-size=\"10px\" fill=\"#000\" opacity=\"1\">2013</text><text text-anchor=\"end\" transform=\"translate(69.5,7) rotate(270) translate(0,3)\" font-family=\"sans-serif\" font-size=\"10px\" fill=\"#000\" opacity=\"1\">2014</text><text text-anchor=\"end\" transform=\"translate(89.5,7) rotate(270) translate(0,3)\" font-family=\"sans-serif\" font-size=\"10px\" fill=\"#000\" opacity=\"1\">2015</text><text text-anchor=\"end\" transform=\"translate(109.5,7) rotate(270) translate(0,3)\" font-family=\"sans-serif\" font-size=\"10px\" fill=\"#000\" opacity=\"1\">2016</text><text text-anchor=\"end\" transform=\"translate(129.5,7) rotate(270) translate(0,3)\" font-family=\"sans-serif\" font-size=\"10px\" fill=\"#000\" opacity=\"1\">2017</text><text text-anchor=\"end\" transform=\"translate(149.5,7) rotate(270) translate(0,3)\" font-family=\"sans-serif\" font-size=\"10px\" fill=\"#000\" opacity=\"1\">2018</text><text text-anchor=\"end\" transform=\"translate(169.5,7) rotate(270) translate(0,3)\" font-family=\"sans-serif\" font-size=\"10px\" fill=\"#000\" opacity=\"1\">2019</text><text text-anchor=\"end\" transform=\"translate(189.5,7) rotate(270) translate(0,3)\" font-family=\"sans-serif\" font-size=\"10px\" fill=\"#000\" opacity=\"1\">2020</text><text text-anchor=\"end\" transform=\"translate(209.5,7) rotate(270) translate(0,3)\" font-family=\"sans-serif\" font-size=\"10px\" fill=\"#000\" opacity=\"1\">2021</text></g><g class=\"mark-rule role-axis-domain\" pointer-events=\"none\"><line transform=\"translate(0,0)\" x2=\"220\" y2=\"0\" stroke=\"#888\" stroke-width=\"1\" opacity=\"1\"/></g><g class=\"mark-text role-axis-title\" pointer-events=\"none\"><text text-anchor=\"middle\" transform=\"translate(110,44)\" font-family=\"sans-serif\" font-size=\"11px\" font-weight=\"bold\" fill=\"#000\" opacity=\"1\">Year</text></g></g><path class=\"foreground\" aria-hidden=\"true\" d=\"\" pointer-events=\"none\" display=\"none\"/></g></g></g><path class=\"foreground\" aria-hidden=\"true\" d=\"\" display=\"none\"/></g><g transform=\"translate(242,201)\"><path class=\"background\" aria-hidden=\"true\" d=\"M0,0h220v0h-220Z\"/><g><g class=\"mark-group role-axis\" role=\"graphics-symbol\" aria-roledescription=\"axis\" aria-label=\"X-axis titled 'Year' for a discrete scale with 11 values: 2011, 2012, 2013, 2014, 2015, ending with 2021\"><g transform=\"translate(0.5,0.5)\"><path class=\"background\" aria-hidden=\"true\" d=\"M0,0h0v0h0Z\" pointer-events=\"none\"/><g><g class=\"mark-rule role-axis-tick\" pointer-events=\"none\"><line transform=\"translate(10,0)\" x2=\"0\" y2=\"5\" stroke=\"#888\" stroke-width=\"1\" opacity=\"1\"/><line transform=\"translate(30,0)\" x2=\"0\" y2=\"5\" stroke=\"#888\" stroke-width=\"1\" opacity=\"1\"/><line transform=\"translate(50,0)\" x2=\"0\" y2=\"5\" stroke=\"#888\" stroke-width=\"1\" opacity=\"1\"/><line transform=\"translate(70,0)\" x2=\"0\" y2=\"5\" stroke=\"#888\" stroke-width=\"1\" opacity=\"1\"/><line transform=\"translate(90,0)\" x2=\"0\" y2=\"5\" stroke=\"#888\" stroke-width=\"1\" opacity=\"1\"/><line transform=\"translate(110,0)\" x2=\"0\" y2=\"5\" stroke=\"#888\" stroke-width=\"1\" opacity=\"1\"/><line transform=\"translate(130,0)\" x2=\"0\" y2=\"5\" stroke=\"#888\" stroke-width=\"1\" opacity=\"1\"/><line transform=\"translate(150,0)\" x2=\"0\" y2=\"5\" stroke=\"#888\" stroke-width=\"1\" opacity=\"1\"/><line transform=\"translate(170,0)\" x2=\"0\" y2=\"5\" stroke=\"#888\" stroke-width=\"1\" opacity=\"1\"/><line transform=\"translate(190,0)\" x2=\"0\" y2=\"5\" stroke=\"#888\" stroke-width=\"1\" opacity=\"1\"/><line transform=\"translate(210,0)\" x2=\"0\" y2=\"5\" stroke=\"#888\" stroke-width=\"1\" opacity=\"1\"/></g><g class=\"mark-text role-axis-label\" pointer-events=\"none\"><text text-anchor=\"end\" transform=\"translate(9.5,7) rotate(270) translate(0,3)\" font-family=\"sans-serif\" font-size=\"10px\" fill=\"#000\" opacity=\"1\">2011</text><text text-anchor=\"end\" transform=\"translate(29.5,7) rotate(270) translate(0,3)\" font-family=\"sans-serif\" font-size=\"10px\" fill=\"#000\" opacity=\"1\">2012</text><text text-anchor=\"end\" transform=\"translate(49.5,7) rotate(270) translate(0,3)\" font-family=\"sans-serif\" font-size=\"10px\" fill=\"#000\" opacity=\"1\">2013</text><text text-anchor=\"end\" transform=\"translate(69.5,7) rotate(270) translate(0,3)\" font-family=\"sans-serif\" font-size=\"10px\" fill=\"#000\" opacity=\"1\">2014</text><text text-anchor=\"end\" transform=\"translate(89.5,7) rotate(270) translate(0,3)\" font-family=\"sans-serif\" font-size=\"10px\" fill=\"#000\" opacity=\"1\">2015</text><text text-anchor=\"end\" transform=\"translate(109.5,7) rotate(270) translate(0,3)\" font-family=\"sans-serif\" font-size=\"10px\" fill=\"#000\" opacity=\"1\">2016</text><text text-anchor=\"end\" transform=\"translate(129.5,7) rotate(270) translate(0,3)\" font-family=\"sans-serif\" font-size=\"10px\" fill=\"#000\" opacity=\"1\">2017</text><text text-anchor=\"end\" transform=\"translate(149.5,7) rotate(270) translate(0,3)\" font-family=\"sans-serif\" font-size=\"10px\" fill=\"#000\" opacity=\"1\">2018</text><text text-anchor=\"end\" transform=\"translate(169.5,7) rotate(270) translate(0,3)\" font-family=\"sans-serif\" font-size=\"10px\" fill=\"#000\" opacity=\"1\">2019</text><text text-anchor=\"end\" transform=\"translate(189.5,7) rotate(270) translate(0,3)\" font-family=\"sans-serif\" font-size=\"10px\" fill=\"#000\" opacity=\"1\">2020</text><text text-anchor=\"end\" transform=\"translate(209.5,7) rotate(270) translate(0,3)\" font-family=\"sans-serif\" font-size=\"10px\" fill=\"#000\" opacity=\"1\">2021</text></g><g class=\"mark-rule role-axis-domain\" pointer-events=\"none\"><line transform=\"translate(0,0)\" x2=\"220\" y2=\"0\" stroke=\"#888\" stroke-width=\"1\" opacity=\"1\"/></g><g class=\"mark-text role-axis-title\" pointer-events=\"none\"><text text-anchor=\"middle\" transform=\"translate(110,44)\" font-family=\"sans-serif\" font-size=\"11px\" font-weight=\"bold\" fill=\"#000\" opacity=\"1\">Year</text></g></g><path class=\"foreground\" aria-hidden=\"true\" d=\"\" pointer-events=\"none\" display=\"none\"/></g></g></g><path class=\"foreground\" aria-hidden=\"true\" d=\"\" display=\"none\"/></g></g><g class=\"mark-group role-scope cell\" role=\"graphics-object\" aria-roledescription=\"group mark container\"><g transform=\"translate(0,0)\"><path class=\"background\" aria-hidden=\"true\" d=\"M0.5,0.5h220v200h-220Z\" stroke=\"#ddd\"/><g><g class=\"mark-group role-axis\" aria-hidden=\"true\"><g transform=\"translate(0.5,0.5)\"><path class=\"background\" aria-hidden=\"true\" d=\"M0,0h0v0h0Z\" pointer-events=\"none\"/><g><g class=\"mark-rule role-axis-grid\" pointer-events=\"none\"><line transform=\"translate(0,200)\" x2=\"220\" y2=\"0\" stroke=\"#ddd\" stroke-width=\"1\" opacity=\"1\"/><line transform=\"translate(0,164)\" x2=\"220\" y2=\"0\" stroke=\"#ddd\" stroke-width=\"1\" opacity=\"1\"/><line transform=\"translate(0,127)\" x2=\"220\" y2=\"0\" stroke=\"#ddd\" stroke-width=\"1\" opacity=\"1\"/><line transform=\"translate(0,91)\" x2=\"220\" y2=\"0\" stroke=\"#ddd\" stroke-width=\"1\" opacity=\"1\"/><line transform=\"translate(0,55)\" x2=\"220\" y2=\"0\" stroke=\"#ddd\" stroke-width=\"1\" opacity=\"1\"/><line transform=\"translate(0,18)\" x2=\"220\" y2=\"0\" stroke=\"#ddd\" stroke-width=\"1\" opacity=\"1\"/></g></g><path class=\"foreground\" aria-hidden=\"true\" d=\"\" pointer-events=\"none\" display=\"none\"/></g></g><g class=\"mark-rect role-mark child_marks\" role=\"graphics-object\" aria-roledescription=\"rect mark container\"><path aria-label=\"Year: 2011; pct: 2.6911209; tipped: 0\" role=\"graphics-symbol\" aria-roledescription=\"bar\" d=\"M1,18.181816545454545h18v4.892947090909082h-18Z\" fill=\"#4c78a8\"/><path aria-label=\"Year: 2011; pct: 97.30888; tipped: 1\" role=\"graphics-symbol\" aria-roledescription=\"bar\" d=\"M1,23.074763636363627h18v176.92523636363637h-18Z\" fill=\"#f58518\"/><path aria-label=\"Year: 2012; pct: 97.18635; tipped: 1\" role=\"graphics-symbol\" aria-roledescription=\"bar\" d=\"M21,23.297545454545453h18v176.70245454545454h-18Z\" fill=\"#f58518\"/><path aria-label=\"Year: 2012; pct: 2.8136542; tipped: 0\" role=\"graphics-symbol\" aria-roledescription=\"bar\" d=\"M21,18.181810545454535h18v5.115734909090918h-18Z\" fill=\"#4c78a8\"/><path aria-label=\"Year: 2013; pct: 97.01244; tipped: 1\" role=\"graphics-symbol\" aria-roledescription=\"bar\" d=\"M41,23.613745454545466h18v176.38625454545453h-18Z\" fill=\"#f58518\"/><path aria-label=\"Year: 2013; pct: 2.9875493; tipped: 0\" role=\"graphics-symbol\" aria-roledescription=\"bar\" d=\"M41,18.181837636363653h18v5.431907818181813h-18Z\" fill=\"#4c78a8\"/><path aria-label=\"Year: 2014; pct: 96.64197; tipped: 1\" role=\"graphics-symbol\" aria-roledescription=\"bar\" d=\"M61,24.287327272727268h18v175.71267272727272h-18Z\" fill=\"#f58518\"/><path aria-label=\"Year: 2014; pct: 3.3580322; tipped: 0\" role=\"graphics-symbol\" aria-roledescription=\"bar\" d=\"M61,18.18181418181819h18v6.105513090909078h-18Z\" fill=\"#4c78a8\"/><path aria-label=\"Year: 2015; pct: 96.41592; tipped: 1\" role=\"graphics-symbol\" aria-roledescription=\"bar\" d=\"M81,24.698327272727273h18v175.30167272727272h-18Z\" fill=\"#f58518\"/><path aria-label=\"Year: 2015; pct: 3.584088; tipped: 0\" role=\"graphics-symbol\" aria-roledescription=\"bar\" d=\"M81,18.181803636363657h18v6.516523636363615h-18Z\" fill=\"#4c78a8\"/><path aria-label=\"Year: 2016; pct: 3.8659353; tipped: 0\" role=\"graphics-symbol\" aria-roledescription=\"bar\" d=\"M101,18.18182672727271h18v7.0289732727272884h-18Z\" fill=\"#4c78a8\"/><path aria-label=\"Year: 2016; pct: 96.13406; tipped: 1\" role=\"graphics-symbol\" aria-roledescription=\"bar\" d=\"M101,25.2108h18v174.7892h-18Z\" fill=\"#f58518\"/><path aria-label=\"Year: 2017; pct: 95.847466; tipped: 1\" role=\"graphics-symbol\" aria-roledescription=\"bar\" d=\"M121,25.731879999999997h18v174.26812h-18Z\" fill=\"#f58518\"/><path aria-label=\"Year: 2017; pct: 4.152531; tipped: 0\" role=\"graphics-symbol\" aria-roledescription=\"bar\" d=\"M121,18.181823636363646h18v7.550056363636351h-18Z\" fill=\"#4c78a8\"/><path aria-label=\"Year: 2018; pct: 95.27411; tipped: 1\" role=\"graphics-symbol\" aria-roledescription=\"bar\" d=\"M141,26.774345454545468h18v173.22565454545452h-18Z\" fill=\"#f58518\"/><path aria-label=\"Year: 2018; pct: 4.7258964; tipped: 0\" role=\"graphics-symbol\" aria-roledescription=\"bar\" d=\"M141,18.18180654545456h18v8.592538909090909h-18Z\" fill=\"#4c78a8\"/><path aria-label=\"Year: 2019; pct: 3.6987967; tipped: 0\" role=\"graphics-symbol\" aria-roledescription=\"bar\" d=\"M161,18.181824181818197h18v6.725084909090892h-18Z\" fill=\"#4c78a8\"/><path aria-label=\"Year: 2019; pct: 96.3012; tipped: 1\" role=\"graphics-symbol\" aria-roledescription=\"bar\" d=\"M161,24.90690909090909h18v175.0930909090909h-18Z\" fill=\"#f58518\"/><path aria-label=\"Year: 2020; pct: 96.86123; tipped: 1\" role=\"graphics-symbol\" aria-roledescription=\"bar\" d=\"M181,23.88867272727271h18v176.1113272727273h-18Z\" fill=\"#f58518\"/><path aria-label=\"Year: 2020; pct: 3.1387813; tipped: 0\" role=\"graphics-symbol\" aria-roledescription=\"bar\" d=\"M181,18.181797636363605h18v5.706875090909104h-18Z\" fill=\"#4c78a8\"/><path aria-label=\"Year: 2021; pct: 3.560253; tipped: 0\" role=\"graphics-symbol\" aria-roledescription=\"bar\" d=\"M201,18.181812727272707h18v6.473187272727277h-18Z\" fill=\"#4c78a8\"/><path aria-label=\"Year: 2021; pct: 96.43975; tipped: 1\" role=\"graphics-symbol\" aria-roledescription=\"bar\" d=\"M201,24.654999999999983h18v175.34500000000003h-18Z\" fill=\"#f58518\"/></g></g><path class=\"foreground\" aria-hidden=\"true\" d=\"\" display=\"none\"/></g><g transform=\"translate(242,0)\"><path class=\"background\" aria-hidden=\"true\" d=\"M0.5,0.5h220v200h-220Z\" stroke=\"#ddd\"/><g><g class=\"mark-group role-axis\" aria-hidden=\"true\"><g transform=\"translate(0.5,0.5)\"><path class=\"background\" aria-hidden=\"true\" d=\"M0,0h0v0h0Z\" pointer-events=\"none\"/><g><g class=\"mark-rule role-axis-grid\" pointer-events=\"none\"><line transform=\"translate(0,200)\" x2=\"220\" y2=\"0\" stroke=\"#ddd\" stroke-width=\"1\" opacity=\"1\"/><line transform=\"translate(0,164)\" x2=\"220\" y2=\"0\" stroke=\"#ddd\" stroke-width=\"1\" opacity=\"1\"/><line transform=\"translate(0,127)\" x2=\"220\" y2=\"0\" stroke=\"#ddd\" stroke-width=\"1\" opacity=\"1\"/><line transform=\"translate(0,91)\" x2=\"220\" y2=\"0\" stroke=\"#ddd\" stroke-width=\"1\" opacity=\"1\"/><line transform=\"translate(0,55)\" x2=\"220\" y2=\"0\" stroke=\"#ddd\" stroke-width=\"1\" opacity=\"1\"/><line transform=\"translate(0,18)\" x2=\"220\" y2=\"0\" stroke=\"#ddd\" stroke-width=\"1\" opacity=\"1\"/></g></g><path class=\"foreground\" aria-hidden=\"true\" d=\"\" pointer-events=\"none\" display=\"none\"/></g></g><g class=\"mark-rect role-mark child_marks\" role=\"graphics-object\" aria-roledescription=\"rect mark container\"><path aria-label=\"Year: 2011; pct: 0.07914732; tipped: 1\" role=\"graphics-symbol\" aria-roledescription=\"bar\" d=\"M1,199.85609578181817h18v0.14390421818183086h-18Z\" fill=\"#f58518\"/><path aria-label=\"Year: 2011; pct: 99.92085; tipped: 0\" role=\"graphics-symbol\" aria-roledescription=\"bar\" d=\"M1,18.181823054545454h18v181.67427272727272h-18Z\" fill=\"#4c78a8\"/><path aria-label=\"Year: 2012; pct: 99.96026; tipped: 0\" role=\"graphics-symbol\" aria-roledescription=\"bar\" d=\"M21,18.181810690909096h18v181.74592727272727h-18Z\" fill=\"#4c78a8\"/><path aria-label=\"Year: 2012; pct: 0.03974412; tipped: 1\" role=\"graphics-symbol\" aria-roledescription=\"bar\" d=\"M21,199.92773796363636h18v0.07226203636363948h-18Z\" fill=\"#f58518\"/><path aria-label=\"Year: 2013; pct: 99.99204; tipped: 0\" role=\"graphics-symbol\" aria-roledescription=\"bar\" d=\"M41,18.181814512727268h18v181.8037090909091h-18Z\" fill=\"#4c78a8\"/><path aria-label=\"Year: 2013; pct: 0.007962018; tipped: 1\" role=\"graphics-symbol\" aria-roledescription=\"bar\" d=\"M41,199.98552360363638h18v0.014476396363619415h-18Z\" fill=\"#f58518\"/><path aria-label=\"Year: 2014; pct: 99.99497; tipped: 0\" role=\"graphics-symbol\" aria-roledescription=\"bar\" d=\"M61,18.18182137018183h18v181.80903636363632h-18Z\" fill=\"#4c78a8\"/><path aria-label=\"Year: 2014; pct: 0.0050282464; tipped: 1\" role=\"graphics-symbol\" aria-roledescription=\"bar\" d=\"M61,199.99085773381816h18v0.009142266181839886h-18Z\" fill=\"#f58518\"/><path aria-label=\"Year: 2015; pct: 0.003761579; tipped: 1\" role=\"graphics-symbol\" aria-roledescription=\"bar\" d=\"M81,199.99316076545455h18v0.006839234545452655h-18Z\" fill=\"#f58518\"/><path aria-label=\"Year: 2015; pct: 99.99623; tipped: 0\" role=\"graphics-symbol\" aria-roledescription=\"bar\" d=\"M81,18.181833492727286h18v181.81132727272725h-18Z\" fill=\"#4c78a8\"/><path aria-label=\"Year: 2016; pct: 0.0013866428; tipped: 1\" role=\"graphics-symbol\" aria-roledescription=\"bar\" d=\"M101,199.99747883127273h18v0.002521168727270151h-18Z\" fill=\"#f58518\"/><path aria-label=\"Year: 2016; pct: 99.99861; tipped: 0\" role=\"graphics-symbol\" aria-roledescription=\"bar\" d=\"M101,18.18182428581818h18v181.81565454545455h-18Z\" fill=\"#4c78a8\"/><path aria-label=\"Year: 2017; pct: 99.99993; tipped: 0\" role=\"graphics-symbol\" aria-roledescription=\"bar\" d=\"M121,18.1818142287818h18v181.81805454545457h-18Z\" fill=\"#4c78a8\"/><path aria-label=\"Year: 2017; pct: 0.00007217417; tipped: 1\" role=\"graphics-symbol\" aria-roledescription=\"bar\" d=\"M121,199.99986877423638h18v0.00013122576362434302h-18Z\" fill=\"#f58518\"/><path aria-label=\"Year: 2018; pct: 99.99756; tipped: 0\" role=\"graphics-symbol\" aria-roledescription=\"bar\" d=\"M141,18.18182669963637h18v181.81374545454545h-18Z\" fill=\"#4c78a8\"/><path aria-label=\"Year: 2018; pct: 0.0024353152; tipped: 1\" role=\"graphics-symbol\" aria-roledescription=\"bar\" d=\"M141,199.99557215418181h18v0.0044278458181850056h-18Z\" fill=\"#f58518\"/><path aria-label=\"Year: 2019; pct: 99.989296; tipped: 0\" role=\"graphics-symbol\" aria-roledescription=\"bar\" d=\"M161,18.181818752727285h18v181.79872h-18Z\" fill=\"#4c78a8\"/><path aria-label=\"Year: 2019; pct: 0.010703686; tipped: 1\" role=\"graphics-symbol\" aria-roledescription=\"bar\" d=\"M161,199.98053875272728h18v0.01946124727271581h-18Z\" fill=\"#f58518\"/><path aria-label=\"Year: 2020; pct: 0.011289946; tipped: 1\" role=\"graphics-symbol\" aria-roledescription=\"bar\" d=\"M181,199.97947282545454h18v0.020527174545463822h-18Z\" fill=\"#f58518\"/><path aria-label=\"Year: 2020; pct: 99.98871; tipped: 0\" role=\"graphics-symbol\" aria-roledescription=\"bar\" d=\"M181,18.181818280000005h18v181.79765454545452h-18Z\" fill=\"#4c78a8\"/><path aria-label=\"Year: 2021; pct: 0.010132608; tipped: 1\" role=\"graphics-symbol\" aria-roledescription=\"bar\" d=\"M201,199.98157707636364h18v0.018422923636364885h-18Z\" fill=\"#f58518\"/><path aria-label=\"Year: 2021; pct: 99.98987; tipped: 0\" role=\"graphics-symbol\" aria-roledescription=\"bar\" d=\"M201,18.181813440000006h18v181.79976363636362h-18Z\" fill=\"#4c78a8\"/></g></g><path class=\"foreground\" aria-hidden=\"true\" d=\"\" display=\"none\"/></g></g><g class=\"mark-group role-legend\" role=\"graphics-symbol\" aria-roledescription=\"legend\" aria-label=\"Symbol legend titled 'tipped' for fill color with 2 values: 0, 1\"><g transform=\"translate(481,0)\"><path class=\"background\" aria-hidden=\"true\" d=\"M0,0h34v40h-34Z\" pointer-events=\"none\"/><g><g class=\"mark-group role-legend-entry\"><g transform=\"translate(0,16)\"><path class=\"background\" aria-hidden=\"true\" d=\"M0,0h0v0h0Z\" pointer-events=\"none\"/><g><g class=\"mark-group role-scope\" role=\"graphics-object\" aria-roledescription=\"group mark container\"><g transform=\"translate(0,0)\"><path class=\"background\" aria-hidden=\"true\" d=\"M0,0h22v11h-22Z\" pointer-events=\"none\" opacity=\"1\"/><g><g class=\"mark-symbol role-legend-symbol\" pointer-events=\"none\"><path transform=\"translate(6,6)\" d=\"M-5,-5h10v10h-10Z\" fill=\"#4c78a8\" stroke-width=\"1.5\" opacity=\"1\"/></g><g class=\"mark-text role-legend-label\" pointer-events=\"none\"><text text-anchor=\"start\" transform=\"translate(16,9)\" font-family=\"sans-serif\" font-size=\"10px\" fill=\"#000\" opacity=\"1\">0</text></g></g><path class=\"foreground\" aria-hidden=\"true\" d=\"\" pointer-events=\"none\" display=\"none\"/></g><g transform=\"translate(0,13)\"><path class=\"background\" aria-hidden=\"true\" d=\"M0,0h22v11h-22Z\" pointer-events=\"none\" opacity=\"1\"/><g><g class=\"mark-symbol role-legend-symbol\" pointer-events=\"none\"><path transform=\"translate(6,6)\" d=\"M-5,-5h10v10h-10Z\" fill=\"#f58518\" stroke-width=\"1.5\" opacity=\"1\"/></g><g class=\"mark-text role-legend-label\" pointer-events=\"none\"><text text-anchor=\"start\" transform=\"translate(16,9)\" font-family=\"sans-serif\" font-size=\"10px\" fill=\"#000\" opacity=\"1\">1</text></g></g><path class=\"foreground\" aria-hidden=\"true\" d=\"\" pointer-events=\"none\" display=\"none\"/></g></g></g><path class=\"foreground\" aria-hidden=\"true\" d=\"\" pointer-events=\"none\" display=\"none\"/></g></g><g class=\"mark-text role-legend-title\" pointer-events=\"none\"><text text-anchor=\"start\" transform=\"translate(0,9)\" font-family=\"sans-serif\" font-size=\"11px\" font-weight=\"bold\" fill=\"#000\" opacity=\"1\">tipped</text></g></g><path class=\"foreground\" aria-hidden=\"true\" d=\"\" pointer-events=\"none\" display=\"none\"/></g></g><g class=\"mark-group role-title\"><g transform=\"translate(-41,-69)\"><path class=\"background\" aria-hidden=\"true\" d=\"M0,0h0v0h0Z\" pointer-events=\"none\"/><g><g class=\"mark-text role-title-text\" role=\"graphics-symbol\" aria-roledescription=\"title\" aria-label=\"Title text 'Tiping Percentage for Payment Type'\" pointer-events=\"none\"><text text-anchor=\"start\" transform=\"translate(0,10)\" font-family=\"sans-serif\" font-size=\"13px\" font-weight=\"bold\" fill=\"#000\" opacity=\"1\">Tiping Percentage for Payment Type</text></g></g><path class=\"foreground\" aria-hidden=\"true\" d=\"\" pointer-events=\"none\" display=\"none\"/></g></g></g><path class=\"foreground\" aria-hidden=\"true\" d=\"\" display=\"none\"/></g></g></g></svg>\n"
      ],
      "text/plain": [
       "@vlplot(\n",
       "    mark={\n",
       "        tooltip=true,\n",
       "        type=\"bar\"\n",
       "    },\n",
       "    title=\"Tiping Percentage for Payment Type\",\n",
       "    encoding={\n",
       "        x={\n",
       "            type=\"ordinal\",\n",
       "            title=\"Year\",\n",
       "            field=\"PickupYear\"\n",
       "        },\n",
       "        y={\n",
       "            field=\"pct\"\n",
       "        },\n",
       "        color={\n",
       "            type=\"nominal\",\n",
       "            field=\"tipped\"\n",
       "        },\n",
       "        column={\n",
       "            type=\"ordinal\",\n",
       "            title=\"Payment Type\",\n",
       "            field=\"ptype\"\n",
       "        }\n",
       "    },\n",
       "    data={\n",
       "        values=...\n",
       "    }\n",
       ")"
      ]
     },
     "execution_count": 49,
     "metadata": {},
     "output_type": "execute_result"
    }
   ],
   "source": [
    "df |> DataFrame |> @vlplot(\n",
    "        mark = {:bar, tooltip=true},\n",
    "        x = {:PickupYear, type=\"ordinal\", title = \"Year\"},\n",
    "        y = {:pct},\n",
    "        color = {:tipped, type=\"nominal\"},\n",
    "        column={:ptype, type=\"ordinal\", title=\"Payment Type\"},\n",
    "        title=\"Tiping Percentage for Payment Type\"\n",
    "    )"
   ]
  },
  {
   "cell_type": "code",
   "execution_count": null,
   "id": "24c487a1-0d91-4489-80a9-d2866d356bfd",
   "metadata": {},
   "outputs": [],
   "source": []
  },
  {
   "cell_type": "code",
   "execution_count": 7,
   "id": "90bac3bc-6604-4d74-b873-5593f74bc703",
   "metadata": {},
   "outputs": [
    {
     "data": {
      "text/html": [],
      "text/plain": [
       "YellowTripQueries.YellowQueryResult(YellowDB(\"/tmp/ydb__.db\", \"READ_WRITE\", nothing, nothing), \u001b[1m44×5 DataFrame\u001b[0m\n",
       "\u001b[1m Row \u001b[0m│\u001b[1m PickupYear \u001b[0m\u001b[1m tipped \u001b[0m\u001b[1m ptype   \u001b[0m\u001b[1m cnt      \u001b[0m\u001b[1m pct         \u001b[0m\n",
       "     │\u001b[90m Int64?     \u001b[0m\u001b[90m Int32? \u001b[0m\u001b[90m String? \u001b[0m\u001b[90m Int64?   \u001b[0m\u001b[90m Float32?    \u001b[0m\n",
       "─────┼────────────────────────────────────────────────────\n",
       "   1 │       2011       0  Card      2004618   2.69112\n",
       "   2 │       2011       1  Card     72485466  97.3089\n",
       "   3 │       2011       1  Cash        77537   0.0791473\n",
       "   4 │       2011       0  Cash     97887881  99.9209\n",
       "   5 │       2012       1  Card     79408793  97.1863\n",
       "   6 │       2012       0  Card      2298974   2.81365\n",
       "   7 │       2012       0  Cash     86916669  99.9603\n",
       "   8 │       2012       1  Cash        34558   0.0397441\n",
       "   9 │       2013       1  Card     89342394  97.0124\n",
       "  10 │       2013       0  Card      2751346   2.98755\n",
       "  11 │       2013       0  Cash     77800712  99.992\n",
       "  ⋮  │     ⋮         ⋮        ⋮        ⋮           ⋮\n",
       "  35 │       2019       0  Cash     22158219  99.9893\n",
       "  36 │       2019       1  Cash         2372   0.0107037\n",
       "  37 │       2020       1  Card     16346246  96.8612\n",
       "  38 │       2020       0  Card       529699   3.13878\n",
       "  39 │       2020       1  Cash          670   0.0112899\n",
       "  40 │       2020       0  Cash      5933814  99.9887\n",
       "  41 │       2021       0  Card       772749   3.56025\n",
       "  42 │       2021       1  Card     20932143  96.4398\n",
       "  43 │       2021       1  Cash          648   0.0101326\n",
       "  44 │       2021       0  Cash      6394547  99.9899\n",
       "\u001b[36m                                           23 rows omitted\u001b[0m, VegaLite.VLSpec, 39.752481459, \"    WITH t1 AS (\\n        SELECT \\n            CASE \\n                WHEN tip_amount > 0 THEN 1\\n                ELSE 0\\n            END AS tipped,\\n            datepart('year', tpep_pickup_datetime) as PickupYear,\\n            CASE \\n                WHEN payment_type = 1 THEN 'Card'\\n                WHEN payment_type = 2 THEN 'Cash'\\n                WHEN payment_type = 3 THEN 'No Charge'\\n                WHEN payment_type = 4 THEN 'Dispute'\\n                WHEN payment_type = 5 THEN 'Unknown'\\n                WHEN payment_type = 6 THEN 'Voided Trip'\\n                ELSE 'Unknown'\\n            END AS ptype,\\n            count(*) AS cnt,\\n        FROM \\n            parquet_scan('/Users/abisen/Desktop/data/tlc/*/*.parquet')\\n        WHERE\\n            date_diff('second', tpep_pickup_datetime, tpep_dropoff_datetime) > 0     AND\\n            date_diff('second', tpep_pickup_datetime, tpep_dropoff_datetime) < 43200 AND\\n            passenger_count <= 6         AND\\n            passenger_count >  0         AND\\n            passenger_count IS NOT NULL  AND\\n            -- assumption: trip distances greater than 100 miles \\n            -- must be for out of town hire\\n            trip_distance > 0            AND \\n            trip_distance < 100          AND\\n            -- filter out non card / cash transactions\\n            payment_type <= 2            AND             \\n            -- filter out some records with incorrect date time \\n            -- that falls outside the dataset range\\n            datepart('year', tpep_pickup_datetime) > 2010 AND\\n            datepart('year', tpep_pickup_datetime) < 2022\\n        GROUP BY PickupYear, ptype, tipped \\n        )\\n\\n    SELECT PickupYear, tipped, ptype, cnt,\\n           CAST(cnt AS FLOAT)/(sum(cnt) OVER (PARTITION BY PickupYear, ptype)) * 100 AS pct\\n    FROM t1\\n    ;\\n\")"
      ]
     },
     "execution_count": 7,
     "metadata": {},
     "output_type": "execute_result"
    },
    {
     "name": "stdout",
     "output_type": "stream",
     "text": [
      "\u001b[1m44×5 DataFrame\u001b[0m\n",
      "\u001b[1m Row \u001b[0m│\u001b[1m PickupYear \u001b[0m\u001b[1m tipped \u001b[0m\u001b[1m ptype   \u001b[0m\u001b[1m cnt      \u001b[0m\u001b[1m pct         \u001b[0m\n",
      "     │\u001b[90m Int64?     \u001b[0m\u001b[90m Int32? \u001b[0m\u001b[90m String? \u001b[0m\u001b[90m Int64?   \u001b[0m\u001b[90m Float32?    \u001b[0m\n",
      "─────┼────────────────────────────────────────────────────\n",
      "   1 │       2011       0  Card      2004618   2.69112\n",
      "   2 │       2011       1  Card     72485466  97.3089\n",
      "   3 │       2011       1  Cash        77537   0.0791473\n",
      "   4 │       2011       0  Cash     97887881  99.9209\n",
      "   5 │       2012       1  Card     79408793  97.1863\n",
      "   6 │       2012       0  Card      2298974   2.81365\n",
      "   7 │       2012       0  Cash     86916669  99.9603\n",
      "   8 │       2012       1  Cash        34558   0.0397441\n",
      "   9 │       2013       1  Card     89342394  97.0124\n",
      "  10 │       2013       0  Card      2751346   2.98755\n",
      "  11 │       2013       0  Cash     77800712  99.992\n",
      "  ⋮  │     ⋮         ⋮        ⋮        ⋮           ⋮\n",
      "  35 │       2019       0  Cash     22158219  99.9893\n",
      "  36 │       2019       1  Cash         2372   0.0107037\n",
      "  37 │       2020       1  Card     16346246  96.8612\n",
      "  38 │       2020       0  Card       529699   3.13878\n",
      "  39 │       2020       1  Cash          670   0.0112899\n",
      "  40 │       2020       0  Cash      5933814  99.9887\n",
      "  41 │       2021       0  Card       772749   3.56025\n",
      "  42 │       2021       1  Card     20932143  96.4398\n",
      "  43 │       2021       1  Cash          648   0.0101326\n",
      "  44 │       2021       0  Cash      6394547  99.9899\n",
      "\u001b[36m                                           23 rows omitted\u001b[0m\n",
      "\n",
      "Execution Time: 39.752481459\n"
     ]
    }
   ],
   "source": [
    "res = query_tip_ratio_payment_type(ydb, table; plot=true)"
   ]
  },
  {
   "cell_type": "code",
   "execution_count": null,
   "id": "ef6df146-aa7e-4640-84cc-b250759c6adb",
   "metadata": {},
   "outputs": [],
   "source": []
  },
  {
   "cell_type": "code",
   "execution_count": 21,
   "id": "88635faf-2ffa-40a9-9b25-7b30e6f3d0be",
   "metadata": {},
   "outputs": [
    {
     "data": {
      "text/html": [],
      "text/plain": [
       "YellowTripQueries.YellowQueryResult(YellowDB(\"/tmp/ydb__.db\", \"READ_WRITE\", nothing, nothing), \u001b[1m168×3 DataFrame\u001b[0m\n",
       "\u001b[1m Row \u001b[0m│\u001b[1m PickupHour \u001b[0m\u001b[1m DOW     \u001b[0m\u001b[1m count    \u001b[0m\n",
       "     │\u001b[90m Int64?     \u001b[0m\u001b[90m String? \u001b[0m\u001b[90m Int64?   \u001b[0m\n",
       "─────┼───────────────────────────────\n",
       "   1 │          1  Fri       5071352\n",
       "   2 │          4  Fri       1747313\n",
       "   3 │         20  Fri      11543572\n",
       "   4 │         13  Fri       9199654\n",
       "   5 │          8  Fri       9924148\n",
       "   6 │          7  Fri       8151064\n",
       "   7 │          2  Fri       3340041\n",
       "   8 │          0  Fri       7713682\n",
       "   9 │          5  Fri       1971338\n",
       "  10 │          6  Fri       4654198\n",
       "  11 │          9  Fri       9609446\n",
       "  ⋮  │     ⋮          ⋮        ⋮\n",
       " 159 │         14  Wed       9765416\n",
       " 160 │         13  Wed       9358019\n",
       " 161 │         12  Wed       9474341\n",
       " 162 │          7  Wed       8735288\n",
       " 163 │         20  Wed      11702535\n",
       " 164 │         11  Wed       9084753\n",
       " 165 │          9  Wed       9993648\n",
       " 166 │         22  Wed      10881972\n",
       " 167 │         21  Wed      11672256\n",
       " 168 │         19  Wed      12250936\n",
       "\u001b[36m                     147 rows omitted\u001b[0m, nothing, 155.310630167, \"    SELECT  datepart('hour', tpep_pickup_datetime) as PickupHour, \\n            CASE \\n                WHEN datepart('dow', tpep_pickup_datetime) = 0 THEN 'Sun'\\n                WHEN datepart('dow', tpep_pickup_datetime) = 1 THEN 'Mon'\\n                WHEN datepart('dow', tpep_pickup_datetime) = 2 THEN 'Tue'\\n                WHEN datepart('dow', tpep_pickup_datetime) = 3 THEN 'Wed'\\n                WHEN datepart('dow', tpep_pickup_datetime) = 4 THEN 'Thu'\\n                WHEN datepart('dow', tpep_pickup_datetime) = 5 THEN 'Fri'\\n                WHEN datepart('dow', tpep_pickup_datetime) = 6 THEN 'Sat'\\n            END AS DOW,\\n            count(*) as count \\n    FROM parquet_scan('/Users/abisen/Desktop/data/tlc/*/*.parquet') \\n    WHERE\\n        date_diff('second', tpep_pickup_datetime, tpep_dropoff_datetime) > 0     AND\\n        date_diff('second', tpep_pickup_datetime, tpep_dropoff_datetime) < 43200 AND\\n        passenger_count <= 6         AND\\n        passenger_count >  0         AND\\n        passenger_count IS NOT NULL  AND\\n        -- assumption: trip distances greater than 100 miles \\n        -- must be for out of town hire\\n        trip_distance > 0            AND \\n        trip_distance < 100          AND\\n        -- filter out non card / cash transactions\\n        payment_type <= 2            AND             \\n        -- filter out some records with incorrect date time \\n        -- that falls outside the dataset range\\n        datepart('year', tpep_pickup_datetime) > 2010 AND\\n        datepart('year', tpep_pickup_datetime) < 2022\\n    GROUP BY\\n        DOW, PickupHour\\n    ORDER BY DOW;\\n    ;\\n\")"
      ]
     },
     "execution_count": 21,
     "metadata": {},
     "output_type": "execute_result"
    },
    {
     "name": "stdout",
     "output_type": "stream",
     "text": [
      "\u001b[1m168×3 DataFrame\u001b[0m\n",
      "\u001b[1m Row \u001b[0m│\u001b[1m PickupHour \u001b[0m\u001b[1m DOW     \u001b[0m\u001b[1m count    \u001b[0m\n",
      "     │\u001b[90m Int64?     \u001b[0m\u001b[90m String? \u001b[0m\u001b[90m Int64?   \u001b[0m\n",
      "─────┼───────────────────────────────\n",
      "   1 │          1  Fri       5071352\n",
      "   2 │          4  Fri       1747313\n",
      "   3 │         20  Fri      11543572\n",
      "   4 │         13  Fri       9199654\n",
      "   5 │          8  Fri       9924148\n",
      "   6 │          7  Fri       8151064\n",
      "   7 │          2  Fri       3340041\n",
      "   8 │          0  Fri       7713682\n",
      "   9 │          5  Fri       1971338\n",
      "  10 │          6  Fri       4654198\n",
      "  11 │          9  Fri       9609446\n",
      "  ⋮  │     ⋮          ⋮        ⋮\n",
      " 159 │         14  Wed       9765416\n",
      " 160 │         13  Wed       9358019\n",
      " 161 │         12  Wed       9474341\n",
      " 162 │          7  Wed       8735288\n",
      " 163 │         20  Wed      11702535\n",
      " 164 │         11  Wed       9084753\n",
      " 165 │          9  Wed       9993648\n",
      " 166 │         22  Wed      10881972\n",
      " 167 │         21  Wed      11672256\n",
      " 168 │         19  Wed      12250936\n",
      "\u001b[36m                     147 rows omitted\u001b[0m\n",
      "\n",
      "Execution Time: 155.310630167\n"
     ]
    }
   ],
   "source": [
    "q = \"\"\"\n",
    "    SELECT  datepart('hour', tpep_pickup_datetime) as PickupHour, \n",
    "            CASE \n",
    "                WHEN datepart('dow', tpep_pickup_datetime) = 0 THEN 'Sun'\n",
    "                WHEN datepart('dow', tpep_pickup_datetime) = 1 THEN 'Mon'\n",
    "                WHEN datepart('dow', tpep_pickup_datetime) = 2 THEN 'Tue'\n",
    "                WHEN datepart('dow', tpep_pickup_datetime) = 3 THEN 'Wed'\n",
    "                WHEN datepart('dow', tpep_pickup_datetime) = 4 THEN 'Thu'\n",
    "                WHEN datepart('dow', tpep_pickup_datetime) = 5 THEN 'Fri'\n",
    "                WHEN datepart('dow', tpep_pickup_datetime) = 6 THEN 'Sat'\n",
    "            END AS DOW,\n",
    "            count(*) as count \n",
    "    FROM $(table) \n",
    "    WHERE\n",
    "        date_diff('second', tpep_pickup_datetime, tpep_dropoff_datetime) > 0     AND\n",
    "        date_diff('second', tpep_pickup_datetime, tpep_dropoff_datetime) < 43200 AND\n",
    "        passenger_count <= 6         AND\n",
    "        passenger_count >  0         AND\n",
    "        passenger_count IS NOT NULL  AND\n",
    "        -- assumption: trip distances greater than 100 miles \n",
    "        -- must be for out of town hire\n",
    "        trip_distance > 0            AND \n",
    "        trip_distance < 100          AND\n",
    "        -- filter out non card / cash transactions\n",
    "        payment_type <= 2            AND             \n",
    "        -- filter out some records with incorrect date time \n",
    "        -- that falls outside the dataset range\n",
    "        datepart('year', tpep_pickup_datetime) > 2010 AND\n",
    "        datepart('year', tpep_pickup_datetime) < 2022\n",
    "    GROUP BY\n",
    "        DOW, PickupHour\n",
    "    ORDER BY DOW;\n",
    "    ;\n",
    "\"\"\"\n",
    "\n",
    "\n",
    "\n",
    "result = execute(ydb, q)"
   ]
  },
  {
   "cell_type": "code",
   "execution_count": 36,
   "id": "9777ac6f-2ceb-41c1-9146-cf1c0244fb53",
   "metadata": {},
   "outputs": [
    {
     "data": {
      "application/vnd.vegalite.v4+json": {
       "data": {
        "values": [
         {
          "DOW": "Fri",
          "PickupHour": 1,
          "count": 5071352
         },
         {
          "DOW": "Fri",
          "PickupHour": 4,
          "count": 1747313
         },
         {
          "DOW": "Fri",
          "PickupHour": 20,
          "count": 11543572
         },
         {
          "DOW": "Fri",
          "PickupHour": 13,
          "count": 9199654
         },
         {
          "DOW": "Fri",
          "PickupHour": 8,
          "count": 9924148
         },
         {
          "DOW": "Fri",
          "PickupHour": 7,
          "count": 8151064
         },
         {
          "DOW": "Fri",
          "PickupHour": 2,
          "count": 3340041
         },
         {
          "DOW": "Fri",
          "PickupHour": 0,
          "count": 7713682
         },
         {
          "DOW": "Fri",
          "PickupHour": 5,
          "count": 1971338
         },
         {
          "DOW": "Fri",
          "PickupHour": 6,
          "count": 4654198
         },
         {
          "DOW": "Fri",
          "PickupHour": 9,
          "count": 9609446
         },
         {
          "DOW": "Fri",
          "PickupHour": 10,
          "count": 8909591
         },
         {
          "DOW": "Fri",
          "PickupHour": 11,
          "count": 9015076
         },
         {
          "DOW": "Fri",
          "PickupHour": 12,
          "count": 9313704
         },
         {
          "DOW": "Fri",
          "PickupHour": 14,
          "count": 9846096
         },
         {
          "DOW": "Fri",
          "PickupHour": 15,
          "count": 9177751
         },
         {
          "DOW": "Fri",
          "PickupHour": 16,
          "count": 7895470
         },
         {
          "DOW": "Fri",
          "PickupHour": 18,
          "count": 11843392
         },
         {
          "DOW": "Fri",
          "PickupHour": 21,
          "count": 11316824
         },
         {
          "DOW": "Fri",
          "PickupHour": 22,
          "count": 11682646
         },
         {
          "DOW": "Fri",
          "PickupHour": 23,
          "count": 11459532
         },
         {
          "DOW": "Fri",
          "PickupHour": 19,
          "count": 12524379
         },
         {
          "DOW": "Fri",
          "PickupHour": 17,
          "count": 9710349
         },
         {
          "DOW": "Fri",
          "PickupHour": 3,
          "count": 2208207
         },
         {
          "DOW": "Mon",
          "PickupHour": 5,
          "count": 1791388
         },
         {
          "DOW": "Mon",
          "PickupHour": 4,
          "count": 1132490
         },
         {
          "DOW": "Mon",
          "PickupHour": 3,
          "count": 1078027
         },
         {
          "DOW": "Mon",
          "PickupHour": 2,
          "count": 1540124
         },
         {
          "DOW": "Mon",
          "PickupHour": 1,
          "count": 2343771
         },
         {
          "DOW": "Mon",
          "PickupHour": 0,
          "count": 3852700
         },
         {
          "DOW": "Mon",
          "PickupHour": 23,
          "count": 6200001
         },
         {
          "DOW": "Mon",
          "PickupHour": 22,
          "count": 8446828
         },
         {
          "DOW": "Mon",
          "PickupHour": 21,
          "count": 9590654
         },
         {
          "DOW": "Mon",
          "PickupHour": 20,
          "count": 10059103
         },
         {
          "DOW": "Mon",
          "PickupHour": 19,
          "count": 10941817
         },
         {
          "DOW": "Mon",
          "PickupHour": 18,
          "count": 11263610
         },
         {
          "DOW": "Mon",
          "PickupHour": 6,
          "count": 4470974
         },
         {
          "DOW": "Mon",
          "PickupHour": 17,
          "count": 9649443
         },
         {
          "DOW": "Mon",
          "PickupHour": 16,
          "count": 8169459
         },
         {
          "DOW": "Mon",
          "PickupHour": 15,
          "count": 9020956
         },
         {
          "DOW": "Mon",
          "PickupHour": 14,
          "count": 9045783
         },
         {
          "DOW": "Mon",
          "PickupHour": 13,
          "count": 8433910
         },
         {
          "DOW": "Mon",
          "PickupHour": 7,
          "count": 7541066
         },
         {
          "DOW": "Mon",
          "PickupHour": 8,
          "count": 9085095
         },
         {
          "DOW": "Mon",
          "PickupHour": 12,
          "count": 8429912
         },
         {
          "DOW": "Mon",
          "PickupHour": 11,
          "count": 8018453
         },
         {
          "DOW": "Mon",
          "PickupHour": 10,
          "count": 8004399
         },
         {
          "DOW": "Mon",
          "PickupHour": 9,
          "count": 8818479
         },
         {
          "DOW": "Sat",
          "PickupHour": 7,
          "count": 3116198
         },
         {
          "DOW": "Sat",
          "PickupHour": 6,
          "count": 2130600
         },
         {
          "DOW": "Sat",
          "PickupHour": 5,
          "count": 1756247
         },
         {
          "DOW": "Sat",
          "PickupHour": 4,
          "count": 3461247
         },
         {
          "DOW": "Sat",
          "PickupHour": 3,
          "count": 5408518
         },
         {
          "DOW": "Sat",
          "PickupHour": 2,
          "count": 7304697
         },
         {
          "DOW": "Sat",
          "PickupHour": 1,
          "count": 8900598
         },
         {
          "DOW": "Sat",
          "PickupHour": 0,
          "count": 10458820
         },
         {
          "DOW": "Sat",
          "PickupHour": 22,
          "count": 11153827
         },
         {
          "DOW": "Sat",
          "PickupHour": 8,
          "count": 4704100
         },
         {
          "DOW": "Sat",
          "PickupHour": 9,
          "count": 6684974
         },
         {
          "DOW": "Sat",
          "PickupHour": 10,
          "count": 8063161
         },
         {
          "DOW": "Sat",
          "PickupHour": 11,
          "count": 9056195
         },
         {
          "DOW": "Sat",
          "PickupHour": 12,
          "count": 9769389
         },
         {
          "DOW": "Sat",
          "PickupHour": 13,
          "count": 9970433
         },
         {
          "DOW": "Sat",
          "PickupHour": 14,
          "count": 9693755
         },
         {
          "DOW": "Sat",
          "PickupHour": 15,
          "count": 9679323
         },
         {
          "DOW": "Sat",
          "PickupHour": 16,
          "count": 8763351
         },
         {
          "DOW": "Sat",
          "PickupHour": 18,
          "count": 11202632
         },
         {
          "DOW": "Sat",
          "PickupHour": 19,
          "count": 11674811
         },
         {
          "DOW": "Sat",
          "PickupHour": 20,
          "count": 10412905
         },
         {
          "DOW": "Sat",
          "PickupHour": 21,
          "count": 10330392
         },
         {
          "DOW": "Sat",
          "PickupHour": 23,
          "count": 11453687
         },
         {
          "DOW": "Sat",
          "PickupHour": 17,
          "count": 9807984
         },
         {
          "DOW": "Sun",
          "PickupHour": 14,
          "count": 9276544
         },
         {
          "DOW": "Sun",
          "PickupHour": 0,
          "count": 10644613
         },
         {
          "DOW": "Sun",
          "PickupHour": 23,
          "count": 5551989
         },
         {
          "DOW": "Sun",
          "PickupHour": 22,
          "count": 6888044
         },
         {
          "DOW": "Sun",
          "PickupHour": 21,
          "count": 7541907
         },
         {
          "DOW": "Sun",
          "PickupHour": 20,
          "count": 7921584
         },
         {
          "DOW": "Sun",
          "PickupHour": 19,
          "count": 8717993
         },
         {
          "DOW": "Sun",
          "PickupHour": 18,
          "count": 9386752
         },
         {
          "DOW": "Sun",
          "PickupHour": 17,
          "count": 8900858
         },
         {
          "DOW": "Sun",
          "PickupHour": 16,
          "count": 8390000
         },
         {
          "DOW": "Sun",
          "PickupHour": 15,
          "count": 8881265
         },
         {
          "DOW": "Sun",
          "PickupHour": 13,
          "count": 9275283
         },
         {
          "DOW": "Sun",
          "PickupHour": 11,
          "count": 8466706
         },
         {
          "DOW": "Sun",
          "PickupHour": 12,
          "count": 9208783
         },
         {
          "DOW": "Sun",
          "PickupHour": 10,
          "count": 7290148
         },
         {
          "DOW": "Sun",
          "PickupHour": 9,
          "count": 5334833
         },
         {
          "DOW": "Sun",
          "PickupHour": 8,
          "count": 3592624
         },
         {
          "DOW": "Sun",
          "PickupHour": 7,
          "count": 2412709
         },
         {
          "DOW": "Sun",
          "PickupHour": 6,
          "count": 1820636
         },
         {
          "DOW": "Sun",
          "PickupHour": 5,
          "count": 1813963
         },
         {
          "DOW": "Sun",
          "PickupHour": 4,
          "count": 3897294
         },
         {
          "DOW": "Sun",
          "PickupHour": 3,
          "count": 6099577
         },
         {
          "DOW": "Sun",
          "PickupHour": 2,
          "count": 7726327
         },
         {
          "DOW": "Sun",
          "PickupHour": 1,
          "count": 9538074
         },
         {
          "DOW": "Thu",
          "PickupHour": 23,
          "count": 10138032
         },
         {
          "DOW": "Thu",
          "PickupHour": 8,
          "count": 10412499
         },
         {
          "DOW": "Thu",
          "PickupHour": 1,
          "count": 3470407
         },
         {
          "DOW": "Thu",
          "PickupHour": 0,
          "count": 5795727
         },
         {
          "DOW": "Thu",
          "PickupHour": 21,
          "count": 12054581
         },
         {
          "DOW": "Thu",
          "PickupHour": 20,
          "count": 12006813
         },
         {
          "DOW": "Thu",
          "PickupHour": 19,
          "count": 12370645
         },
         {
          "DOW": "Thu",
          "PickupHour": 18,
          "count": 11836418
         },
         {
          "DOW": "Thu",
          "PickupHour": 17,
          "count": 9636414
         },
         {
          "DOW": "Thu",
          "PickupHour": 16,
          "count": 7856361
         },
         {
          "DOW": "Thu",
          "PickupHour": 15,
          "count": 9324076
         },
         {
          "DOW": "Thu",
          "PickupHour": 14,
          "count": 9904388
         },
         {
          "DOW": "Thu",
          "PickupHour": 13,
          "count": 9392114
         },
         {
          "DOW": "Thu",
          "PickupHour": 12,
          "count": 9488279
         },
         {
          "DOW": "Thu",
          "PickupHour": 11,
          "count": 9083255
         },
         {
          "DOW": "Thu",
          "PickupHour": 10,
          "count": 9086695
         },
         {
          "DOW": "Thu",
          "PickupHour": 9,
          "count": 9943405
         },
         {
          "DOW": "Thu",
          "PickupHour": 22,
          "count": 11538512
         },
         {
          "DOW": "Thu",
          "PickupHour": 3,
          "count": 1432794
         },
         {
          "DOW": "Thu",
          "PickupHour": 4,
          "count": 1273200
         },
         {
          "DOW": "Thu",
          "PickupHour": 5,
          "count": 1832472
         },
         {
          "DOW": "Thu",
          "PickupHour": 6,
          "count": 4860323
         },
         {
          "DOW": "Thu",
          "PickupHour": 7,
          "count": 8728340
         },
         {
          "DOW": "Thu",
          "PickupHour": 2,
          "count": 2183454
         },
         {
          "DOW": "Tue",
          "PickupHour": 22,
          "count": 10131714
         },
         {
          "DOW": "Tue",
          "PickupHour": 4,
          "count": 982845
         },
         {
          "DOW": "Tue",
          "PickupHour": 6,
          "count": 4779347
         },
         {
          "DOW": "Tue",
          "PickupHour": 7,
          "count": 8537980
         },
         {
          "DOW": "Tue",
          "PickupHour": 8,
          "count": 10278478
         },
         {
          "DOW": "Tue",
          "PickupHour": 2,
          "count": 1480476
         },
         {
          "DOW": "Tue",
          "PickupHour": 1,
          "count": 2388637
         },
         {
          "DOW": "Tue",
          "PickupHour": 0,
          "count": 4074129
         },
         {
          "DOW": "Tue",
          "PickupHour": 9,
          "count": 9801557
         },
         {
          "DOW": "Tue",
          "PickupHour": 10,
          "count": 8841992
         },
         {
          "DOW": "Tue",
          "PickupHour": 11,
          "count": 8775037
         },
         {
          "DOW": "Tue",
          "PickupHour": 12,
          "count": 9169626
         },
         {
          "DOW": "Tue",
          "PickupHour": 13,
          "count": 9102633
         },
         {
          "DOW": "Tue",
          "PickupHour": 14,
          "count": 9694200
         },
         {
          "DOW": "Tue",
          "PickupHour": 3,
          "count": 983345
         },
         {
          "DOW": "Tue",
          "PickupHour": 5,
          "count": 1730510
         },
         {
          "DOW": "Tue",
          "PickupHour": 15,
          "count": 9332305
         },
         {
          "DOW": "Tue",
          "PickupHour": 16,
          "count": 8024280
         },
         {
          "DOW": "Tue",
          "PickupHour": 17,
          "count": 9771739
         },
         {
          "DOW": "Tue",
          "PickupHour": 18,
          "count": 11881641
         },
         {
          "DOW": "Tue",
          "PickupHour": 19,
          "count": 11906309
         },
         {
          "DOW": "Tue",
          "PickupHour": 20,
          "count": 11327319
         },
         {
          "DOW": "Tue",
          "PickupHour": 21,
          "count": 11229441
         },
         {
          "DOW": "Tue",
          "PickupHour": 23,
          "count": 7711251
         },
         {
          "DOW": "Wed",
          "PickupHour": 8,
          "count": 10485313
         },
         {
          "DOW": "Wed",
          "PickupHour": 0,
          "count": 5019567
         },
         {
          "DOW": "Wed",
          "PickupHour": 10,
          "count": 9058740
         },
         {
          "DOW": "Wed",
          "PickupHour": 1,
          "count": 2955400
         },
         {
          "DOW": "Wed",
          "PickupHour": 2,
          "count": 1844940
         },
         {
          "DOW": "Wed",
          "PickupHour": 3,
          "count": 1225914
         },
         {
          "DOW": "Wed",
          "PickupHour": 4,
          "count": 1132391
         },
         {
          "DOW": "Wed",
          "PickupHour": 5,
          "count": 1765854
         },
         {
          "DOW": "Wed",
          "PickupHour": 6,
          "count": 4829743
         },
         {
          "DOW": "Wed",
          "PickupHour": 23,
          "count": 8684595
         },
         {
          "DOW": "Wed",
          "PickupHour": 18,
          "count": 11858116
         },
         {
          "DOW": "Wed",
          "PickupHour": 17,
          "count": 9723531
         },
         {
          "DOW": "Wed",
          "PickupHour": 16,
          "count": 7941043
         },
         {
          "DOW": "Wed",
          "PickupHour": 15,
          "count": 9309229
         },
         {
          "DOW": "Wed",
          "PickupHour": 14,
          "count": 9765416
         },
         {
          "DOW": "Wed",
          "PickupHour": 13,
          "count": 9358019
         },
         {
          "DOW": "Wed",
          "PickupHour": 12,
          "count": 9474341
         },
         {
          "DOW": "Wed",
          "PickupHour": 7,
          "count": 8735288
         },
         {
          "DOW": "Wed",
          "PickupHour": 20,
          "count": 11702535
         },
         {
          "DOW": "Wed",
          "PickupHour": 11,
          "count": 9084753
         },
         {
          "DOW": "Wed",
          "PickupHour": 9,
          "count": 9993648
         },
         {
          "DOW": "Wed",
          "PickupHour": 22,
          "count": 10881972
         },
         {
          "DOW": "Wed",
          "PickupHour": 21,
          "count": 11672256
         },
         {
          "DOW": "Wed",
          "PickupHour": 19,
          "count": 12250936
         }
        ]
       },
       "encoding": {
        "color": {
         "field": "DOW",
         "sort": [
          "Mon",
          "Tue",
          "Wed",
          "Thu",
          "Fri",
          "Sat",
          "Sun"
         ],
         "type": "nominal"
        },
        "x": {
         "field": "PickupHour",
         "scale": {
          "zero": false
         },
         "title": "Hour of Day",
         "type": "quantitative"
        },
        "y": {
         "field": "count",
         "title": "Number of Trips",
         "type": "quantitative"
        }
       },
       "height": 300,
       "mark": {
        "interpolate": "monotone",
        "point": true,
        "tooltip": true,
        "type": "line"
       },
       "selection": {
        "view": {
         "bind": "scales",
         "type": "interval"
        }
       },
       "title": "Ridership by the hour of Day",
       "width": 800
      },
      "image/png": "[encoded data removed]",
      "image/svg+xml": [
       "<?xml version=\"1.0\" encoding=\"utf-8\"?>\n",
       "<!DOCTYPE svg PUBLIC \"-//W3C//DTD SVG 1.1//EN\" \"http://www.w3.org/Graphics/SVG/1.1/DTD/svg11.dtd\">\n",
       "<svg xmlns=\"http://www.w3.org/2000/svg\" xmlns:xlink=\"http://www.w3.org/1999/xlink\" version=\"1.1\" class=\"marks\" width=\"940\" height=\"359\" viewBox=\"0 0 940 359\"><rect width=\"940\" height=\"359\" fill=\"white\"/><g fill=\"none\" stroke-miterlimit=\"10\" transform=\"translate(81,22)\"><g class=\"mark-group role-frame root\" role=\"graphics-object\" aria-roledescription=\"group mark container\"><g transform=\"translate(0,0)\"><path class=\"background\" aria-hidden=\"true\" d=\"M0.5,0.5h800v300h-800Z\" stroke=\"#ddd\"/><g><g class=\"mark-group role-axis\" aria-hidden=\"true\"><g transform=\"translate(0.5,300.5)\"><path class=\"background\" aria-hidden=\"true\" d=\"M0,0h0v0h0Z\" pointer-events=\"none\"/><g><g class=\"mark-rule role-axis-grid\" pointer-events=\"none\"><line transform=\"translate(0,-300)\" x2=\"0\" y2=\"300\" stroke=\"#ddd\" stroke-width=\"1\" opacity=\"1\"/><line transform=\"translate(33,-300)\" x2=\"0\" y2=\"300\" stroke=\"#ddd\" stroke-width=\"1\" opacity=\"1\"/><line transform=\"translate(67,-300)\" x2=\"0\" y2=\"300\" stroke=\"#ddd\" stroke-width=\"1\" opacity=\"1\"/><line transform=\"translate(100,-300)\" x2=\"0\" y2=\"300\" stroke=\"#ddd\" stroke-width=\"1\" opacity=\"1\"/><line transform=\"translate(133,-300)\" x2=\"0\" y2=\"300\" stroke=\"#ddd\" stroke-width=\"1\" opacity=\"1\"/><line transform=\"translate(167,-300)\" x2=\"0\" y2=\"300\" stroke=\"#ddd\" stroke-width=\"1\" opacity=\"1\"/><line transform=\"translate(200,-300)\" x2=\"0\" y2=\"300\" stroke=\"#ddd\" stroke-width=\"1\" opacity=\"1\"/><line transform=\"translate(233,-300)\" x2=\"0\" y2=\"300\" stroke=\"#ddd\" stroke-width=\"1\" opacity=\"1\"/><line transform=\"translate(267,-300)\" x2=\"0\" y2=\"300\" stroke=\"#ddd\" stroke-width=\"1\" opacity=\"1\"/><line transform=\"translate(300,-300)\" x2=\"0\" y2=\"300\" stroke=\"#ddd\" stroke-width=\"1\" opacity=\"1\"/><line transform=\"translate(333,-300)\" x2=\"0\" y2=\"300\" stroke=\"#ddd\" stroke-width=\"1\" opacity=\"1\"/><line transform=\"translate(367,-300)\" x2=\"0\" y2=\"300\" stroke=\"#ddd\" stroke-width=\"1\" opacity=\"1\"/><line transform=\"translate(400,-300)\" x2=\"0\" y2=\"300\" stroke=\"#ddd\" stroke-width=\"1\" opacity=\"1\"/><line transform=\"translate(433,-300)\" x2=\"0\" y2=\"300\" stroke=\"#ddd\" stroke-width=\"1\" opacity=\"1\"/><line transform=\"translate(467,-300)\" x2=\"0\" y2=\"300\" stroke=\"#ddd\" stroke-width=\"1\" opacity=\"1\"/><line transform=\"translate(500,-300)\" x2=\"0\" y2=\"300\" stroke=\"#ddd\" stroke-width=\"1\" opacity=\"1\"/><line transform=\"translate(533,-300)\" x2=\"0\" y2=\"300\" stroke=\"#ddd\" stroke-width=\"1\" opacity=\"1\"/><line transform=\"translate(567,-300)\" x2=\"0\" y2=\"300\" stroke=\"#ddd\" stroke-width=\"1\" opacity=\"1\"/><line transform=\"translate(600,-300)\" x2=\"0\" y2=\"300\" stroke=\"#ddd\" stroke-width=\"1\" opacity=\"1\"/><line transform=\"translate(633,-300)\" x2=\"0\" y2=\"300\" stroke=\"#ddd\" stroke-width=\"1\" opacity=\"1\"/><line transform=\"translate(667,-300)\" x2=\"0\" y2=\"300\" stroke=\"#ddd\" stroke-width=\"1\" opacity=\"1\"/><line transform=\"translate(700,-300)\" x2=\"0\" y2=\"300\" stroke=\"#ddd\" stroke-width=\"1\" opacity=\"1\"/><line transform=\"translate(733,-300)\" x2=\"0\" y2=\"300\" stroke=\"#ddd\" stroke-width=\"1\" opacity=\"1\"/><line transform=\"translate(767,-300)\" x2=\"0\" y2=\"300\" stroke=\"#ddd\" stroke-width=\"1\" opacity=\"1\"/><line transform=\"translate(800,-300)\" x2=\"0\" y2=\"300\" stroke=\"#ddd\" stroke-width=\"1\" opacity=\"1\"/></g></g><path class=\"foreground\" aria-hidden=\"true\" d=\"\" pointer-events=\"none\" display=\"none\"/></g></g><g class=\"mark-group role-axis\" aria-hidden=\"true\"><g transform=\"translate(0.5,0.5)\"><path class=\"background\" aria-hidden=\"true\" d=\"M0,0h0v0h0Z\" pointer-events=\"none\"/><g><g class=\"mark-rule role-axis-grid\" pointer-events=\"none\"><line transform=\"translate(0,300)\" x2=\"800\" y2=\"0\" stroke=\"#ddd\" stroke-width=\"1\" opacity=\"1\"/><line transform=\"translate(0,254)\" x2=\"800\" y2=\"0\" stroke=\"#ddd\" stroke-width=\"1\" opacity=\"1\"/><line transform=\"translate(0,208)\" x2=\"800\" y2=\"0\" stroke=\"#ddd\" stroke-width=\"1\" opacity=\"1\"/><line transform=\"translate(0,162)\" x2=\"800\" y2=\"0\" stroke=\"#ddd\" stroke-width=\"1\" opacity=\"1\"/><line transform=\"translate(0,115)\" x2=\"800\" y2=\"0\" stroke=\"#ddd\" stroke-width=\"1\" opacity=\"1\"/><line transform=\"translate(0,69)\" x2=\"800\" y2=\"0\" stroke=\"#ddd\" stroke-width=\"1\" opacity=\"1\"/><line transform=\"translate(0,23)\" x2=\"800\" y2=\"0\" stroke=\"#ddd\" stroke-width=\"1\" opacity=\"1\"/></g></g><path class=\"foreground\" aria-hidden=\"true\" d=\"\" pointer-events=\"none\" display=\"none\"/></g></g><g class=\"mark-group role-axis\" role=\"graphics-symbol\" aria-roledescription=\"axis\" aria-label=\"X-axis titled 'Hour of Day' for a linear scale with values from 0 to 24\"><g transform=\"translate(0.5,300.5)\"><path class=\"background\" aria-hidden=\"true\" d=\"M0,0h0v0h0Z\" pointer-events=\"none\"/><g><g class=\"mark-rule role-axis-tick\" pointer-events=\"none\"><line transform=\"translate(0,0)\" x2=\"0\" y2=\"5\" stroke=\"#888\" stroke-width=\"1\" opacity=\"1\"/><line transform=\"translate(33,0)\" x2=\"0\" y2=\"5\" stroke=\"#888\" stroke-width=\"1\" opacity=\"1\"/><line transform=\"translate(67,0)\" x2=\"0\" y2=\"5\" stroke=\"#888\" stroke-width=\"1\" opacity=\"1\"/><line transform=\"translate(100,0)\" x2=\"0\" y2=\"5\" stroke=\"#888\" stroke-width=\"1\" opacity=\"1\"/><line transform=\"translate(133,0)\" x2=\"0\" y2=\"5\" stroke=\"#888\" stroke-width=\"1\" opacity=\"1\"/><line transform=\"translate(167,0)\" x2=\"0\" y2=\"5\" stroke=\"#888\" stroke-width=\"1\" opacity=\"1\"/><line transform=\"translate(200,0)\" x2=\"0\" y2=\"5\" stroke=\"#888\" stroke-width=\"1\" opacity=\"1\"/><line transform=\"translate(233,0)\" x2=\"0\" y2=\"5\" stroke=\"#888\" stroke-width=\"1\" opacity=\"1\"/><line transform=\"translate(267,0)\" x2=\"0\" y2=\"5\" stroke=\"#888\" stroke-width=\"1\" opacity=\"1\"/><line transform=\"translate(300,0)\" x2=\"0\" y2=\"5\" stroke=\"#888\" stroke-width=\"1\" opacity=\"1\"/><line transform=\"translate(333,0)\" x2=\"0\" y2=\"5\" stroke=\"#888\" stroke-width=\"1\" opacity=\"1\"/><line transform=\"translate(367,0)\" x2=\"0\" y2=\"5\" stroke=\"#888\" stroke-width=\"1\" opacity=\"1\"/><line transform=\"translate(400,0)\" x2=\"0\" y2=\"5\" stroke=\"#888\" stroke-width=\"1\" opacity=\"1\"/><line transform=\"translate(433,0)\" x2=\"0\" y2=\"5\" stroke=\"#888\" stroke-width=\"1\" opacity=\"1\"/><line transform=\"translate(467,0)\" x2=\"0\" y2=\"5\" stroke=\"#888\" stroke-width=\"1\" opacity=\"1\"/><line transform=\"translate(500,0)\" x2=\"0\" y2=\"5\" stroke=\"#888\" stroke-width=\"1\" opacity=\"1\"/><line transform=\"translate(533,0)\" x2=\"0\" y2=\"5\" stroke=\"#888\" stroke-width=\"1\" opacity=\"1\"/><line transform=\"translate(567,0)\" x2=\"0\" y2=\"5\" stroke=\"#888\" stroke-width=\"1\" opacity=\"1\"/><line transform=\"translate(600,0)\" x2=\"0\" y2=\"5\" stroke=\"#888\" stroke-width=\"1\" opacity=\"1\"/><line transform=\"translate(633,0)\" x2=\"0\" y2=\"5\" stroke=\"#888\" stroke-width=\"1\" opacity=\"1\"/><line transform=\"translate(667,0)\" x2=\"0\" y2=\"5\" stroke=\"#888\" stroke-width=\"1\" opacity=\"1\"/><line transform=\"translate(700,0)\" x2=\"0\" y2=\"5\" stroke=\"#888\" stroke-width=\"1\" opacity=\"1\"/><line transform=\"translate(733,0)\" x2=\"0\" y2=\"5\" stroke=\"#888\" stroke-width=\"1\" opacity=\"1\"/><line transform=\"translate(767,0)\" x2=\"0\" y2=\"5\" stroke=\"#888\" stroke-width=\"1\" opacity=\"1\"/><line transform=\"translate(800,0)\" x2=\"0\" y2=\"5\" stroke=\"#888\" stroke-width=\"1\" opacity=\"1\"/></g><g class=\"mark-text role-axis-label\" pointer-events=\"none\"><text text-anchor=\"start\" transform=\"translate(0,15)\" font-family=\"sans-serif\" font-size=\"10px\" fill=\"#000\" opacity=\"1\">0</text><text text-anchor=\"middle\" transform=\"translate(33.33333333333333,15)\" font-family=\"sans-serif\" font-size=\"10px\" fill=\"#000\" opacity=\"1\">1</text><text text-anchor=\"middle\" transform=\"translate(66.66666666666666,15)\" font-family=\"sans-serif\" font-size=\"10px\" fill=\"#000\" opacity=\"1\">2</text><text text-anchor=\"middle\" transform=\"translate(100,15)\" font-family=\"sans-serif\" font-size=\"10px\" fill=\"#000\" opacity=\"1\">3</text><text text-anchor=\"middle\" transform=\"translate(133.33333333333331,15)\" font-family=\"sans-serif\" font-size=\"10px\" fill=\"#000\" opacity=\"1\">4</text><text text-anchor=\"middle\" transform=\"translate(166.66666666666669,15)\" font-family=\"sans-serif\" font-size=\"10px\" fill=\"#000\" opacity=\"1\">5</text><text text-anchor=\"middle\" transform=\"translate(200,15)\" font-family=\"sans-serif\" font-size=\"10px\" fill=\"#000\" opacity=\"1\">6</text><text text-anchor=\"middle\" transform=\"translate(233.33333333333334,15)\" font-family=\"sans-serif\" font-size=\"10px\" fill=\"#000\" opacity=\"1\">7</text><text text-anchor=\"middle\" transform=\"translate(266.66666666666663,15)\" font-family=\"sans-serif\" font-size=\"10px\" fill=\"#000\" opacity=\"1\">8</text><text text-anchor=\"middle\" transform=\"translate(300,15)\" font-family=\"sans-serif\" font-size=\"10px\" fill=\"#000\" opacity=\"1\">9</text><text text-anchor=\"middle\" transform=\"translate(333.33333333333337,15)\" font-family=\"sans-serif\" font-size=\"10px\" fill=\"#000\" opacity=\"1\">10</text><text text-anchor=\"middle\" transform=\"translate(366.66666666666663,15)\" font-family=\"sans-serif\" font-size=\"10px\" fill=\"#000\" opacity=\"1\">11</text><text text-anchor=\"middle\" transform=\"translate(400,15)\" font-family=\"sans-serif\" font-size=\"10px\" fill=\"#000\" opacity=\"1\">12</text><text text-anchor=\"middle\" transform=\"translate(433.3333333333333,15)\" font-family=\"sans-serif\" font-size=\"10px\" fill=\"#000\" opacity=\"1\">13</text><text text-anchor=\"middle\" transform=\"translate(466.6666666666667,15)\" font-family=\"sans-serif\" font-size=\"10px\" fill=\"#000\" opacity=\"1\">14</text><text text-anchor=\"middle\" transform=\"translate(500,15)\" font-family=\"sans-serif\" font-size=\"10px\" fill=\"#000\" opacity=\"1\">15</text><text text-anchor=\"middle\" transform=\"translate(533.3333333333333,15)\" font-family=\"sans-serif\" font-size=\"10px\" fill=\"#000\" opacity=\"1\">16</text><text text-anchor=\"middle\" transform=\"translate(566.6666666666667,15)\" font-family=\"sans-serif\" font-size=\"10px\" fill=\"#000\" opacity=\"1\">17</text><text text-anchor=\"middle\" transform=\"translate(600,15)\" font-family=\"sans-serif\" font-size=\"10px\" fill=\"#000\" opacity=\"1\">18</text><text text-anchor=\"middle\" transform=\"translate(633.3333333333333,15)\" font-family=\"sans-serif\" font-size=\"10px\" fill=\"#000\" opacity=\"1\">19</text><text text-anchor=\"middle\" transform=\"translate(666.6666666666667,15)\" font-family=\"sans-serif\" font-size=\"10px\" fill=\"#000\" opacity=\"1\">20</text><text text-anchor=\"middle\" transform=\"translate(700,15)\" font-family=\"sans-serif\" font-size=\"10px\" fill=\"#000\" opacity=\"1\">21</text><text text-anchor=\"middle\" transform=\"translate(733.3333333333333,15)\" font-family=\"sans-serif\" font-size=\"10px\" fill=\"#000\" opacity=\"1\">22</text><text text-anchor=\"middle\" transform=\"translate(766.6666666666667,15)\" font-family=\"sans-serif\" font-size=\"10px\" fill=\"#000\" opacity=\"1\">23</text><text text-anchor=\"end\" transform=\"translate(800,15)\" font-family=\"sans-serif\" font-size=\"10px\" fill=\"#000\" opacity=\"1\">24</text></g><g class=\"mark-rule role-axis-domain\" pointer-events=\"none\"><line transform=\"translate(0,0)\" x2=\"800\" y2=\"0\" stroke=\"#888\" stroke-width=\"1\" opacity=\"1\"/></g><g class=\"mark-text role-axis-title\" pointer-events=\"none\"><text text-anchor=\"middle\" transform=\"translate(400,30)\" font-family=\"sans-serif\" font-size=\"11px\" font-weight=\"bold\" fill=\"#000\" opacity=\"1\">Hour of Day</text></g></g><path class=\"foreground\" aria-hidden=\"true\" d=\"\" pointer-events=\"none\" display=\"none\"/></g></g><g class=\"mark-group role-axis\" role=\"graphics-symbol\" aria-roledescription=\"axis\" aria-label=\"Y-axis titled 'Number of Trips' for a linear scale with values from 0 to 13,000,000\"><g transform=\"translate(0.5,0.5)\"><path class=\"background\" aria-hidden=\"true\" d=\"M0,0h0v0h0Z\" pointer-events=\"none\"/><g><g class=\"mark-rule role-axis-tick\" pointer-events=\"none\"><line transform=\"translate(0,300)\" x2=\"-5\" y2=\"0\" stroke=\"#888\" stroke-width=\"1\" opacity=\"1\"/><line transform=\"translate(0,254)\" x2=\"-5\" y2=\"0\" stroke=\"#888\" stroke-width=\"1\" opacity=\"1\"/><line transform=\"translate(0,208)\" x2=\"-5\" y2=\"0\" stroke=\"#888\" stroke-width=\"1\" opacity=\"1\"/><line transform=\"translate(0,162)\" x2=\"-5\" y2=\"0\" stroke=\"#888\" stroke-width=\"1\" opacity=\"1\"/><line transform=\"translate(0,115)\" x2=\"-5\" y2=\"0\" stroke=\"#888\" stroke-width=\"1\" opacity=\"1\"/><line transform=\"translate(0,69)\" x2=\"-5\" y2=\"0\" stroke=\"#888\" stroke-width=\"1\" opacity=\"1\"/><line transform=\"translate(0,23)\" x2=\"-5\" y2=\"0\" stroke=\"#888\" stroke-width=\"1\" opacity=\"1\"/></g><g class=\"mark-text role-axis-label\" pointer-events=\"none\"><text text-anchor=\"end\" transform=\"translate(-7,303)\" font-family=\"sans-serif\" font-size=\"10px\" fill=\"#000\" opacity=\"1\">0</text><text text-anchor=\"end\" transform=\"translate(-7,256.8461538461538)\" font-family=\"sans-serif\" font-size=\"10px\" fill=\"#000\" opacity=\"1\">2,000,000</text><text text-anchor=\"end\" transform=\"translate(-7,210.69230769230768)\" font-family=\"sans-serif\" font-size=\"10px\" fill=\"#000\" opacity=\"1\">4,000,000</text><text text-anchor=\"end\" transform=\"translate(-7,164.53846153846152)\" font-family=\"sans-serif\" font-size=\"10px\" fill=\"#000\" opacity=\"1\">6,000,000</text><text text-anchor=\"end\" transform=\"translate(-7,118.38461538461537)\" font-family=\"sans-serif\" font-size=\"10px\" fill=\"#000\" opacity=\"1\">8,000,000</text><text text-anchor=\"end\" transform=\"translate(-7,72.23076923076921)\" font-family=\"sans-serif\" font-size=\"10px\" fill=\"#000\" opacity=\"1\">10,000,000</text><text text-anchor=\"end\" transform=\"translate(-7,26.076923076923062)\" font-family=\"sans-serif\" font-size=\"10px\" fill=\"#000\" opacity=\"1\">12,000,000</text></g><g class=\"mark-rule role-axis-domain\" pointer-events=\"none\"><line transform=\"translate(0,300)\" x2=\"0\" y2=\"-300\" stroke=\"#888\" stroke-width=\"1\" opacity=\"1\"/></g><g class=\"mark-text role-axis-title\" pointer-events=\"none\"><text text-anchor=\"middle\" transform=\"translate(-65,150) rotate(-90) translate(0,-2)\" font-family=\"sans-serif\" font-size=\"11px\" font-weight=\"bold\" fill=\"#000\" opacity=\"1\">Number of Trips</text></g></g><path class=\"foreground\" aria-hidden=\"true\" d=\"\" pointer-events=\"none\" display=\"none\"/></g></g><g class=\"mark-group role-scope layer_0_pathgroup\" role=\"graphics-object\" aria-roledescription=\"group mark container\"><g transform=\"translate(0,0)\"><path class=\"background\" aria-hidden=\"true\" d=\"M0,0h800v300h-800Z\"/><g><g class=\"mark-line role-mark layer_0_marks\" clip-path=\"url(#clip1)\" role=\"graphics-object\" aria-roledescription=\"line mark container\"><path aria-label=\"Hour of Day: 0; Number of Trips: 7713682; DOW: Fri\" role=\"graphics-symbol\" aria-roledescription=\"line mark\" d=\"M0,121.99195384615386C11.111111111111109,144.06952884615384,22.22222222222222,166.14710384615384,33.33333333333333,182.9688C44.444444444444436,199.79049615384614,55.55555555555555,211.9100346153846,66.66666666666666,222.92213076923076C77.77777777777777,233.93422692307692,88.88888888888889,242.91549999999998,100,249.0413769230769C111.1111111111111,255.1672538461538,122.22222222222221,259.6773923076923,133.33333333333331,259.6773923076923C144.44444444444443,259.6773923076923,155.55555555555557,257.95412307692305,166.66666666666669,254.50758461538464C177.7777777777778,251.06104615384623,188.88888888888889,216.36360769230765,200,192.59543076923075C211.11111111111111,168.8272538461538,222.22222222222223,132.1675615384615,233.33333333333334,111.89852307692306C244.44444444444443,91.62948461538463,255.55555555555554,70.98120000000002,266.66666666666663,70.98120000000002C277.77777777777777,70.98120000000002,288.88888888888886,74.34141153846153,300,78.24355384615383C311.11111111111114,82.14569615384613,322.22222222222223,94.39405384615385,333.33333333333337,94.39405384615385C344.44444444444446,94.39405384615385,355.55555555555554,93.51406538461538,366.66666666666663,91.95978461538462C377.77777777777777,90.40550384615385,388.88888888888886,85.06836923076924,400,85.06836923076924C411.1111111111111,85.06836923076924,422.22222222222223,87.70029230769232,433.3333333333333,87.70029230769232C444.44444444444446,87.70029230769232,455.55555555555554,72.78240000000001,466.6666666666667,72.78240000000001C477.77777777777777,72.78240000000001,488.8888888888889,80.70333846153845,500,88.20574615384615C511.1111111111111,95.70815384615383,522.2222222222222,117.79684615384615,533.3333333333333,117.79684615384615C544.4444444444445,117.79684615384615,555.5555555555555,91.09933846153852,566.6666666666667,75.91502307692308C577.7777777777778,60.73070769230774,588.8888888888889,37.16767692307694,600,26.690953846153853C611.1111111111111,16.214230769230767,622.2222222222222,10.97586923076922,633.3333333333333,10.97586923076922C644.4444444444445,10.97586923076922,655.5555555555555,30.12144615384611,666.6666666666667,33.60987692307691C677.7777777777778,37.098307692307685,688.8888888888889,38.84252307692307,700,38.84252307692307C711.1111111111111,38.84252307692307,722.2222222222222,30.400476923076912,733.3333333333333,30.400476923076912C744.4444444444445,30.400476923076912,755.5555555555555,32.97486923076922,766.6666666666667,35.54926153846153\" stroke=\"#54a24b\" stroke-width=\"2\"/></g></g><path class=\"foreground\" aria-hidden=\"true\" d=\"\" display=\"none\"/></g><g transform=\"translate(0,0)\"><path class=\"background\" aria-hidden=\"true\" d=\"M0,0h800v300h-800Z\"/><g><g class=\"mark-line role-mark layer_0_marks\" clip-path=\"url(#clip2)\" role=\"graphics-object\" aria-roledescription=\"line mark container\"><path aria-label=\"Hour of Day: 0; Number of Trips: 3852700; DOW: Mon\" role=\"graphics-symbol\" aria-roledescription=\"line mark\" d=\"M0,211.09153846153848C11.111111111111109,224.05499615384616,22.22222222222222,237.01845384615388,33.33333333333333,245.91297692307694C44.444444444444436,254.8075,55.55555555555555,259.5904307692308,66.66666666666666,264.45867692307695C77.77777777777777,269.3269230769231,88.88888888888889,275.12245384615386,100,275.12245384615386C111.1111111111111,275.12245384615386,122.22222222222221,274.7035076923077,133.33333333333331,273.86561538461535C144.44444444444443,273.027723076923,155.55555555555557,268.7971692307692,166.66666666666669,258.66027692307694C177.7777777777778,248.52338461538469,188.88888888888889,218.93782307692308,200,196.82367692307693C211.11111111111111,174.70953076923075,222.22222222222223,143.72201923076923,233.33333333333334,125.97540000000001C244.44444444444443,108.22878076923081,255.55555555555554,90.34396153846154,266.66666666666663,90.34396153846154C277.77777777777777,90.34396153846154,288.88888888888886,92.39485384615385,300,96.49663846153848C311.11111111111114,100.59842307692311,322.22222222222223,115.28309999999999,333.33333333333337,115.28309999999999C344.44444444444446,115.28309999999999,355.55555555555554,115.1749923076923,366.66666666666663,114.95877692307693C377.77777777777777,114.74256153846154,388.88888888888886,105.52507692307688,400,105.46356923076921C411.1111111111111,105.40206153846154,422.22222222222223,105.43281538461537,433.3333333333333,105.3713076923077C444.44444444444446,105.30980000000002,455.55555555555554,91.25116153846152,466.6666666666667,91.25116153846152C477.77777777777777,91.25116153846152,488.8888888888889,91.44213846153845,500,91.8240923076923C511.1111111111111,92.20604615384615,522.2222222222222,111.47402307692307,533.3333333333333,111.47402307692307C544.4444444444445,111.47402307692307,555.5555555555555,89.22112692307697,566.6666666666667,77.32054615384615C577.7777777777778,65.41996538461542,588.8888888888889,40.070538461538476,600,40.070538461538476C611.1111111111111,40.070538461538476,622.2222222222222,42.863811538461576,633.3333333333333,47.49653076923077C644.4444444444445,52.12925,655.5555555555555,62.67007307692307,666.6666666666667,67.86685384615384C677.7777777777778,73.06363461538459,688.8888888888889,72.4761576923077,700,78.67721538461538C711.1111111111111,84.87827307692307,722.2222222222222,92.03222692307699,733.3333333333333,105.0732C744.4444444444445,118.1141730769231,755.5555555555555,137.51861346153848,766.6666666666667,156.92305384615386\" stroke=\"#4c78a8\" stroke-width=\"2\"/></g></g><path class=\"foreground\" aria-hidden=\"true\" d=\"\" display=\"none\"/></g><g transform=\"translate(0,0)\"><path class=\"background\" aria-hidden=\"true\" d=\"M0,0h800v300h-800Z\"/><g><g class=\"mark-line role-mark layer_0_marks\" clip-path=\"url(#clip3)\" role=\"graphics-object\" aria-roledescription=\"line mark container\"><path aria-label=\"Hour of Day: 0; Number of Trips: 10458820; DOW: Sat\" role=\"graphics-symbol\" aria-roledescription=\"line mark\" d=\"M0,58.64261538461538C11.111111111111109,70.55647884615384,22.22222222222222,82.4703423076923,33.33333333333333,94.60158461538461C44.444444444444436,106.73282692307691,55.55555555555555,117.9989923076923,66.66666666666666,131.43006923076922C77.77777777777777,144.86114615384614,88.88888888888889,160.40554615384616,100,175.18804615384616C111.1111111111111,189.97054615384616,122.22222222222221,206.07787307692305,133.33333333333331,220.1250692307692C144.44444444444443,234.17226538461537,155.55555555555557,259.4712230769231,166.66666666666669,259.4712230769231C177.7777777777778,259.4712230769231,188.88888888888889,256.0628884615385,200,250.8323076923077C211.11111111111111,245.6017269230769,222.22222222222223,237.9858153846154,233.33333333333334,228.08773846153846C244.44444444444443,218.18966153846154,255.55555555555554,205.1699076923077,266.66666666666663,191.44384615384618C277.77777777777777,177.71778461538463,288.88888888888886,158.65083461538464,300,145.73136923076925C311.11111111111114,132.81190384615385,322.22222222222223,123.04713461538464,333.33333333333337,113.92705384615385C344.44444444444446,104.8069730769231,355.55555555555554,97.57329999999999,366.66666666666663,91.01088461538461C377.77777777777777,84.4484692307692,388.88888888888886,77.64554615384614,400,74.55256153846153C411.1111111111111,71.45957692307692,422.22222222222223,69.91308461538462,433.3333333333333,69.91308461538462C444.44444444444446,69.91308461538462,455.55555555555554,76.07593076923074,466.6666666666667,76.29796153846152C477.77777777777777,76.5199923076923,488.8888888888889,76.4089769230769,500,76.63100769230769C511.1111111111111,76.85303846153847,522.2222222222222,97.76882307692306,533.3333333333333,97.76882307692306C544.4444444444445,97.76882307692306,555.5555555555555,83.04375769230775,566.6666666666667,73.66190769230771C577.7777777777778,64.28005769230774,588.8888888888889,48.657826923076925,600,41.47772307692308C611.1111111111111,34.29761923076923,622.2222222222222,30.58128461538463,633.3333333333333,30.58128461538463C644.4444444444445,30.58128461538463,655.5555555555555,58.43276153846153,666.6666666666667,59.7021923076923C677.7777777777778,60.97162307692306,688.8888888888889,61.60633846153844,700,61.60633846153844C711.1111111111111,61.60633846153844,722.2222222222222,46.92435769230769,733.3333333333333,42.60399230769231C744.4444444444445,38.283626923076895,755.5555555555555,36.983886538461526,766.6666666666667,35.68414615384615\" stroke=\"#eeca3b\" stroke-width=\"2\"/></g></g><path class=\"foreground\" aria-hidden=\"true\" d=\"\" display=\"none\"/></g><g transform=\"translate(0,0)\"><path class=\"background\" aria-hidden=\"true\" d=\"M0,0h800v300h-800Z\"/><g><g class=\"mark-line role-mark layer_0_marks\" clip-path=\"url(#clip4)\" role=\"graphics-object\" aria-roledescription=\"line mark container\"><path aria-label=\"Hour of Day: 0; Number of Trips: 10644613; DOW: Sun\" role=\"graphics-symbol\" aria-roledescription=\"line mark\" d=\"M0,54.355084615384605C11.111111111111109,61.51075384615385,22.22222222222222,68.66642307692308,33.33333333333333,79.8906C44.444444444444436,91.11477692307693,55.55555555555555,108.47515769230769,66.66666666666666,121.70014615384615C77.77777777777777,134.92513461538462,88.88888888888889,144.51348076923074,100,159.24053076923076C111.1111111111111,173.96758076923075,122.22222222222221,193.57931538461543,133.33333333333331,210.06244615384617C144.44444444444443,226.54557692307694,155.55555555555557,258.1393153846154,166.66666666666669,258.1393153846154C177.7777777777778,258.1393153846154,188.88888888888889,258.0879846153846,200,257.98532307692307C211.11111111111111,257.88266153846155,222.22222222222223,251.13743846153847,233.33333333333334,244.3221C244.44444444444443,237.50676153846155,255.55555555555554,228.33223076923076,266.66666666666663,217.0932923076923C277.77777777777777,205.85435384615383,288.88888888888886,191.10971538461538,300,176.88846923076923C311.11111111111114,162.66722307692308,322.22222222222223,143.81148076923077,333.33333333333337,131.76581538461537C344.44444444444446,119.72015,355.55555555555554,111.9938423076923,366.66666666666663,104.61447692307692C377.77777777777777,97.23511153846152,388.88888888888886,88.51269999999998,400,87.48962307692307C411.1111111111111,86.46654615384615,422.22222222222223,85.9744076923077,433.3333333333333,85.95500769230769C444.44444444444446,85.93560769230768,455.55555555555554,85.92590769230767,466.6666666666667,85.92590769230767C477.77777777777777,85.92590769230767,488.8888888888889,91.63794615384614,500,95.04773076923077C511.1111111111111,98.45751538461539,522.2222222222222,106.3846153846154,533.3333333333333,106.3846153846154C544.4444444444445,106.3846153846154,555.5555555555555,98.42924615384617,566.6666666666667,94.59558461538461C577.7777777777778,90.76192307692308,588.8888888888889,83.38264615384615,600,83.38264615384615C611.1111111111111,83.38264615384615,622.2222222222222,93.18028461538464,633.3333333333333,98.81554615384616C644.4444444444445,104.4508076923077,655.5555555555555,112.67080769230769,666.6666666666667,117.19421538461539C677.7777777777778,121.71762307692305,688.8888888888889,121.98083846153845,700,125.9559923076923C711.1111111111111,129.93114615384613,722.2222222222222,133.39160769230773,733.3333333333333,141.04513846153844C744.4444444444445,148.6986692307692,755.5555555555555,160.28792307692308,766.6666666666667,171.87717692307692\" stroke=\"#b279a2\" stroke-width=\"2\"/></g></g><path class=\"foreground\" aria-hidden=\"true\" d=\"\" display=\"none\"/></g><g transform=\"translate(0,0)\"><path class=\"background\" aria-hidden=\"true\" d=\"M0,0h800v300h-800Z\"/><g><g class=\"mark-line role-mark layer_0_marks\" clip-path=\"url(#clip5)\" role=\"graphics-object\" aria-roledescription=\"line mark container\"><path aria-label=\"Hour of Day: 0; Number of Trips: 5795727; DOW: Thu\" role=\"graphics-symbol\" aria-roledescription=\"line mark\" d=\"M0,166.25245384615386C11.111111111111109,186.1363903846154,22.22222222222222,206.02032692307694,33.33333333333333,219.91368461538462C44.444444444444436,233.8070423076923,55.55555555555555,241.7756269230769,66.66666666666666,249.6126C77.77777777777777,257.44957307692306,88.88888888888889,264.48023076923073,100,266.93552307692306C111.1111111111111,269.3908153846154,122.22222222222221,270.61846153846153,133.33333333333331,270.61846153846153C144.44444444444443,270.61846153846153,155.55555555555557,266.3163692307692,166.66666666666669,257.7121846153846C177.7777777777778,249.108,188.88888888888889,214.3612692307692,200,187.8387C211.11111111111111,161.31613076923074,222.22222222222223,119.9312923076923,233.33333333333334,98.57676923076923C244.44444444444443,77.22224615384619,255.55555555555554,59.71156153846155,266.66666666666663,59.71156153846155C277.77777777777777,59.71156153846155,288.88888888888886,65.43756153846155,300,70.5368076923077C311.11111111111114,75.63605384615386,322.22222222222223,90.25411538461536,333.33333333333337,90.30703846153844C344.44444444444446,90.35996153846152,355.55555555555554,90.38642307692307,366.66666666666663,90.38642307692307C377.77777777777777,90.38642307692307,388.88888888888886,81.03971538461538,400,81.03971538461538C411.1111111111111,81.03971538461538,422.22222222222223,83.25890769230769,433.3333333333333,83.25890769230769C444.44444444444446,83.25890769230769,455.55555555555554,71.4372,466.6666666666667,71.4372C477.77777777777777,71.4372,488.8888888888889,76.95198846153845,500,84.82901538461539C511.1111111111111,92.70604230769231,522.2222222222222,118.69936153846155,533.3333333333333,118.69936153846155C544.4444444444445,118.69936153846155,555.5555555555555,92.92912692307699,566.6666666666667,77.6212153846154C577.7777777777778,62.3133038461539,588.8888888888889,35.070769230769244,600,26.851892307692317C611.1111111111111,18.63301538461539,622.2222222222222,14.52357692307693,633.3333333333333,14.52357692307693C644.4444444444445,14.52357692307693,655.5555555555555,22.9197,666.6666666666667,22.9197C677.7777777777778,22.9197,688.8888888888889,21.817361538461544,700,21.817361538461544C711.1111111111111,21.817361538461544,722.2222222222222,26.355303846153895,733.3333333333333,33.726646153846154C744.4444444444445,41.09798846153846,755.5555555555555,53.57170192307693,766.6666666666667,66.0454153846154\" stroke=\"#72b7b2\" stroke-width=\"2\"/></g></g><path class=\"foreground\" aria-hidden=\"true\" d=\"\" display=\"none\"/></g><g transform=\"translate(0,0)\"><path class=\"background\" aria-hidden=\"true\" d=\"M0,0h800v300h-800Z\"/><g><g class=\"mark-line role-mark layer_0_marks\" clip-path=\"url(#clip6)\" role=\"graphics-object\" aria-roledescription=\"line mark container\"><path aria-label=\"Hour of Day: 0; Number of Trips: 4074129; DOW: Tue\" role=\"graphics-symbol\" aria-roledescription=\"line mark\" d=\"M0,205.98163846153847C11.111111111111109,220.44182884615384,22.22222222222222,234.90201923076924,33.33333333333333,244.8776076923077C44.444444444444436,254.85319615384614,55.55555555555555,260.4302,66.66666666666666,265.8351692307692C77.77777777777777,271.24013846153844,88.88888888888889,277.2997307692308,100,277.3074230769231C111.1111111111111,277.3151153846154,122.22222222222221,277.31896153846156,133.33333333333331,277.31896153846156C144.44444444444443,277.31896153846156,155.55555555555557,271.5676923076923,166.66666666666669,260.06515384615386C177.7777777777778,248.5626153846154,188.88888888888889,215.88995384615382,200,189.7073769230769C211.11111111111111,163.52479999999997,222.22222222222223,124.12019615384617,233.33333333333334,102.96969230769231C244.44444444444443,81.8191884615385,255.55555555555554,62.80435384615385,266.66666666666663,62.80435384615385C277.77777777777777,62.80435384615385,288.88888888888886,68.2852769230769,300,73.81022307692307C311.11111111111114,79.33516923076922,322.22222222222223,94.92395384615388,333.33333333333337,95.95403076923078C344.44444444444446,96.98410769230769,355.55555555555554,97.49914615384614,366.66666666666663,97.49914615384614C377.77777777777777,97.49914615384614,388.88888888888886,88.39324615384615,400,88.39324615384615C411.1111111111111,88.39324615384615,422.22222222222223,89.93923846153847,433.3333333333333,89.93923846153847C444.44444444444446,89.93923846153847,455.55555555555554,76.28769230769231,466.6666666666667,76.28769230769231C477.77777777777777,76.28769230769231,488.8888888888889,79.0715,500,84.6391153846154C511.1111111111111,90.20673076923077,522.2222222222222,114.8243076923077,533.3333333333333,114.8243076923077C544.4444444444445,114.8243076923077,555.5555555555555,89.33433461538469,566.6666666666667,74.49833076923078C577.7777777777778,59.66232692307696,588.8888888888889,26.18779230769228,600,25.8082846153846C611.1111111111111,25.42877692307692,622.2222222222222,25.239023076923083,633.3333333333333,25.239023076923083C644.4444444444445,25.239023076923083,655.5555555555555,37.0945153846154,666.6666666666667,38.60033076923079C677.7777777777778,40.10614615384617,688.8888888888889,39.353238461538474,700,40.859053846153856C711.1111111111111,42.36486923076924,722.2222222222222,52.659715384615474,733.3333333333333,66.19121538461539C744.4444444444445,79.7227153846154,755.5555555555555,100.88538461538462,766.6666666666667,122.04805384615383\" stroke=\"#f58518\" stroke-width=\"2\"/></g></g><path class=\"foreground\" aria-hidden=\"true\" d=\"\" display=\"none\"/></g><g transform=\"translate(0,0)\"><path class=\"background\" aria-hidden=\"true\" d=\"M0,0h800v300h-800Z\"/><g><g class=\"mark-line role-mark layer_0_marks\" clip-path=\"url(#clip7)\" role=\"graphics-object\" aria-roledescription=\"line mark container\"><path aria-label=\"Hour of Day: 0; Number of Trips: 5019567; DOW: Wed\" role=\"graphics-symbol\" aria-roledescription=\"line mark\" d=\"M0,184.16383846153846C11.111111111111109,201.87609807692309,22.22222222222222,219.58835769230774,33.33333333333333,231.79846153846157C44.444444444444436,244.0085653846154,55.55555555555555,250.7725923076923,66.66666666666666,257.4244615384615C77.77777777777777,264.07633076923076,88.88888888888889,270.2708615384616,100,271.7096769230769C111.1111111111111,273.14849230769227,122.22222222222221,273.86789999999996,133.33333333333331,273.86789999999996C144.44444444444443,273.86789999999996,155.55555555555557,268.99510769230767,166.66666666666669,259.2495230769231C177.7777777777778,249.50393846153852,188.88888888888889,215.34990769230768,200,188.5443923076923C211.11111111111111,161.7388769230769,222.22222222222223,120.16862307692308,233.33333333333334,98.41643076923077C244.44444444444443,76.6642384615385,255.55555555555554,58.03123846153846,266.66666666666663,58.03123846153846C277.77777777777777,58.03123846153846,288.88888888888886,63.89053461538461,300,69.37735384615384C311.11111111111114,74.86417307692307,322.22222222222223,90.95215384615383,333.33333333333337,90.95215384615383C344.44444444444446,90.95215384615383,355.55555555555554,90.75205384615384,366.66666666666663,90.35185384615386C377.77777777777777,89.95165384615387,388.88888888888886,81.36136153846154,400,81.36136153846154C411.1111111111111,81.36136153846154,422.22222222222223,84.04571538461538,433.3333333333333,84.04571538461538C444.44444444444446,84.04571538461538,455.55555555555554,74.64424615384614,466.6666666666667,74.64424615384614C477.77777777777777,74.64424615384614,488.8888888888889,78.15481923076922,500,85.17163846153846C511.1111111111111,92.1884576923077,522.2222222222222,116.74516153846155,533.3333333333333,116.74516153846155C544.4444444444445,116.74516153846155,555.5555555555555,90.67648846153853,566.6666666666667,75.61082307692308C577.7777777777778,60.54515769230774,588.8888888888889,32.39455384615386,600,26.351169230769234C611.1111111111111,20.307784615384605,622.2222222222222,17.286092307692293,633.3333333333333,17.286092307692293C644.4444444444445,17.286092307692293,655.5555555555555,29.475669230769235,666.6666666666667,29.94150000000001C677.7777777777778,30.40733076923078,688.8888888888889,30.174415384615394,700,30.640246153846164C711.1111111111111,31.106076923076934,722.2222222222222,37.38656538461547,733.3333333333333,48.87756923076925C744.4444444444445,60.3685730769231,755.5555555555555,79.97742115384617,766.6666666666667,99.58626923076925\" stroke=\"#e45756\" stroke-width=\"2\"/></g></g><path class=\"foreground\" aria-hidden=\"true\" d=\"\" display=\"none\"/></g></g><g class=\"mark-symbol role-mark layer_1_marks\" clip-path=\"url(#clip8)\" role=\"graphics-object\" aria-roledescription=\"symbol mark container\" pointer-events=\"none\"><path aria-label=\"Hour of Day: 1; Number of Trips: 5071352; DOW: Fri\" role=\"graphics-symbol\" aria-roledescription=\"point\" transform=\"translate(33.33333333333333,182.9688)\" d=\"M2.7386127875258306,0A2.7386127875258306,2.7386127875258306,0,1,1,-2.7386127875258306,0A2.7386127875258306,2.7386127875258306,0,1,1,2.7386127875258306,0\" fill=\"#54a24b\" stroke-width=\"2\" opacity=\"1\"/><path aria-label=\"Hour of Day: 4; Number of Trips: 1747313; DOW: Fri\" role=\"graphics-symbol\" aria-roledescription=\"point\" transform=\"translate(133.33333333333331,259.6773923076923)\" d=\"M2.7386127875258306,0A2.7386127875258306,2.7386127875258306,0,1,1,-2.7386127875258306,0A2.7386127875258306,2.7386127875258306,0,1,1,2.7386127875258306,0\" fill=\"#54a24b\" stroke-width=\"2\" opacity=\"1\"/><path aria-label=\"Hour of Day: 20; Number of Trips: 11543572; DOW: Fri\" role=\"graphics-symbol\" aria-roledescription=\"point\" transform=\"translate(666.6666666666667,33.60987692307691)\" d=\"M2.7386127875258306,0A2.7386127875258306,2.7386127875258306,0,1,1,-2.7386127875258306,0A2.7386127875258306,2.7386127875258306,0,1,1,2.7386127875258306,0\" fill=\"#54a24b\" stroke-width=\"2\" opacity=\"1\"/><path aria-label=\"Hour of Day: 13; Number of Trips: 9199654; DOW: Fri\" role=\"graphics-symbol\" aria-roledescription=\"point\" transform=\"translate(433.3333333333333,87.70029230769232)\" d=\"M2.7386127875258306,0A2.7386127875258306,2.7386127875258306,0,1,1,-2.7386127875258306,0A2.7386127875258306,2.7386127875258306,0,1,1,2.7386127875258306,0\" fill=\"#54a24b\" stroke-width=\"2\" opacity=\"1\"/><path aria-label=\"Hour of Day: 8; Number of Trips: 9924148; DOW: Fri\" role=\"graphics-symbol\" aria-roledescription=\"point\" transform=\"translate(266.66666666666663,70.98120000000002)\" d=\"M2.7386127875258306,0A2.7386127875258306,2.7386127875258306,0,1,1,-2.7386127875258306,0A2.7386127875258306,2.7386127875258306,0,1,1,2.7386127875258306,0\" fill=\"#54a24b\" stroke-width=\"2\" opacity=\"1\"/><path aria-label=\"Hour of Day: 7; Number of Trips: 8151064; DOW: Fri\" role=\"graphics-symbol\" aria-roledescription=\"point\" transform=\"translate(233.33333333333334,111.89852307692306)\" d=\"M2.7386127875258306,0A2.7386127875258306,2.7386127875258306,0,1,1,-2.7386127875258306,0A2.7386127875258306,2.7386127875258306,0,1,1,2.7386127875258306,0\" fill=\"#54a24b\" stroke-width=\"2\" opacity=\"1\"/><path aria-label=\"Hour of Day: 2; Number of Trips: 3340041; DOW: Fri\" role=\"graphics-symbol\" aria-roledescription=\"point\" transform=\"translate(66.66666666666666,222.92213076923076)\" d=\"M2.7386127875258306,0A2.7386127875258306,2.7386127875258306,0,1,1,-2.7386127875258306,0A2.7386127875258306,2.7386127875258306,0,1,1,2.7386127875258306,0\" fill=\"#54a24b\" stroke-width=\"2\" opacity=\"1\"/><path aria-label=\"Hour of Day: 0; Number of Trips: 7713682; DOW: Fri\" role=\"graphics-symbol\" aria-roledescription=\"point\" transform=\"translate(0,121.99195384615386)\" d=\"M2.7386127875258306,0A2.7386127875258306,2.7386127875258306,0,1,1,-2.7386127875258306,0A2.7386127875258306,2.7386127875258306,0,1,1,2.7386127875258306,0\" fill=\"#54a24b\" stroke-width=\"2\" opacity=\"1\"/><path aria-label=\"Hour of Day: 5; Number of Trips: 1971338; DOW: Fri\" role=\"graphics-symbol\" aria-roledescription=\"point\" transform=\"translate(166.66666666666669,254.50758461538464)\" d=\"M2.7386127875258306,0A2.7386127875258306,2.7386127875258306,0,1,1,-2.7386127875258306,0A2.7386127875258306,2.7386127875258306,0,1,1,2.7386127875258306,0\" fill=\"#54a24b\" stroke-width=\"2\" opacity=\"1\"/><path aria-label=\"Hour of Day: 6; Number of Trips: 4654198; DOW: Fri\" role=\"graphics-symbol\" aria-roledescription=\"point\" transform=\"translate(200,192.59543076923075)\" d=\"M2.7386127875258306,0A2.7386127875258306,2.7386127875258306,0,1,1,-2.7386127875258306,0A2.7386127875258306,2.7386127875258306,0,1,1,2.7386127875258306,0\" fill=\"#54a24b\" stroke-width=\"2\" opacity=\"1\"/><path aria-label=\"Hour of Day: 9; Number of Trips: 9609446; DOW: Fri\" role=\"graphics-symbol\" aria-roledescription=\"point\" transform=\"translate(300,78.24355384615383)\" d=\"M2.7386127875258306,0A2.7386127875258306,2.7386127875258306,0,1,1,-2.7386127875258306,0A2.7386127875258306,2.7386127875258306,0,1,1,2.7386127875258306,0\" fill=\"#54a24b\" stroke-width=\"2\" opacity=\"1\"/><path aria-label=\"Hour of Day: 10; Number of Trips: 8909591; DOW: Fri\" role=\"graphics-symbol\" aria-roledescription=\"point\" transform=\"translate(333.33333333333337,94.39405384615385)\" d=\"M2.7386127875258306,0A2.7386127875258306,2.7386127875258306,0,1,1,-2.7386127875258306,0A2.7386127875258306,2.7386127875258306,0,1,1,2.7386127875258306,0\" fill=\"#54a24b\" stroke-width=\"2\" opacity=\"1\"/><path aria-label=\"Hour of Day: 11; Number of Trips: 9015076; DOW: Fri\" role=\"graphics-symbol\" aria-roledescription=\"point\" transform=\"translate(366.66666666666663,91.95978461538462)\" d=\"M2.7386127875258306,0A2.7386127875258306,2.7386127875258306,0,1,1,-2.7386127875258306,0A2.7386127875258306,2.7386127875258306,0,1,1,2.7386127875258306,0\" fill=\"#54a24b\" stroke-width=\"2\" opacity=\"1\"/><path aria-label=\"Hour of Day: 12; Number of Trips: 9313704; DOW: Fri\" role=\"graphics-symbol\" aria-roledescription=\"point\" transform=\"translate(400,85.06836923076924)\" d=\"M2.7386127875258306,0A2.7386127875258306,2.7386127875258306,0,1,1,-2.7386127875258306,0A2.7386127875258306,2.7386127875258306,0,1,1,2.7386127875258306,0\" fill=\"#54a24b\" stroke-width=\"2\" opacity=\"1\"/><path aria-label=\"Hour of Day: 14; Number of Trips: 9846096; DOW: Fri\" role=\"graphics-symbol\" aria-roledescription=\"point\" transform=\"translate(466.6666666666667,72.78240000000001)\" d=\"M2.7386127875258306,0A2.7386127875258306,2.7386127875258306,0,1,1,-2.7386127875258306,0A2.7386127875258306,2.7386127875258306,0,1,1,2.7386127875258306,0\" fill=\"#54a24b\" stroke-width=\"2\" opacity=\"1\"/><path aria-label=\"Hour of Day: 15; Number of Trips: 9177751; DOW: Fri\" role=\"graphics-symbol\" aria-roledescription=\"point\" transform=\"translate(500,88.20574615384615)\" d=\"M2.7386127875258306,0A2.7386127875258306,2.7386127875258306,0,1,1,-2.7386127875258306,0A2.7386127875258306,2.7386127875258306,0,1,1,2.7386127875258306,0\" fill=\"#54a24b\" stroke-width=\"2\" opacity=\"1\"/><path aria-label=\"Hour of Day: 16; Number of Trips: 7895470; DOW: Fri\" role=\"graphics-symbol\" aria-roledescription=\"point\" transform=\"translate(533.3333333333333,117.79684615384615)\" d=\"M2.7386127875258306,0A2.7386127875258306,2.7386127875258306,0,1,1,-2.7386127875258306,0A2.7386127875258306,2.7386127875258306,0,1,1,2.7386127875258306,0\" fill=\"#54a24b\" stroke-width=\"2\" opacity=\"1\"/><path aria-label=\"Hour of Day: 18; Number of Trips: 11843392; DOW: Fri\" role=\"graphics-symbol\" aria-roledescription=\"point\" transform=\"translate(600,26.690953846153853)\" d=\"M2.7386127875258306,0A2.7386127875258306,2.7386127875258306,0,1,1,-2.7386127875258306,0A2.7386127875258306,2.7386127875258306,0,1,1,2.7386127875258306,0\" fill=\"#54a24b\" stroke-width=\"2\" opacity=\"1\"/><path aria-label=\"Hour of Day: 21; Number of Trips: 11316824; DOW: Fri\" role=\"graphics-symbol\" aria-roledescription=\"point\" transform=\"translate(700,38.84252307692307)\" d=\"M2.7386127875258306,0A2.7386127875258306,2.7386127875258306,0,1,1,-2.7386127875258306,0A2.7386127875258306,2.7386127875258306,0,1,1,2.7386127875258306,0\" fill=\"#54a24b\" stroke-width=\"2\" opacity=\"1\"/><path aria-label=\"Hour of Day: 22; Number of Trips: 11682646; DOW: Fri\" role=\"graphics-symbol\" aria-roledescription=\"point\" transform=\"translate(733.3333333333333,30.400476923076912)\" d=\"M2.7386127875258306,0A2.7386127875258306,2.7386127875258306,0,1,1,-2.7386127875258306,0A2.7386127875258306,2.7386127875258306,0,1,1,2.7386127875258306,0\" fill=\"#54a24b\" stroke-width=\"2\" opacity=\"1\"/><path aria-label=\"Hour of Day: 23; Number of Trips: 11459532; DOW: Fri\" role=\"graphics-symbol\" aria-roledescription=\"point\" transform=\"translate(766.6666666666667,35.54926153846153)\" d=\"M2.7386127875258306,0A2.7386127875258306,2.7386127875258306,0,1,1,-2.7386127875258306,0A2.7386127875258306,2.7386127875258306,0,1,1,2.7386127875258306,0\" fill=\"#54a24b\" stroke-width=\"2\" opacity=\"1\"/><path aria-label=\"Hour of Day: 19; Number of Trips: 12524379; DOW: Fri\" role=\"graphics-symbol\" aria-roledescription=\"point\" transform=\"translate(633.3333333333333,10.97586923076922)\" d=\"M2.7386127875258306,0A2.7386127875258306,2.7386127875258306,0,1,1,-2.7386127875258306,0A2.7386127875258306,2.7386127875258306,0,1,1,2.7386127875258306,0\" fill=\"#54a24b\" stroke-width=\"2\" opacity=\"1\"/><path aria-label=\"Hour of Day: 17; Number of Trips: 9710349; DOW: Fri\" role=\"graphics-symbol\" aria-roledescription=\"point\" transform=\"translate(566.6666666666667,75.91502307692308)\" d=\"M2.7386127875258306,0A2.7386127875258306,2.7386127875258306,0,1,1,-2.7386127875258306,0A2.7386127875258306,2.7386127875258306,0,1,1,2.7386127875258306,0\" fill=\"#54a24b\" stroke-width=\"2\" opacity=\"1\"/><path aria-label=\"Hour of Day: 3; Number of Trips: 2208207; DOW: Fri\" role=\"graphics-symbol\" aria-roledescription=\"point\" transform=\"translate(100,249.0413769230769)\" d=\"M2.7386127875258306,0A2.7386127875258306,2.7386127875258306,0,1,1,-2.7386127875258306,0A2.7386127875258306,2.7386127875258306,0,1,1,2.7386127875258306,0\" fill=\"#54a24b\" stroke-width=\"2\" opacity=\"1\"/><path aria-label=\"Hour of Day: 5; Number of Trips: 1791388; DOW: Mon\" role=\"graphics-symbol\" aria-roledescription=\"point\" transform=\"translate(166.66666666666669,258.66027692307694)\" d=\"M2.7386127875258306,0A2.7386127875258306,2.7386127875258306,0,1,1,-2.7386127875258306,0A2.7386127875258306,2.7386127875258306,0,1,1,2.7386127875258306,0\" fill=\"#4c78a8\" stroke-width=\"2\" opacity=\"1\"/><path aria-label=\"Hour of Day: 4; Number of Trips: 1132490; DOW: Mon\" role=\"graphics-symbol\" aria-roledescription=\"point\" transform=\"translate(133.33333333333331,273.86561538461535)\" d=\"M2.7386127875258306,0A2.7386127875258306,2.7386127875258306,0,1,1,-2.7386127875258306,0A2.7386127875258306,2.7386127875258306,0,1,1,2.7386127875258306,0\" fill=\"#4c78a8\" stroke-width=\"2\" opacity=\"1\"/><path aria-label=\"Hour of Day: 3; Number of Trips: 1078027; DOW: Mon\" role=\"graphics-symbol\" aria-roledescription=\"point\" transform=\"translate(100,275.12245384615386)\" d=\"M2.7386127875258306,0A2.7386127875258306,2.7386127875258306,0,1,1,-2.7386127875258306,0A2.7386127875258306,2.7386127875258306,0,1,1,2.7386127875258306,0\" fill=\"#4c78a8\" stroke-width=\"2\" opacity=\"1\"/><path aria-label=\"Hour of Day: 2; Number of Trips: 1540124; DOW: Mon\" role=\"graphics-symbol\" aria-roledescription=\"point\" transform=\"translate(66.66666666666666,264.45867692307695)\" d=\"M2.7386127875258306,0A2.7386127875258306,2.7386127875258306,0,1,1,-2.7386127875258306,0A2.7386127875258306,2.7386127875258306,0,1,1,2.7386127875258306,0\" fill=\"#4c78a8\" stroke-width=\"2\" opacity=\"1\"/><path aria-label=\"Hour of Day: 1; Number of Trips: 2343771; DOW: Mon\" role=\"graphics-symbol\" aria-roledescription=\"point\" transform=\"translate(33.33333333333333,245.91297692307694)\" d=\"M2.7386127875258306,0A2.7386127875258306,2.7386127875258306,0,1,1,-2.7386127875258306,0A2.7386127875258306,2.7386127875258306,0,1,1,2.7386127875258306,0\" fill=\"#4c78a8\" stroke-width=\"2\" opacity=\"1\"/><path aria-label=\"Hour of Day: 0; Number of Trips: 3852700; DOW: Mon\" role=\"graphics-symbol\" aria-roledescription=\"point\" transform=\"translate(0,211.09153846153848)\" d=\"M2.7386127875258306,0A2.7386127875258306,2.7386127875258306,0,1,1,-2.7386127875258306,0A2.7386127875258306,2.7386127875258306,0,1,1,2.7386127875258306,0\" fill=\"#4c78a8\" stroke-width=\"2\" opacity=\"1\"/><path aria-label=\"Hour of Day: 23; Number of Trips: 6200001; DOW: Mon\" role=\"graphics-symbol\" aria-roledescription=\"point\" transform=\"translate(766.6666666666667,156.92305384615386)\" d=\"M2.7386127875258306,0A2.7386127875258306,2.7386127875258306,0,1,1,-2.7386127875258306,0A2.7386127875258306,2.7386127875258306,0,1,1,2.7386127875258306,0\" fill=\"#4c78a8\" stroke-width=\"2\" opacity=\"1\"/><path aria-label=\"Hour of Day: 22; Number of Trips: 8446828; DOW: Mon\" role=\"graphics-symbol\" aria-roledescription=\"point\" transform=\"translate(733.3333333333333,105.0732)\" d=\"M2.7386127875258306,0A2.7386127875258306,2.7386127875258306,0,1,1,-2.7386127875258306,0A2.7386127875258306,2.7386127875258306,0,1,1,2.7386127875258306,0\" fill=\"#4c78a8\" stroke-width=\"2\" opacity=\"1\"/><path aria-label=\"Hour of Day: 21; Number of Trips: 9590654; DOW: Mon\" role=\"graphics-symbol\" aria-roledescription=\"point\" transform=\"translate(700,78.67721538461538)\" d=\"M2.7386127875258306,0A2.7386127875258306,2.7386127875258306,0,1,1,-2.7386127875258306,0A2.7386127875258306,2.7386127875258306,0,1,1,2.7386127875258306,0\" fill=\"#4c78a8\" stroke-width=\"2\" opacity=\"1\"/><path aria-label=\"Hour of Day: 20; Number of Trips: 10059103; DOW: Mon\" role=\"graphics-symbol\" aria-roledescription=\"point\" transform=\"translate(666.6666666666667,67.86685384615384)\" d=\"M2.7386127875258306,0A2.7386127875258306,2.7386127875258306,0,1,1,-2.7386127875258306,0A2.7386127875258306,2.7386127875258306,0,1,1,2.7386127875258306,0\" fill=\"#4c78a8\" stroke-width=\"2\" opacity=\"1\"/><path aria-label=\"Hour of Day: 19; Number of Trips: 10941817; DOW: Mon\" role=\"graphics-symbol\" aria-roledescription=\"point\" transform=\"translate(633.3333333333333,47.49653076923077)\" d=\"M2.7386127875258306,0A2.7386127875258306,2.7386127875258306,0,1,1,-2.7386127875258306,0A2.7386127875258306,2.7386127875258306,0,1,1,2.7386127875258306,0\" fill=\"#4c78a8\" stroke-width=\"2\" opacity=\"1\"/><path aria-label=\"Hour of Day: 18; Number of Trips: 11263610; DOW: Mon\" role=\"graphics-symbol\" aria-roledescription=\"point\" transform=\"translate(600,40.070538461538476)\" d=\"M2.7386127875258306,0A2.7386127875258306,2.7386127875258306,0,1,1,-2.7386127875258306,0A2.7386127875258306,2.7386127875258306,0,1,1,2.7386127875258306,0\" fill=\"#4c78a8\" stroke-width=\"2\" opacity=\"1\"/><path aria-label=\"Hour of Day: 6; Number of Trips: 4470974; DOW: Mon\" role=\"graphics-symbol\" aria-roledescription=\"point\" transform=\"translate(200,196.82367692307693)\" d=\"M2.7386127875258306,0A2.7386127875258306,2.7386127875258306,0,1,1,-2.7386127875258306,0A2.7386127875258306,2.7386127875258306,0,1,1,2.7386127875258306,0\" fill=\"#4c78a8\" stroke-width=\"2\" opacity=\"1\"/><path aria-label=\"Hour of Day: 17; Number of Trips: 9649443; DOW: Mon\" role=\"graphics-symbol\" aria-roledescription=\"point\" transform=\"translate(566.6666666666667,77.32054615384615)\" d=\"M2.7386127875258306,0A2.7386127875258306,2.7386127875258306,0,1,1,-2.7386127875258306,0A2.7386127875258306,2.7386127875258306,0,1,1,2.7386127875258306,0\" fill=\"#4c78a8\" stroke-width=\"2\" opacity=\"1\"/><path aria-label=\"Hour of Day: 16; Number of Trips: 8169459; DOW: Mon\" role=\"graphics-symbol\" aria-roledescription=\"point\" transform=\"translate(533.3333333333333,111.47402307692307)\" d=\"M2.7386127875258306,0A2.7386127875258306,2.7386127875258306,0,1,1,-2.7386127875258306,0A2.7386127875258306,2.7386127875258306,0,1,1,2.7386127875258306,0\" fill=\"#4c78a8\" stroke-width=\"2\" opacity=\"1\"/><path aria-label=\"Hour of Day: 15; Number of Trips: 9020956; DOW: Mon\" role=\"graphics-symbol\" aria-roledescription=\"point\" transform=\"translate(500,91.8240923076923)\" d=\"M2.7386127875258306,0A2.7386127875258306,2.7386127875258306,0,1,1,-2.7386127875258306,0A2.7386127875258306,2.7386127875258306,0,1,1,2.7386127875258306,0\" fill=\"#4c78a8\" stroke-width=\"2\" opacity=\"1\"/><path aria-label=\"Hour of Day: 14; Number of Trips: 9045783; DOW: Mon\" role=\"graphics-symbol\" aria-roledescription=\"point\" transform=\"translate(466.6666666666667,91.25116153846152)\" d=\"M2.7386127875258306,0A2.7386127875258306,2.7386127875258306,0,1,1,-2.7386127875258306,0A2.7386127875258306,2.7386127875258306,0,1,1,2.7386127875258306,0\" fill=\"#4c78a8\" stroke-width=\"2\" opacity=\"1\"/><path aria-label=\"Hour of Day: 13; Number of Trips: 8433910; DOW: Mon\" role=\"graphics-symbol\" aria-roledescription=\"point\" transform=\"translate(433.3333333333333,105.3713076923077)\" d=\"M2.7386127875258306,0A2.7386127875258306,2.7386127875258306,0,1,1,-2.7386127875258306,0A2.7386127875258306,2.7386127875258306,0,1,1,2.7386127875258306,0\" fill=\"#4c78a8\" stroke-width=\"2\" opacity=\"1\"/><path aria-label=\"Hour of Day: 7; Number of Trips: 7541066; DOW: Mon\" role=\"graphics-symbol\" aria-roledescription=\"point\" transform=\"translate(233.33333333333334,125.97540000000001)\" d=\"M2.7386127875258306,0A2.7386127875258306,2.7386127875258306,0,1,1,-2.7386127875258306,0A2.7386127875258306,2.7386127875258306,0,1,1,2.7386127875258306,0\" fill=\"#4c78a8\" stroke-width=\"2\" opacity=\"1\"/><path aria-label=\"Hour of Day: 8; Number of Trips: 9085095; DOW: Mon\" role=\"graphics-symbol\" aria-roledescription=\"point\" transform=\"translate(266.66666666666663,90.34396153846154)\" d=\"M2.7386127875258306,0A2.7386127875258306,2.7386127875258306,0,1,1,-2.7386127875258306,0A2.7386127875258306,2.7386127875258306,0,1,1,2.7386127875258306,0\" fill=\"#4c78a8\" stroke-width=\"2\" opacity=\"1\"/><path aria-label=\"Hour of Day: 12; Number of Trips: 8429912; DOW: Mon\" role=\"graphics-symbol\" aria-roledescription=\"point\" transform=\"translate(400,105.46356923076921)\" d=\"M2.7386127875258306,0A2.7386127875258306,2.7386127875258306,0,1,1,-2.7386127875258306,0A2.7386127875258306,2.7386127875258306,0,1,1,2.7386127875258306,0\" fill=\"#4c78a8\" stroke-width=\"2\" opacity=\"1\"/><path aria-label=\"Hour of Day: 11; Number of Trips: 8018453; DOW: Mon\" role=\"graphics-symbol\" aria-roledescription=\"point\" transform=\"translate(366.66666666666663,114.95877692307693)\" d=\"M2.7386127875258306,0A2.7386127875258306,2.7386127875258306,0,1,1,-2.7386127875258306,0A2.7386127875258306,2.7386127875258306,0,1,1,2.7386127875258306,0\" fill=\"#4c78a8\" stroke-width=\"2\" opacity=\"1\"/><path aria-label=\"Hour of Day: 10; Number of Trips: 8004399; DOW: Mon\" role=\"graphics-symbol\" aria-roledescription=\"point\" transform=\"translate(333.33333333333337,115.28309999999999)\" d=\"M2.7386127875258306,0A2.7386127875258306,2.7386127875258306,0,1,1,-2.7386127875258306,0A2.7386127875258306,2.7386127875258306,0,1,1,2.7386127875258306,0\" fill=\"#4c78a8\" stroke-width=\"2\" opacity=\"1\"/><path aria-label=\"Hour of Day: 9; Number of Trips: 8818479; DOW: Mon\" role=\"graphics-symbol\" aria-roledescription=\"point\" transform=\"translate(300,96.49663846153848)\" d=\"M2.7386127875258306,0A2.7386127875258306,2.7386127875258306,0,1,1,-2.7386127875258306,0A2.7386127875258306,2.7386127875258306,0,1,1,2.7386127875258306,0\" fill=\"#4c78a8\" stroke-width=\"2\" opacity=\"1\"/><path aria-label=\"Hour of Day: 7; Number of Trips: 3116198; DOW: Sat\" role=\"graphics-symbol\" aria-roledescription=\"point\" transform=\"translate(233.33333333333334,228.08773846153846)\" d=\"M2.7386127875258306,0A2.7386127875258306,2.7386127875258306,0,1,1,-2.7386127875258306,0A2.7386127875258306,2.7386127875258306,0,1,1,2.7386127875258306,0\" fill=\"#eeca3b\" stroke-width=\"2\" opacity=\"1\"/><path aria-label=\"Hour of Day: 6; Number of Trips: 2130600; DOW: Sat\" role=\"graphics-symbol\" aria-roledescription=\"point\" transform=\"translate(200,250.8323076923077)\" d=\"M2.7386127875258306,0A2.7386127875258306,2.7386127875258306,0,1,1,-2.7386127875258306,0A2.7386127875258306,2.7386127875258306,0,1,1,2.7386127875258306,0\" fill=\"#eeca3b\" stroke-width=\"2\" opacity=\"1\"/><path aria-label=\"Hour of Day: 5; Number of Trips: 1756247; DOW: Sat\" role=\"graphics-symbol\" aria-roledescription=\"point\" transform=\"translate(166.66666666666669,259.4712230769231)\" d=\"M2.7386127875258306,0A2.7386127875258306,2.7386127875258306,0,1,1,-2.7386127875258306,0A2.7386127875258306,2.7386127875258306,0,1,1,2.7386127875258306,0\" fill=\"#eeca3b\" stroke-width=\"2\" opacity=\"1\"/><path aria-label=\"Hour of Day: 4; Number of Trips: 3461247; DOW: Sat\" role=\"graphics-symbol\" aria-roledescription=\"point\" transform=\"translate(133.33333333333331,220.1250692307692)\" d=\"M2.7386127875258306,0A2.7386127875258306,2.7386127875258306,0,1,1,-2.7386127875258306,0A2.7386127875258306,2.7386127875258306,0,1,1,2.7386127875258306,0\" fill=\"#eeca3b\" stroke-width=\"2\" opacity=\"1\"/><path aria-label=\"Hour of Day: 3; Number of Trips: 5408518; DOW: Sat\" role=\"graphics-symbol\" aria-roledescription=\"point\" transform=\"translate(100,175.18804615384616)\" d=\"M2.7386127875258306,0A2.7386127875258306,2.7386127875258306,0,1,1,-2.7386127875258306,0A2.7386127875258306,2.7386127875258306,0,1,1,2.7386127875258306,0\" fill=\"#eeca3b\" stroke-width=\"2\" opacity=\"1\"/><path aria-label=\"Hour of Day: 2; Number of Trips: 7304697; DOW: Sat\" role=\"graphics-symbol\" aria-roledescription=\"point\" transform=\"translate(66.66666666666666,131.43006923076922)\" d=\"M2.7386127875258306,0A2.7386127875258306,2.7386127875258306,0,1,1,-2.7386127875258306,0A2.7386127875258306,2.7386127875258306,0,1,1,2.7386127875258306,0\" fill=\"#eeca3b\" stroke-width=\"2\" opacity=\"1\"/><path aria-label=\"Hour of Day: 1; Number of Trips: 8900598; DOW: Sat\" role=\"graphics-symbol\" aria-roledescription=\"point\" transform=\"translate(33.33333333333333,94.60158461538461)\" d=\"M2.7386127875258306,0A2.7386127875258306,2.7386127875258306,0,1,1,-2.7386127875258306,0A2.7386127875258306,2.7386127875258306,0,1,1,2.7386127875258306,0\" fill=\"#eeca3b\" stroke-width=\"2\" opacity=\"1\"/><path aria-label=\"Hour of Day: 0; Number of Trips: 10458820; DOW: Sat\" role=\"graphics-symbol\" aria-roledescription=\"point\" transform=\"translate(0,58.64261538461538)\" d=\"M2.7386127875258306,0A2.7386127875258306,2.7386127875258306,0,1,1,-2.7386127875258306,0A2.7386127875258306,2.7386127875258306,0,1,1,2.7386127875258306,0\" fill=\"#eeca3b\" stroke-width=\"2\" opacity=\"1\"/><path aria-label=\"Hour of Day: 22; Number of Trips: 11153827; DOW: Sat\" role=\"graphics-symbol\" aria-roledescription=\"point\" transform=\"translate(733.3333333333333,42.60399230769231)\" d=\"M2.7386127875258306,0A2.7386127875258306,2.7386127875258306,0,1,1,-2.7386127875258306,0A2.7386127875258306,2.7386127875258306,0,1,1,2.7386127875258306,0\" fill=\"#eeca3b\" stroke-width=\"2\" opacity=\"1\"/><path aria-label=\"Hour of Day: 8; Number of Trips: 4704100; DOW: Sat\" role=\"graphics-symbol\" aria-roledescription=\"point\" transform=\"translate(266.66666666666663,191.44384615384618)\" d=\"M2.7386127875258306,0A2.7386127875258306,2.7386127875258306,0,1,1,-2.7386127875258306,0A2.7386127875258306,2.7386127875258306,0,1,1,2.7386127875258306,0\" fill=\"#eeca3b\" stroke-width=\"2\" opacity=\"1\"/><path aria-label=\"Hour of Day: 9; Number of Trips: 6684974; DOW: Sat\" role=\"graphics-symbol\" aria-roledescription=\"point\" transform=\"translate(300,145.73136923076925)\" d=\"M2.7386127875258306,0A2.7386127875258306,2.7386127875258306,0,1,1,-2.7386127875258306,0A2.7386127875258306,2.7386127875258306,0,1,1,2.7386127875258306,0\" fill=\"#eeca3b\" stroke-width=\"2\" opacity=\"1\"/><path aria-label=\"Hour of Day: 10; Number of Trips: 8063161; DOW: Sat\" role=\"graphics-symbol\" aria-roledescription=\"point\" transform=\"translate(333.33333333333337,113.92705384615385)\" d=\"M2.7386127875258306,0A2.7386127875258306,2.7386127875258306,0,1,1,-2.7386127875258306,0A2.7386127875258306,2.7386127875258306,0,1,1,2.7386127875258306,0\" fill=\"#eeca3b\" stroke-width=\"2\" opacity=\"1\"/><path aria-label=\"Hour of Day: 11; Number of Trips: 9056195; DOW: Sat\" role=\"graphics-symbol\" aria-roledescription=\"point\" transform=\"translate(366.66666666666663,91.01088461538461)\" d=\"M2.7386127875258306,0A2.7386127875258306,2.7386127875258306,0,1,1,-2.7386127875258306,0A2.7386127875258306,2.7386127875258306,0,1,1,2.7386127875258306,0\" fill=\"#eeca3b\" stroke-width=\"2\" opacity=\"1\"/><path aria-label=\"Hour of Day: 12; Number of Trips: 9769389; DOW: Sat\" role=\"graphics-symbol\" aria-roledescription=\"point\" transform=\"translate(400,74.55256153846153)\" d=\"M2.7386127875258306,0A2.7386127875258306,2.7386127875258306,0,1,1,-2.7386127875258306,0A2.7386127875258306,2.7386127875258306,0,1,1,2.7386127875258306,0\" fill=\"#eeca3b\" stroke-width=\"2\" opacity=\"1\"/><path aria-label=\"Hour of Day: 13; Number of Trips: 9970433; DOW: Sat\" role=\"graphics-symbol\" aria-roledescription=\"point\" transform=\"translate(433.3333333333333,69.91308461538462)\" d=\"M2.7386127875258306,0A2.7386127875258306,2.7386127875258306,0,1,1,-2.7386127875258306,0A2.7386127875258306,2.7386127875258306,0,1,1,2.7386127875258306,0\" fill=\"#eeca3b\" stroke-width=\"2\" opacity=\"1\"/><path aria-label=\"Hour of Day: 14; Number of Trips: 9693755; DOW: Sat\" role=\"graphics-symbol\" aria-roledescription=\"point\" transform=\"translate(466.6666666666667,76.29796153846152)\" d=\"M2.7386127875258306,0A2.7386127875258306,2.7386127875258306,0,1,1,-2.7386127875258306,0A2.7386127875258306,2.7386127875258306,0,1,1,2.7386127875258306,0\" fill=\"#eeca3b\" stroke-width=\"2\" opacity=\"1\"/><path aria-label=\"Hour of Day: 15; Number of Trips: 9679323; DOW: Sat\" role=\"graphics-symbol\" aria-roledescription=\"point\" transform=\"translate(500,76.63100769230769)\" d=\"M2.7386127875258306,0A2.7386127875258306,2.7386127875258306,0,1,1,-2.7386127875258306,0A2.7386127875258306,2.7386127875258306,0,1,1,2.7386127875258306,0\" fill=\"#eeca3b\" stroke-width=\"2\" opacity=\"1\"/><path aria-label=\"Hour of Day: 16; Number of Trips: 8763351; DOW: Sat\" role=\"graphics-symbol\" aria-roledescription=\"point\" transform=\"translate(533.3333333333333,97.76882307692306)\" d=\"M2.7386127875258306,0A2.7386127875258306,2.7386127875258306,0,1,1,-2.7386127875258306,0A2.7386127875258306,2.7386127875258306,0,1,1,2.7386127875258306,0\" fill=\"#eeca3b\" stroke-width=\"2\" opacity=\"1\"/><path aria-label=\"Hour of Day: 18; Number of Trips: 11202632; DOW: Sat\" role=\"graphics-symbol\" aria-roledescription=\"point\" transform=\"translate(600,41.47772307692308)\" d=\"M2.7386127875258306,0A2.7386127875258306,2.7386127875258306,0,1,1,-2.7386127875258306,0A2.7386127875258306,2.7386127875258306,0,1,1,2.7386127875258306,0\" fill=\"#eeca3b\" stroke-width=\"2\" opacity=\"1\"/><path aria-label=\"Hour of Day: 19; Number of Trips: 11674811; DOW: Sat\" role=\"graphics-symbol\" aria-roledescription=\"point\" transform=\"translate(633.3333333333333,30.58128461538463)\" d=\"M2.7386127875258306,0A2.7386127875258306,2.7386127875258306,0,1,1,-2.7386127875258306,0A2.7386127875258306,2.7386127875258306,0,1,1,2.7386127875258306,0\" fill=\"#eeca3b\" stroke-width=\"2\" opacity=\"1\"/><path aria-label=\"Hour of Day: 20; Number of Trips: 10412905; DOW: Sat\" role=\"graphics-symbol\" aria-roledescription=\"point\" transform=\"translate(666.6666666666667,59.7021923076923)\" d=\"M2.7386127875258306,0A2.7386127875258306,2.7386127875258306,0,1,1,-2.7386127875258306,0A2.7386127875258306,2.7386127875258306,0,1,1,2.7386127875258306,0\" fill=\"#eeca3b\" stroke-width=\"2\" opacity=\"1\"/><path aria-label=\"Hour of Day: 21; Number of Trips: 10330392; DOW: Sat\" role=\"graphics-symbol\" aria-roledescription=\"point\" transform=\"translate(700,61.60633846153844)\" d=\"M2.7386127875258306,0A2.7386127875258306,2.7386127875258306,0,1,1,-2.7386127875258306,0A2.7386127875258306,2.7386127875258306,0,1,1,2.7386127875258306,0\" fill=\"#eeca3b\" stroke-width=\"2\" opacity=\"1\"/><path aria-label=\"Hour of Day: 23; Number of Trips: 11453687; DOW: Sat\" role=\"graphics-symbol\" aria-roledescription=\"point\" transform=\"translate(766.6666666666667,35.68414615384615)\" d=\"M2.7386127875258306,0A2.7386127875258306,2.7386127875258306,0,1,1,-2.7386127875258306,0A2.7386127875258306,2.7386127875258306,0,1,1,2.7386127875258306,0\" fill=\"#eeca3b\" stroke-width=\"2\" opacity=\"1\"/><path aria-label=\"Hour of Day: 17; Number of Trips: 9807984; DOW: Sat\" role=\"graphics-symbol\" aria-roledescription=\"point\" transform=\"translate(566.6666666666667,73.66190769230771)\" d=\"M2.7386127875258306,0A2.7386127875258306,2.7386127875258306,0,1,1,-2.7386127875258306,0A2.7386127875258306,2.7386127875258306,0,1,1,2.7386127875258306,0\" fill=\"#eeca3b\" stroke-width=\"2\" opacity=\"1\"/><path aria-label=\"Hour of Day: 14; Number of Trips: 9276544; DOW: Sun\" role=\"graphics-symbol\" aria-roledescription=\"point\" transform=\"translate(466.6666666666667,85.92590769230767)\" d=\"M2.7386127875258306,0A2.7386127875258306,2.7386127875258306,0,1,1,-2.7386127875258306,0A2.7386127875258306,2.7386127875258306,0,1,1,2.7386127875258306,0\" fill=\"#b279a2\" stroke-width=\"2\" opacity=\"1\"/><path aria-label=\"Hour of Day: 0; Number of Trips: 10644613; DOW: Sun\" role=\"graphics-symbol\" aria-roledescription=\"point\" transform=\"translate(0,54.355084615384605)\" d=\"M2.7386127875258306,0A2.7386127875258306,2.7386127875258306,0,1,1,-2.7386127875258306,0A2.7386127875258306,2.7386127875258306,0,1,1,2.7386127875258306,0\" fill=\"#b279a2\" stroke-width=\"2\" opacity=\"1\"/><path aria-label=\"Hour of Day: 23; Number of Trips: 5551989; DOW: Sun\" role=\"graphics-symbol\" aria-roledescription=\"point\" transform=\"translate(766.6666666666667,171.87717692307692)\" d=\"M2.7386127875258306,0A2.7386127875258306,2.7386127875258306,0,1,1,-2.7386127875258306,0A2.7386127875258306,2.7386127875258306,0,1,1,2.7386127875258306,0\" fill=\"#b279a2\" stroke-width=\"2\" opacity=\"1\"/><path aria-label=\"Hour of Day: 22; Number of Trips: 6888044; DOW: Sun\" role=\"graphics-symbol\" aria-roledescription=\"point\" transform=\"translate(733.3333333333333,141.04513846153844)\" d=\"M2.7386127875258306,0A2.7386127875258306,2.7386127875258306,0,1,1,-2.7386127875258306,0A2.7386127875258306,2.7386127875258306,0,1,1,2.7386127875258306,0\" fill=\"#b279a2\" stroke-width=\"2\" opacity=\"1\"/><path aria-label=\"Hour of Day: 21; Number of Trips: 7541907; DOW: Sun\" role=\"graphics-symbol\" aria-roledescription=\"point\" transform=\"translate(700,125.9559923076923)\" d=\"M2.7386127875258306,0A2.7386127875258306,2.7386127875258306,0,1,1,-2.7386127875258306,0A2.7386127875258306,2.7386127875258306,0,1,1,2.7386127875258306,0\" fill=\"#b279a2\" stroke-width=\"2\" opacity=\"1\"/><path aria-label=\"Hour of Day: 20; Number of Trips: 7921584; DOW: Sun\" role=\"graphics-symbol\" aria-roledescription=\"point\" transform=\"translate(666.6666666666667,117.19421538461539)\" d=\"M2.7386127875258306,0A2.7386127875258306,2.7386127875258306,0,1,1,-2.7386127875258306,0A2.7386127875258306,2.7386127875258306,0,1,1,2.7386127875258306,0\" fill=\"#b279a2\" stroke-width=\"2\" opacity=\"1\"/><path aria-label=\"Hour of Day: 19; Number of Trips: 8717993; DOW: Sun\" role=\"graphics-symbol\" aria-roledescription=\"point\" transform=\"translate(633.3333333333333,98.81554615384616)\" d=\"M2.7386127875258306,0A2.7386127875258306,2.7386127875258306,0,1,1,-2.7386127875258306,0A2.7386127875258306,2.7386127875258306,0,1,1,2.7386127875258306,0\" fill=\"#b279a2\" stroke-width=\"2\" opacity=\"1\"/><path aria-label=\"Hour of Day: 18; Number of Trips: 9386752; DOW: Sun\" role=\"graphics-symbol\" aria-roledescription=\"point\" transform=\"translate(600,83.38264615384615)\" d=\"M2.7386127875258306,0A2.7386127875258306,2.7386127875258306,0,1,1,-2.7386127875258306,0A2.7386127875258306,2.7386127875258306,0,1,1,2.7386127875258306,0\" fill=\"#b279a2\" stroke-width=\"2\" opacity=\"1\"/><path aria-label=\"Hour of Day: 17; Number of Trips: 8900858; DOW: Sun\" role=\"graphics-symbol\" aria-roledescription=\"point\" transform=\"translate(566.6666666666667,94.59558461538461)\" d=\"M2.7386127875258306,0A2.7386127875258306,2.7386127875258306,0,1,1,-2.7386127875258306,0A2.7386127875258306,2.7386127875258306,0,1,1,2.7386127875258306,0\" fill=\"#b279a2\" stroke-width=\"2\" opacity=\"1\"/><path aria-label=\"Hour of Day: 16; Number of Trips: 8390000; DOW: Sun\" role=\"graphics-symbol\" aria-roledescription=\"point\" transform=\"translate(533.3333333333333,106.3846153846154)\" d=\"M2.7386127875258306,0A2.7386127875258306,2.7386127875258306,0,1,1,-2.7386127875258306,0A2.7386127875258306,2.7386127875258306,0,1,1,2.7386127875258306,0\" fill=\"#b279a2\" stroke-width=\"2\" opacity=\"1\"/><path aria-label=\"Hour of Day: 15; Number of Trips: 8881265; DOW: Sun\" role=\"graphics-symbol\" aria-roledescription=\"point\" transform=\"translate(500,95.04773076923077)\" d=\"M2.7386127875258306,0A2.7386127875258306,2.7386127875258306,0,1,1,-2.7386127875258306,0A2.7386127875258306,2.7386127875258306,0,1,1,2.7386127875258306,0\" fill=\"#b279a2\" stroke-width=\"2\" opacity=\"1\"/><path aria-label=\"Hour of Day: 13; Number of Trips: 9275283; DOW: Sun\" role=\"graphics-symbol\" aria-roledescription=\"point\" transform=\"translate(433.3333333333333,85.95500769230769)\" d=\"M2.7386127875258306,0A2.7386127875258306,2.7386127875258306,0,1,1,-2.7386127875258306,0A2.7386127875258306,2.7386127875258306,0,1,1,2.7386127875258306,0\" fill=\"#b279a2\" stroke-width=\"2\" opacity=\"1\"/><path aria-label=\"Hour of Day: 11; Number of Trips: 8466706; DOW: Sun\" role=\"graphics-symbol\" aria-roledescription=\"point\" transform=\"translate(366.66666666666663,104.61447692307692)\" d=\"M2.7386127875258306,0A2.7386127875258306,2.7386127875258306,0,1,1,-2.7386127875258306,0A2.7386127875258306,2.7386127875258306,0,1,1,2.7386127875258306,0\" fill=\"#b279a2\" stroke-width=\"2\" opacity=\"1\"/><path aria-label=\"Hour of Day: 12; Number of Trips: 9208783; DOW: Sun\" role=\"graphics-symbol\" aria-roledescription=\"point\" transform=\"translate(400,87.48962307692307)\" d=\"M2.7386127875258306,0A2.7386127875258306,2.7386127875258306,0,1,1,-2.7386127875258306,0A2.7386127875258306,2.7386127875258306,0,1,1,2.7386127875258306,0\" fill=\"#b279a2\" stroke-width=\"2\" opacity=\"1\"/><path aria-label=\"Hour of Day: 10; Number of Trips: 7290148; DOW: Sun\" role=\"graphics-symbol\" aria-roledescription=\"point\" transform=\"translate(333.33333333333337,131.76581538461537)\" d=\"M2.7386127875258306,0A2.7386127875258306,2.7386127875258306,0,1,1,-2.7386127875258306,0A2.7386127875258306,2.7386127875258306,0,1,1,2.7386127875258306,0\" fill=\"#b279a2\" stroke-width=\"2\" opacity=\"1\"/><path aria-label=\"Hour of Day: 9; Number of Trips: 5334833; DOW: Sun\" role=\"graphics-symbol\" aria-roledescription=\"point\" transform=\"translate(300,176.88846923076923)\" d=\"M2.7386127875258306,0A2.7386127875258306,2.7386127875258306,0,1,1,-2.7386127875258306,0A2.7386127875258306,2.7386127875258306,0,1,1,2.7386127875258306,0\" fill=\"#b279a2\" stroke-width=\"2\" opacity=\"1\"/><path aria-label=\"Hour of Day: 8; Number of Trips: 3592624; DOW: Sun\" role=\"graphics-symbol\" aria-roledescription=\"point\" transform=\"translate(266.66666666666663,217.0932923076923)\" d=\"M2.7386127875258306,0A2.7386127875258306,2.7386127875258306,0,1,1,-2.7386127875258306,0A2.7386127875258306,2.7386127875258306,0,1,1,2.7386127875258306,0\" fill=\"#b279a2\" stroke-width=\"2\" opacity=\"1\"/><path aria-label=\"Hour of Day: 7; Number of Trips: 2412709; DOW: Sun\" role=\"graphics-symbol\" aria-roledescription=\"point\" transform=\"translate(233.33333333333334,244.3221)\" d=\"M2.7386127875258306,0A2.7386127875258306,2.7386127875258306,0,1,1,-2.7386127875258306,0A2.7386127875258306,2.7386127875258306,0,1,1,2.7386127875258306,0\" fill=\"#b279a2\" stroke-width=\"2\" opacity=\"1\"/><path aria-label=\"Hour of Day: 6; Number of Trips: 1820636; DOW: Sun\" role=\"graphics-symbol\" aria-roledescription=\"point\" transform=\"translate(200,257.98532307692307)\" d=\"M2.7386127875258306,0A2.7386127875258306,2.7386127875258306,0,1,1,-2.7386127875258306,0A2.7386127875258306,2.7386127875258306,0,1,1,2.7386127875258306,0\" fill=\"#b279a2\" stroke-width=\"2\" opacity=\"1\"/><path aria-label=\"Hour of Day: 5; Number of Trips: 1813963; DOW: Sun\" role=\"graphics-symbol\" aria-roledescription=\"point\" transform=\"translate(166.66666666666669,258.1393153846154)\" d=\"M2.7386127875258306,0A2.7386127875258306,2.7386127875258306,0,1,1,-2.7386127875258306,0A2.7386127875258306,2.7386127875258306,0,1,1,2.7386127875258306,0\" fill=\"#b279a2\" stroke-width=\"2\" opacity=\"1\"/><path aria-label=\"Hour of Day: 4; Number of Trips: 3897294; DOW: Sun\" role=\"graphics-symbol\" aria-roledescription=\"point\" transform=\"translate(133.33333333333331,210.06244615384617)\" d=\"M2.7386127875258306,0A2.7386127875258306,2.7386127875258306,0,1,1,-2.7386127875258306,0A2.7386127875258306,2.7386127875258306,0,1,1,2.7386127875258306,0\" fill=\"#b279a2\" stroke-width=\"2\" opacity=\"1\"/><path aria-label=\"Hour of Day: 3; Number of Trips: 6099577; DOW: Sun\" role=\"graphics-symbol\" aria-roledescription=\"point\" transform=\"translate(100,159.24053076923076)\" d=\"M2.7386127875258306,0A2.7386127875258306,2.7386127875258306,0,1,1,-2.7386127875258306,0A2.7386127875258306,2.7386127875258306,0,1,1,2.7386127875258306,0\" fill=\"#b279a2\" stroke-width=\"2\" opacity=\"1\"/><path aria-label=\"Hour of Day: 2; Number of Trips: 7726327; DOW: Sun\" role=\"graphics-symbol\" aria-roledescription=\"point\" transform=\"translate(66.66666666666666,121.70014615384615)\" d=\"M2.7386127875258306,0A2.7386127875258306,2.7386127875258306,0,1,1,-2.7386127875258306,0A2.7386127875258306,2.7386127875258306,0,1,1,2.7386127875258306,0\" fill=\"#b279a2\" stroke-width=\"2\" opacity=\"1\"/><path aria-label=\"Hour of Day: 1; Number of Trips: 9538074; DOW: Sun\" role=\"graphics-symbol\" aria-roledescription=\"point\" transform=\"translate(33.33333333333333,79.8906)\" d=\"M2.7386127875258306,0A2.7386127875258306,2.7386127875258306,0,1,1,-2.7386127875258306,0A2.7386127875258306,2.7386127875258306,0,1,1,2.7386127875258306,0\" fill=\"#b279a2\" stroke-width=\"2\" opacity=\"1\"/><path aria-label=\"Hour of Day: 23; Number of Trips: 10138032; DOW: Thu\" role=\"graphics-symbol\" aria-roledescription=\"point\" transform=\"translate(766.6666666666667,66.0454153846154)\" d=\"M2.7386127875258306,0A2.7386127875258306,2.7386127875258306,0,1,1,-2.7386127875258306,0A2.7386127875258306,2.7386127875258306,0,1,1,2.7386127875258306,0\" fill=\"#72b7b2\" stroke-width=\"2\" opacity=\"1\"/><path aria-label=\"Hour of Day: 8; Number of Trips: 10412499; DOW: Thu\" role=\"graphics-symbol\" aria-roledescription=\"point\" transform=\"translate(266.66666666666663,59.71156153846155)\" d=\"M2.7386127875258306,0A2.7386127875258306,2.7386127875258306,0,1,1,-2.7386127875258306,0A2.7386127875258306,2.7386127875258306,0,1,1,2.7386127875258306,0\" fill=\"#72b7b2\" stroke-width=\"2\" opacity=\"1\"/><path aria-label=\"Hour of Day: 1; Number of Trips: 3470407; DOW: Thu\" role=\"graphics-symbol\" aria-roledescription=\"point\" transform=\"translate(33.33333333333333,219.91368461538462)\" d=\"M2.7386127875258306,0A2.7386127875258306,2.7386127875258306,0,1,1,-2.7386127875258306,0A2.7386127875258306,2.7386127875258306,0,1,1,2.7386127875258306,0\" fill=\"#72b7b2\" stroke-width=\"2\" opacity=\"1\"/><path aria-label=\"Hour of Day: 0; Number of Trips: 5795727; DOW: Thu\" role=\"graphics-symbol\" aria-roledescription=\"point\" transform=\"translate(0,166.25245384615386)\" d=\"M2.7386127875258306,0A2.7386127875258306,2.7386127875258306,0,1,1,-2.7386127875258306,0A2.7386127875258306,2.7386127875258306,0,1,1,2.7386127875258306,0\" fill=\"#72b7b2\" stroke-width=\"2\" opacity=\"1\"/><path aria-label=\"Hour of Day: 21; Number of Trips: 12054581; DOW: Thu\" role=\"graphics-symbol\" aria-roledescription=\"point\" transform=\"translate(700,21.817361538461544)\" d=\"M2.7386127875258306,0A2.7386127875258306,2.7386127875258306,0,1,1,-2.7386127875258306,0A2.7386127875258306,2.7386127875258306,0,1,1,2.7386127875258306,0\" fill=\"#72b7b2\" stroke-width=\"2\" opacity=\"1\"/><path aria-label=\"Hour of Day: 20; Number of Trips: 12006813; DOW: Thu\" role=\"graphics-symbol\" aria-roledescription=\"point\" transform=\"translate(666.6666666666667,22.9197)\" d=\"M2.7386127875258306,0A2.7386127875258306,2.7386127875258306,0,1,1,-2.7386127875258306,0A2.7386127875258306,2.7386127875258306,0,1,1,2.7386127875258306,0\" fill=\"#72b7b2\" stroke-width=\"2\" opacity=\"1\"/><path aria-label=\"Hour of Day: 19; Number of Trips: 12370645; DOW: Thu\" role=\"graphics-symbol\" aria-roledescription=\"point\" transform=\"translate(633.3333333333333,14.52357692307693)\" d=\"M2.7386127875258306,0A2.7386127875258306,2.7386127875258306,0,1,1,-2.7386127875258306,0A2.7386127875258306,2.7386127875258306,0,1,1,2.7386127875258306,0\" fill=\"#72b7b2\" stroke-width=\"2\" opacity=\"1\"/><path aria-label=\"Hour of Day: 18; Number of Trips: 11836418; DOW: Thu\" role=\"graphics-symbol\" aria-roledescription=\"point\" transform=\"translate(600,26.851892307692317)\" d=\"M2.7386127875258306,0A2.7386127875258306,2.7386127875258306,0,1,1,-2.7386127875258306,0A2.7386127875258306,2.7386127875258306,0,1,1,2.7386127875258306,0\" fill=\"#72b7b2\" stroke-width=\"2\" opacity=\"1\"/><path aria-label=\"Hour of Day: 17; Number of Trips: 9636414; DOW: Thu\" role=\"graphics-symbol\" aria-roledescription=\"point\" transform=\"translate(566.6666666666667,77.6212153846154)\" d=\"M2.7386127875258306,0A2.7386127875258306,2.7386127875258306,0,1,1,-2.7386127875258306,0A2.7386127875258306,2.7386127875258306,0,1,1,2.7386127875258306,0\" fill=\"#72b7b2\" stroke-width=\"2\" opacity=\"1\"/><path aria-label=\"Hour of Day: 16; Number of Trips: 7856361; DOW: Thu\" role=\"graphics-symbol\" aria-roledescription=\"point\" transform=\"translate(533.3333333333333,118.69936153846155)\" d=\"M2.7386127875258306,0A2.7386127875258306,2.7386127875258306,0,1,1,-2.7386127875258306,0A2.7386127875258306,2.7386127875258306,0,1,1,2.7386127875258306,0\" fill=\"#72b7b2\" stroke-width=\"2\" opacity=\"1\"/><path aria-label=\"Hour of Day: 15; Number of Trips: 9324076; DOW: Thu\" role=\"graphics-symbol\" aria-roledescription=\"point\" transform=\"translate(500,84.82901538461539)\" d=\"M2.7386127875258306,0A2.7386127875258306,2.7386127875258306,0,1,1,-2.7386127875258306,0A2.7386127875258306,2.7386127875258306,0,1,1,2.7386127875258306,0\" fill=\"#72b7b2\" stroke-width=\"2\" opacity=\"1\"/><path aria-label=\"Hour of Day: 14; Number of Trips: 9904388; DOW: Thu\" role=\"graphics-symbol\" aria-roledescription=\"point\" transform=\"translate(466.6666666666667,71.4372)\" d=\"M2.7386127875258306,0A2.7386127875258306,2.7386127875258306,0,1,1,-2.7386127875258306,0A2.7386127875258306,2.7386127875258306,0,1,1,2.7386127875258306,0\" fill=\"#72b7b2\" stroke-width=\"2\" opacity=\"1\"/><path aria-label=\"Hour of Day: 13; Number of Trips: 9392114; DOW: Thu\" role=\"graphics-symbol\" aria-roledescription=\"point\" transform=\"translate(433.3333333333333,83.25890769230769)\" d=\"M2.7386127875258306,0A2.7386127875258306,2.7386127875258306,0,1,1,-2.7386127875258306,0A2.7386127875258306,2.7386127875258306,0,1,1,2.7386127875258306,0\" fill=\"#72b7b2\" stroke-width=\"2\" opacity=\"1\"/><path aria-label=\"Hour of Day: 12; Number of Trips: 9488279; DOW: Thu\" role=\"graphics-symbol\" aria-roledescription=\"point\" transform=\"translate(400,81.03971538461538)\" d=\"M2.7386127875258306,0A2.7386127875258306,2.7386127875258306,0,1,1,-2.7386127875258306,0A2.7386127875258306,2.7386127875258306,0,1,1,2.7386127875258306,0\" fill=\"#72b7b2\" stroke-width=\"2\" opacity=\"1\"/><path aria-label=\"Hour of Day: 11; Number of Trips: 9083255; DOW: Thu\" role=\"graphics-symbol\" aria-roledescription=\"point\" transform=\"translate(366.66666666666663,90.38642307692307)\" d=\"M2.7386127875258306,0A2.7386127875258306,2.7386127875258306,0,1,1,-2.7386127875258306,0A2.7386127875258306,2.7386127875258306,0,1,1,2.7386127875258306,0\" fill=\"#72b7b2\" stroke-width=\"2\" opacity=\"1\"/><path aria-label=\"Hour of Day: 10; Number of Trips: 9086695; DOW: Thu\" role=\"graphics-symbol\" aria-roledescription=\"point\" transform=\"translate(333.33333333333337,90.30703846153844)\" d=\"M2.7386127875258306,0A2.7386127875258306,2.7386127875258306,0,1,1,-2.7386127875258306,0A2.7386127875258306,2.7386127875258306,0,1,1,2.7386127875258306,0\" fill=\"#72b7b2\" stroke-width=\"2\" opacity=\"1\"/><path aria-label=\"Hour of Day: 9; Number of Trips: 9943405; DOW: Thu\" role=\"graphics-symbol\" aria-roledescription=\"point\" transform=\"translate(300,70.5368076923077)\" d=\"M2.7386127875258306,0A2.7386127875258306,2.7386127875258306,0,1,1,-2.7386127875258306,0A2.7386127875258306,2.7386127875258306,0,1,1,2.7386127875258306,0\" fill=\"#72b7b2\" stroke-width=\"2\" opacity=\"1\"/><path aria-label=\"Hour of Day: 22; Number of Trips: 11538512; DOW: Thu\" role=\"graphics-symbol\" aria-roledescription=\"point\" transform=\"translate(733.3333333333333,33.726646153846154)\" d=\"M2.7386127875258306,0A2.7386127875258306,2.7386127875258306,0,1,1,-2.7386127875258306,0A2.7386127875258306,2.7386127875258306,0,1,1,2.7386127875258306,0\" fill=\"#72b7b2\" stroke-width=\"2\" opacity=\"1\"/><path aria-label=\"Hour of Day: 3; Number of Trips: 1432794; DOW: Thu\" role=\"graphics-symbol\" aria-roledescription=\"point\" transform=\"translate(100,266.93552307692306)\" d=\"M2.7386127875258306,0A2.7386127875258306,2.7386127875258306,0,1,1,-2.7386127875258306,0A2.7386127875258306,2.7386127875258306,0,1,1,2.7386127875258306,0\" fill=\"#72b7b2\" stroke-width=\"2\" opacity=\"1\"/><path aria-label=\"Hour of Day: 4; Number of Trips: 1273200; DOW: Thu\" role=\"graphics-symbol\" aria-roledescription=\"point\" transform=\"translate(133.33333333333331,270.61846153846153)\" d=\"M2.7386127875258306,0A2.7386127875258306,2.7386127875258306,0,1,1,-2.7386127875258306,0A2.7386127875258306,2.7386127875258306,0,1,1,2.7386127875258306,0\" fill=\"#72b7b2\" stroke-width=\"2\" opacity=\"1\"/><path aria-label=\"Hour of Day: 5; Number of Trips: 1832472; DOW: Thu\" role=\"graphics-symbol\" aria-roledescription=\"point\" transform=\"translate(166.66666666666669,257.7121846153846)\" d=\"M2.7386127875258306,0A2.7386127875258306,2.7386127875258306,0,1,1,-2.7386127875258306,0A2.7386127875258306,2.7386127875258306,0,1,1,2.7386127875258306,0\" fill=\"#72b7b2\" stroke-width=\"2\" opacity=\"1\"/><path aria-label=\"Hour of Day: 6; Number of Trips: 4860323; DOW: Thu\" role=\"graphics-symbol\" aria-roledescription=\"point\" transform=\"translate(200,187.8387)\" d=\"M2.7386127875258306,0A2.7386127875258306,2.7386127875258306,0,1,1,-2.7386127875258306,0A2.7386127875258306,2.7386127875258306,0,1,1,2.7386127875258306,0\" fill=\"#72b7b2\" stroke-width=\"2\" opacity=\"1\"/><path aria-label=\"Hour of Day: 7; Number of Trips: 8728340; DOW: Thu\" role=\"graphics-symbol\" aria-roledescription=\"point\" transform=\"translate(233.33333333333334,98.57676923076923)\" d=\"M2.7386127875258306,0A2.7386127875258306,2.7386127875258306,0,1,1,-2.7386127875258306,0A2.7386127875258306,2.7386127875258306,0,1,1,2.7386127875258306,0\" fill=\"#72b7b2\" stroke-width=\"2\" opacity=\"1\"/><path aria-label=\"Hour of Day: 2; Number of Trips: 2183454; DOW: Thu\" role=\"graphics-symbol\" aria-roledescription=\"point\" transform=\"translate(66.66666666666666,249.6126)\" d=\"M2.7386127875258306,0A2.7386127875258306,2.7386127875258306,0,1,1,-2.7386127875258306,0A2.7386127875258306,2.7386127875258306,0,1,1,2.7386127875258306,0\" fill=\"#72b7b2\" stroke-width=\"2\" opacity=\"1\"/><path aria-label=\"Hour of Day: 22; Number of Trips: 10131714; DOW: Tue\" role=\"graphics-symbol\" aria-roledescription=\"point\" transform=\"translate(733.3333333333333,66.19121538461539)\" d=\"M2.7386127875258306,0A2.7386127875258306,2.7386127875258306,0,1,1,-2.7386127875258306,0A2.7386127875258306,2.7386127875258306,0,1,1,2.7386127875258306,0\" fill=\"#f58518\" stroke-width=\"2\" opacity=\"1\"/><path aria-label=\"Hour of Day: 4; Number of Trips: 982845; DOW: Tue\" role=\"graphics-symbol\" aria-roledescription=\"point\" transform=\"translate(133.33333333333331,277.31896153846156)\" d=\"M2.7386127875258306,0A2.7386127875258306,2.7386127875258306,0,1,1,-2.7386127875258306,0A2.7386127875258306,2.7386127875258306,0,1,1,2.7386127875258306,0\" fill=\"#f58518\" stroke-width=\"2\" opacity=\"1\"/><path aria-label=\"Hour of Day: 6; Number of Trips: 4779347; DOW: Tue\" role=\"graphics-symbol\" aria-roledescription=\"point\" transform=\"translate(200,189.7073769230769)\" d=\"M2.7386127875258306,0A2.7386127875258306,2.7386127875258306,0,1,1,-2.7386127875258306,0A2.7386127875258306,2.7386127875258306,0,1,1,2.7386127875258306,0\" fill=\"#f58518\" stroke-width=\"2\" opacity=\"1\"/><path aria-label=\"Hour of Day: 7; Number of Trips: 8537980; DOW: Tue\" role=\"graphics-symbol\" aria-roledescription=\"point\" transform=\"translate(233.33333333333334,102.96969230769231)\" d=\"M2.7386127875258306,0A2.7386127875258306,2.7386127875258306,0,1,1,-2.7386127875258306,0A2.7386127875258306,2.7386127875258306,0,1,1,2.7386127875258306,0\" fill=\"#f58518\" stroke-width=\"2\" opacity=\"1\"/><path aria-label=\"Hour of Day: 8; Number of Trips: 10278478; DOW: Tue\" role=\"graphics-symbol\" aria-roledescription=\"point\" transform=\"translate(266.66666666666663,62.80435384615385)\" d=\"M2.7386127875258306,0A2.7386127875258306,2.7386127875258306,0,1,1,-2.7386127875258306,0A2.7386127875258306,2.7386127875258306,0,1,1,2.7386127875258306,0\" fill=\"#f58518\" stroke-width=\"2\" opacity=\"1\"/><path aria-label=\"Hour of Day: 2; Number of Trips: 1480476; DOW: Tue\" role=\"graphics-symbol\" aria-roledescription=\"point\" transform=\"translate(66.66666666666666,265.8351692307692)\" d=\"M2.7386127875258306,0A2.7386127875258306,2.7386127875258306,0,1,1,-2.7386127875258306,0A2.7386127875258306,2.7386127875258306,0,1,1,2.7386127875258306,0\" fill=\"#f58518\" stroke-width=\"2\" opacity=\"1\"/><path aria-label=\"Hour of Day: 1; Number of Trips: 2388637; DOW: Tue\" role=\"graphics-symbol\" aria-roledescription=\"point\" transform=\"translate(33.33333333333333,244.8776076923077)\" d=\"M2.7386127875258306,0A2.7386127875258306,2.7386127875258306,0,1,1,-2.7386127875258306,0A2.7386127875258306,2.7386127875258306,0,1,1,2.7386127875258306,0\" fill=\"#f58518\" stroke-width=\"2\" opacity=\"1\"/><path aria-label=\"Hour of Day: 0; Number of Trips: 4074129; DOW: Tue\" role=\"graphics-symbol\" aria-roledescription=\"point\" transform=\"translate(0,205.98163846153847)\" d=\"M2.7386127875258306,0A2.7386127875258306,2.7386127875258306,0,1,1,-2.7386127875258306,0A2.7386127875258306,2.7386127875258306,0,1,1,2.7386127875258306,0\" fill=\"#f58518\" stroke-width=\"2\" opacity=\"1\"/><path aria-label=\"Hour of Day: 9; Number of Trips: 9801557; DOW: Tue\" role=\"graphics-symbol\" aria-roledescription=\"point\" transform=\"translate(300,73.81022307692307)\" d=\"M2.7386127875258306,0A2.7386127875258306,2.7386127875258306,0,1,1,-2.7386127875258306,0A2.7386127875258306,2.7386127875258306,0,1,1,2.7386127875258306,0\" fill=\"#f58518\" stroke-width=\"2\" opacity=\"1\"/><path aria-label=\"Hour of Day: 10; Number of Trips: 8841992; DOW: Tue\" role=\"graphics-symbol\" aria-roledescription=\"point\" transform=\"translate(333.33333333333337,95.95403076923078)\" d=\"M2.7386127875258306,0A2.7386127875258306,2.7386127875258306,0,1,1,-2.7386127875258306,0A2.7386127875258306,2.7386127875258306,0,1,1,2.7386127875258306,0\" fill=\"#f58518\" stroke-width=\"2\" opacity=\"1\"/><path aria-label=\"Hour of Day: 11; Number of Trips: 8775037; DOW: Tue\" role=\"graphics-symbol\" aria-roledescription=\"point\" transform=\"translate(366.66666666666663,97.49914615384614)\" d=\"M2.7386127875258306,0A2.7386127875258306,2.7386127875258306,0,1,1,-2.7386127875258306,0A2.7386127875258306,2.7386127875258306,0,1,1,2.7386127875258306,0\" fill=\"#f58518\" stroke-width=\"2\" opacity=\"1\"/><path aria-label=\"Hour of Day: 12; Number of Trips: 9169626; DOW: Tue\" role=\"graphics-symbol\" aria-roledescription=\"point\" transform=\"translate(400,88.39324615384615)\" d=\"M2.7386127875258306,0A2.7386127875258306,2.7386127875258306,0,1,1,-2.7386127875258306,0A2.7386127875258306,2.7386127875258306,0,1,1,2.7386127875258306,0\" fill=\"#f58518\" stroke-width=\"2\" opacity=\"1\"/><path aria-label=\"Hour of Day: 13; Number of Trips: 9102633; DOW: Tue\" role=\"graphics-symbol\" aria-roledescription=\"point\" transform=\"translate(433.3333333333333,89.93923846153847)\" d=\"M2.7386127875258306,0A2.7386127875258306,2.7386127875258306,0,1,1,-2.7386127875258306,0A2.7386127875258306,2.7386127875258306,0,1,1,2.7386127875258306,0\" fill=\"#f58518\" stroke-width=\"2\" opacity=\"1\"/><path aria-label=\"Hour of Day: 14; Number of Trips: 9694200; DOW: Tue\" role=\"graphics-symbol\" aria-roledescription=\"point\" transform=\"translate(466.6666666666667,76.28769230769231)\" d=\"M2.7386127875258306,0A2.7386127875258306,2.7386127875258306,0,1,1,-2.7386127875258306,0A2.7386127875258306,2.7386127875258306,0,1,1,2.7386127875258306,0\" fill=\"#f58518\" stroke-width=\"2\" opacity=\"1\"/><path aria-label=\"Hour of Day: 3; Number of Trips: 983345; DOW: Tue\" role=\"graphics-symbol\" aria-roledescription=\"point\" transform=\"translate(100,277.3074230769231)\" d=\"M2.7386127875258306,0A2.7386127875258306,2.7386127875258306,0,1,1,-2.7386127875258306,0A2.7386127875258306,2.7386127875258306,0,1,1,2.7386127875258306,0\" fill=\"#f58518\" stroke-width=\"2\" opacity=\"1\"/><path aria-label=\"Hour of Day: 5; Number of Trips: 1730510; DOW: Tue\" role=\"graphics-symbol\" aria-roledescription=\"point\" transform=\"translate(166.66666666666669,260.06515384615386)\" d=\"M2.7386127875258306,0A2.7386127875258306,2.7386127875258306,0,1,1,-2.7386127875258306,0A2.7386127875258306,2.7386127875258306,0,1,1,2.7386127875258306,0\" fill=\"#f58518\" stroke-width=\"2\" opacity=\"1\"/><path aria-label=\"Hour of Day: 15; Number of Trips: 9332305; DOW: Tue\" role=\"graphics-symbol\" aria-roledescription=\"point\" transform=\"translate(500,84.6391153846154)\" d=\"M2.7386127875258306,0A2.7386127875258306,2.7386127875258306,0,1,1,-2.7386127875258306,0A2.7386127875258306,2.7386127875258306,0,1,1,2.7386127875258306,0\" fill=\"#f58518\" stroke-width=\"2\" opacity=\"1\"/><path aria-label=\"Hour of Day: 16; Number of Trips: 8024280; DOW: Tue\" role=\"graphics-symbol\" aria-roledescription=\"point\" transform=\"translate(533.3333333333333,114.8243076923077)\" d=\"M2.7386127875258306,0A2.7386127875258306,2.7386127875258306,0,1,1,-2.7386127875258306,0A2.7386127875258306,2.7386127875258306,0,1,1,2.7386127875258306,0\" fill=\"#f58518\" stroke-width=\"2\" opacity=\"1\"/><path aria-label=\"Hour of Day: 17; Number of Trips: 9771739; DOW: Tue\" role=\"graphics-symbol\" aria-roledescription=\"point\" transform=\"translate(566.6666666666667,74.49833076923078)\" d=\"M2.7386127875258306,0A2.7386127875258306,2.7386127875258306,0,1,1,-2.7386127875258306,0A2.7386127875258306,2.7386127875258306,0,1,1,2.7386127875258306,0\" fill=\"#f58518\" stroke-width=\"2\" opacity=\"1\"/><path aria-label=\"Hour of Day: 18; Number of Trips: 11881641; DOW: Tue\" role=\"graphics-symbol\" aria-roledescription=\"point\" transform=\"translate(600,25.8082846153846)\" d=\"M2.7386127875258306,0A2.7386127875258306,2.7386127875258306,0,1,1,-2.7386127875258306,0A2.7386127875258306,2.7386127875258306,0,1,1,2.7386127875258306,0\" fill=\"#f58518\" stroke-width=\"2\" opacity=\"1\"/><path aria-label=\"Hour of Day: 19; Number of Trips: 11906309; DOW: Tue\" role=\"graphics-symbol\" aria-roledescription=\"point\" transform=\"translate(633.3333333333333,25.239023076923083)\" d=\"M2.7386127875258306,0A2.7386127875258306,2.7386127875258306,0,1,1,-2.7386127875258306,0A2.7386127875258306,2.7386127875258306,0,1,1,2.7386127875258306,0\" fill=\"#f58518\" stroke-width=\"2\" opacity=\"1\"/><path aria-label=\"Hour of Day: 20; Number of Trips: 11327319; DOW: Tue\" role=\"graphics-symbol\" aria-roledescription=\"point\" transform=\"translate(666.6666666666667,38.60033076923079)\" d=\"M2.7386127875258306,0A2.7386127875258306,2.7386127875258306,0,1,1,-2.7386127875258306,0A2.7386127875258306,2.7386127875258306,0,1,1,2.7386127875258306,0\" fill=\"#f58518\" stroke-width=\"2\" opacity=\"1\"/><path aria-label=\"Hour of Day: 21; Number of Trips: 11229441; DOW: Tue\" role=\"graphics-symbol\" aria-roledescription=\"point\" transform=\"translate(700,40.859053846153856)\" d=\"M2.7386127875258306,0A2.7386127875258306,2.7386127875258306,0,1,1,-2.7386127875258306,0A2.7386127875258306,2.7386127875258306,0,1,1,2.7386127875258306,0\" fill=\"#f58518\" stroke-width=\"2\" opacity=\"1\"/><path aria-label=\"Hour of Day: 23; Number of Trips: 7711251; DOW: Tue\" role=\"graphics-symbol\" aria-roledescription=\"point\" transform=\"translate(766.6666666666667,122.04805384615383)\" d=\"M2.7386127875258306,0A2.7386127875258306,2.7386127875258306,0,1,1,-2.7386127875258306,0A2.7386127875258306,2.7386127875258306,0,1,1,2.7386127875258306,0\" fill=\"#f58518\" stroke-width=\"2\" opacity=\"1\"/><path aria-label=\"Hour of Day: 8; Number of Trips: 10485313; DOW: Wed\" role=\"graphics-symbol\" aria-roledescription=\"point\" transform=\"translate(266.66666666666663,58.03123846153846)\" d=\"M2.7386127875258306,0A2.7386127875258306,2.7386127875258306,0,1,1,-2.7386127875258306,0A2.7386127875258306,2.7386127875258306,0,1,1,2.7386127875258306,0\" fill=\"#e45756\" stroke-width=\"2\" opacity=\"1\"/><path aria-label=\"Hour of Day: 0; Number of Trips: 5019567; DOW: Wed\" role=\"graphics-symbol\" aria-roledescription=\"point\" transform=\"translate(0,184.16383846153846)\" d=\"M2.7386127875258306,0A2.7386127875258306,2.7386127875258306,0,1,1,-2.7386127875258306,0A2.7386127875258306,2.7386127875258306,0,1,1,2.7386127875258306,0\" fill=\"#e45756\" stroke-width=\"2\" opacity=\"1\"/><path aria-label=\"Hour of Day: 10; Number of Trips: 9058740; DOW: Wed\" role=\"graphics-symbol\" aria-roledescription=\"point\" transform=\"translate(333.33333333333337,90.95215384615383)\" d=\"M2.7386127875258306,0A2.7386127875258306,2.7386127875258306,0,1,1,-2.7386127875258306,0A2.7386127875258306,2.7386127875258306,0,1,1,2.7386127875258306,0\" fill=\"#e45756\" stroke-width=\"2\" opacity=\"1\"/><path aria-label=\"Hour of Day: 1; Number of Trips: 2955400; DOW: Wed\" role=\"graphics-symbol\" aria-roledescription=\"point\" transform=\"translate(33.33333333333333,231.79846153846157)\" d=\"M2.7386127875258306,0A2.7386127875258306,2.7386127875258306,0,1,1,-2.7386127875258306,0A2.7386127875258306,2.7386127875258306,0,1,1,2.7386127875258306,0\" fill=\"#e45756\" stroke-width=\"2\" opacity=\"1\"/><path aria-label=\"Hour of Day: 2; Number of Trips: 1844940; DOW: Wed\" role=\"graphics-symbol\" aria-roledescription=\"point\" transform=\"translate(66.66666666666666,257.4244615384615)\" d=\"M2.7386127875258306,0A2.7386127875258306,2.7386127875258306,0,1,1,-2.7386127875258306,0A2.7386127875258306,2.7386127875258306,0,1,1,2.7386127875258306,0\" fill=\"#e45756\" stroke-width=\"2\" opacity=\"1\"/><path aria-label=\"Hour of Day: 3; Number of Trips: 1225914; DOW: Wed\" role=\"graphics-symbol\" aria-roledescription=\"point\" transform=\"translate(100,271.7096769230769)\" d=\"M2.7386127875258306,0A2.7386127875258306,2.7386127875258306,0,1,1,-2.7386127875258306,0A2.7386127875258306,2.7386127875258306,0,1,1,2.7386127875258306,0\" fill=\"#e45756\" stroke-width=\"2\" opacity=\"1\"/><path aria-label=\"Hour of Day: 4; Number of Trips: 1132391; DOW: Wed\" role=\"graphics-symbol\" aria-roledescription=\"point\" transform=\"translate(133.33333333333331,273.86789999999996)\" d=\"M2.7386127875258306,0A2.7386127875258306,2.7386127875258306,0,1,1,-2.7386127875258306,0A2.7386127875258306,2.7386127875258306,0,1,1,2.7386127875258306,0\" fill=\"#e45756\" stroke-width=\"2\" opacity=\"1\"/><path aria-label=\"Hour of Day: 5; Number of Trips: 1765854; DOW: Wed\" role=\"graphics-symbol\" aria-roledescription=\"point\" transform=\"translate(166.66666666666669,259.2495230769231)\" d=\"M2.7386127875258306,0A2.7386127875258306,2.7386127875258306,0,1,1,-2.7386127875258306,0A2.7386127875258306,2.7386127875258306,0,1,1,2.7386127875258306,0\" fill=\"#e45756\" stroke-width=\"2\" opacity=\"1\"/><path aria-label=\"Hour of Day: 6; Number of Trips: 4829743; DOW: Wed\" role=\"graphics-symbol\" aria-roledescription=\"point\" transform=\"translate(200,188.5443923076923)\" d=\"M2.7386127875258306,0A2.7386127875258306,2.7386127875258306,0,1,1,-2.7386127875258306,0A2.7386127875258306,2.7386127875258306,0,1,1,2.7386127875258306,0\" fill=\"#e45756\" stroke-width=\"2\" opacity=\"1\"/><path aria-label=\"Hour of Day: 23; Number of Trips: 8684595; DOW: Wed\" role=\"graphics-symbol\" aria-roledescription=\"point\" transform=\"translate(766.6666666666667,99.58626923076925)\" d=\"M2.7386127875258306,0A2.7386127875258306,2.7386127875258306,0,1,1,-2.7386127875258306,0A2.7386127875258306,2.7386127875258306,0,1,1,2.7386127875258306,0\" fill=\"#e45756\" stroke-width=\"2\" opacity=\"1\"/><path aria-label=\"Hour of Day: 18; Number of Trips: 11858116; DOW: Wed\" role=\"graphics-symbol\" aria-roledescription=\"point\" transform=\"translate(600,26.351169230769234)\" d=\"M2.7386127875258306,0A2.7386127875258306,2.7386127875258306,0,1,1,-2.7386127875258306,0A2.7386127875258306,2.7386127875258306,0,1,1,2.7386127875258306,0\" fill=\"#e45756\" stroke-width=\"2\" opacity=\"1\"/><path aria-label=\"Hour of Day: 17; Number of Trips: 9723531; DOW: Wed\" role=\"graphics-symbol\" aria-roledescription=\"point\" transform=\"translate(566.6666666666667,75.61082307692308)\" d=\"M2.7386127875258306,0A2.7386127875258306,2.7386127875258306,0,1,1,-2.7386127875258306,0A2.7386127875258306,2.7386127875258306,0,1,1,2.7386127875258306,0\" fill=\"#e45756\" stroke-width=\"2\" opacity=\"1\"/><path aria-label=\"Hour of Day: 16; Number of Trips: 7941043; DOW: Wed\" role=\"graphics-symbol\" aria-roledescription=\"point\" transform=\"translate(533.3333333333333,116.74516153846155)\" d=\"M2.7386127875258306,0A2.7386127875258306,2.7386127875258306,0,1,1,-2.7386127875258306,0A2.7386127875258306,2.7386127875258306,0,1,1,2.7386127875258306,0\" fill=\"#e45756\" stroke-width=\"2\" opacity=\"1\"/><path aria-label=\"Hour of Day: 15; Number of Trips: 9309229; DOW: Wed\" role=\"graphics-symbol\" aria-roledescription=\"point\" transform=\"translate(500,85.17163846153846)\" d=\"M2.7386127875258306,0A2.7386127875258306,2.7386127875258306,0,1,1,-2.7386127875258306,0A2.7386127875258306,2.7386127875258306,0,1,1,2.7386127875258306,0\" fill=\"#e45756\" stroke-width=\"2\" opacity=\"1\"/><path aria-label=\"Hour of Day: 14; Number of Trips: 9765416; DOW: Wed\" role=\"graphics-symbol\" aria-roledescription=\"point\" transform=\"translate(466.6666666666667,74.64424615384614)\" d=\"M2.7386127875258306,0A2.7386127875258306,2.7386127875258306,0,1,1,-2.7386127875258306,0A2.7386127875258306,2.7386127875258306,0,1,1,2.7386127875258306,0\" fill=\"#e45756\" stroke-width=\"2\" opacity=\"1\"/><path aria-label=\"Hour of Day: 13; Number of Trips: 9358019; DOW: Wed\" role=\"graphics-symbol\" aria-roledescription=\"point\" transform=\"translate(433.3333333333333,84.04571538461538)\" d=\"M2.7386127875258306,0A2.7386127875258306,2.7386127875258306,0,1,1,-2.7386127875258306,0A2.7386127875258306,2.7386127875258306,0,1,1,2.7386127875258306,0\" fill=\"#e45756\" stroke-width=\"2\" opacity=\"1\"/><path aria-label=\"Hour of Day: 12; Number of Trips: 9474341; DOW: Wed\" role=\"graphics-symbol\" aria-roledescription=\"point\" transform=\"translate(400,81.36136153846154)\" d=\"M2.7386127875258306,0A2.7386127875258306,2.7386127875258306,0,1,1,-2.7386127875258306,0A2.7386127875258306,2.7386127875258306,0,1,1,2.7386127875258306,0\" fill=\"#e45756\" stroke-width=\"2\" opacity=\"1\"/><path aria-label=\"Hour of Day: 7; Number of Trips: 8735288; DOW: Wed\" role=\"graphics-symbol\" aria-roledescription=\"point\" transform=\"translate(233.33333333333334,98.41643076923077)\" d=\"M2.7386127875258306,0A2.7386127875258306,2.7386127875258306,0,1,1,-2.7386127875258306,0A2.7386127875258306,2.7386127875258306,0,1,1,2.7386127875258306,0\" fill=\"#e45756\" stroke-width=\"2\" opacity=\"1\"/><path aria-label=\"Hour of Day: 20; Number of Trips: 11702535; DOW: Wed\" role=\"graphics-symbol\" aria-roledescription=\"point\" transform=\"translate(666.6666666666667,29.94150000000001)\" d=\"M2.7386127875258306,0A2.7386127875258306,2.7386127875258306,0,1,1,-2.7386127875258306,0A2.7386127875258306,2.7386127875258306,0,1,1,2.7386127875258306,0\" fill=\"#e45756\" stroke-width=\"2\" opacity=\"1\"/><path aria-label=\"Hour of Day: 11; Number of Trips: 9084753; DOW: Wed\" role=\"graphics-symbol\" aria-roledescription=\"point\" transform=\"translate(366.66666666666663,90.35185384615386)\" d=\"M2.7386127875258306,0A2.7386127875258306,2.7386127875258306,0,1,1,-2.7386127875258306,0A2.7386127875258306,2.7386127875258306,0,1,1,2.7386127875258306,0\" fill=\"#e45756\" stroke-width=\"2\" opacity=\"1\"/><path aria-label=\"Hour of Day: 9; Number of Trips: 9993648; DOW: Wed\" role=\"graphics-symbol\" aria-roledescription=\"point\" transform=\"translate(300,69.37735384615384)\" d=\"M2.7386127875258306,0A2.7386127875258306,2.7386127875258306,0,1,1,-2.7386127875258306,0A2.7386127875258306,2.7386127875258306,0,1,1,2.7386127875258306,0\" fill=\"#e45756\" stroke-width=\"2\" opacity=\"1\"/><path aria-label=\"Hour of Day: 22; Number of Trips: 10881972; DOW: Wed\" role=\"graphics-symbol\" aria-roledescription=\"point\" transform=\"translate(733.3333333333333,48.87756923076925)\" d=\"M2.7386127875258306,0A2.7386127875258306,2.7386127875258306,0,1,1,-2.7386127875258306,0A2.7386127875258306,2.7386127875258306,0,1,1,2.7386127875258306,0\" fill=\"#e45756\" stroke-width=\"2\" opacity=\"1\"/><path aria-label=\"Hour of Day: 21; Number of Trips: 11672256; DOW: Wed\" role=\"graphics-symbol\" aria-roledescription=\"point\" transform=\"translate(700,30.640246153846164)\" d=\"M2.7386127875258306,0A2.7386127875258306,2.7386127875258306,0,1,1,-2.7386127875258306,0A2.7386127875258306,2.7386127875258306,0,1,1,2.7386127875258306,0\" fill=\"#e45756\" stroke-width=\"2\" opacity=\"1\"/><path aria-label=\"Hour of Day: 19; Number of Trips: 12250936; DOW: Wed\" role=\"graphics-symbol\" aria-roledescription=\"point\" transform=\"translate(633.3333333333333,17.286092307692293)\" d=\"M2.7386127875258306,0A2.7386127875258306,2.7386127875258306,0,1,1,-2.7386127875258306,0A2.7386127875258306,2.7386127875258306,0,1,1,2.7386127875258306,0\" fill=\"#e45756\" stroke-width=\"2\" opacity=\"1\"/></g><g class=\"mark-group role-legend\" role=\"graphics-symbol\" aria-roledescription=\"legend\" aria-label=\"Symbol legend titled 'DOW' for fill color and stroke color with 7 values: Mon, Tue, Wed, Thu, Fri, Sat, Sun\"><g transform=\"translate(818,0)\"><path class=\"background\" aria-hidden=\"true\" d=\"M0,0h36v125h-36Z\" pointer-events=\"none\"/><g><g class=\"mark-group role-legend-entry\"><g transform=\"translate(0,16)\"><path class=\"background\" aria-hidden=\"true\" d=\"M0,0h0v0h0Z\" pointer-events=\"none\"/><g><g class=\"mark-group role-scope\" role=\"graphics-object\" aria-roledescription=\"group mark container\"><g transform=\"translate(0,0)\"><path class=\"background\" aria-hidden=\"true\" d=\"M0,0h36v12.5h-36Z\" pointer-events=\"none\" opacity=\"1\"/><g><g class=\"mark-symbol role-legend-symbol\" pointer-events=\"none\"><path transform=\"translate(6,6)\" d=\"M5,0A5,5,0,1,1,-5,0A5,5,0,1,1,5,0\" fill=\"#4c78a8\" stroke=\"#4c78a8\" stroke-width=\"1.5\" opacity=\"1\"/></g><g class=\"mark-text role-legend-label\" pointer-events=\"none\"><text text-anchor=\"start\" transform=\"translate(16,9)\" font-family=\"sans-serif\" font-size=\"10px\" fill=\"#000\" opacity=\"1\">Mon</text></g></g><path class=\"foreground\" aria-hidden=\"true\" d=\"\" pointer-events=\"none\" display=\"none\"/></g><g transform=\"translate(0,16)\"><path class=\"background\" aria-hidden=\"true\" d=\"M0,0h36v12.5h-36Z\" pointer-events=\"none\" opacity=\"1\"/><g><g class=\"mark-symbol role-legend-symbol\" pointer-events=\"none\"><path transform=\"translate(6,6)\" d=\"M5,0A5,5,0,1,1,-5,0A5,5,0,1,1,5,0\" fill=\"#f58518\" stroke=\"#f58518\" stroke-width=\"1.5\" opacity=\"1\"/></g><g class=\"mark-text role-legend-label\" pointer-events=\"none\"><text text-anchor=\"start\" transform=\"translate(16,9)\" font-family=\"sans-serif\" font-size=\"10px\" fill=\"#000\" opacity=\"1\">Tue</text></g></g><path class=\"foreground\" aria-hidden=\"true\" d=\"\" pointer-events=\"none\" display=\"none\"/></g><g transform=\"translate(0,32)\"><path class=\"background\" aria-hidden=\"true\" d=\"M0,0h36v12.5h-36Z\" pointer-events=\"none\" opacity=\"1\"/><g><g class=\"mark-symbol role-legend-symbol\" pointer-events=\"none\"><path transform=\"translate(6,6)\" d=\"M5,0A5,5,0,1,1,-5,0A5,5,0,1,1,5,0\" fill=\"#e45756\" stroke=\"#e45756\" stroke-width=\"1.5\" opacity=\"1\"/></g><g class=\"mark-text role-legend-label\" pointer-events=\"none\"><text text-anchor=\"start\" transform=\"translate(16,9)\" font-family=\"sans-serif\" font-size=\"10px\" fill=\"#000\" opacity=\"1\">Wed</text></g></g><path class=\"foreground\" aria-hidden=\"true\" d=\"\" pointer-events=\"none\" display=\"none\"/></g><g transform=\"translate(0,48)\"><path class=\"background\" aria-hidden=\"true\" d=\"M0,0h36v12.5h-36Z\" pointer-events=\"none\" opacity=\"1\"/><g><g class=\"mark-symbol role-legend-symbol\" pointer-events=\"none\"><path transform=\"translate(6,6)\" d=\"M5,0A5,5,0,1,1,-5,0A5,5,0,1,1,5,0\" fill=\"#72b7b2\" stroke=\"#72b7b2\" stroke-width=\"1.5\" opacity=\"1\"/></g><g class=\"mark-text role-legend-label\" pointer-events=\"none\"><text text-anchor=\"start\" transform=\"translate(16,9)\" font-family=\"sans-serif\" font-size=\"10px\" fill=\"#000\" opacity=\"1\">Thu</text></g></g><path class=\"foreground\" aria-hidden=\"true\" d=\"\" pointer-events=\"none\" display=\"none\"/></g><g transform=\"translate(0,64)\"><path class=\"background\" aria-hidden=\"true\" d=\"M0,0h36v12.5h-36Z\" pointer-events=\"none\" opacity=\"1\"/><g><g class=\"mark-symbol role-legend-symbol\" pointer-events=\"none\"><path transform=\"translate(6,6)\" d=\"M5,0A5,5,0,1,1,-5,0A5,5,0,1,1,5,0\" fill=\"#54a24b\" stroke=\"#54a24b\" stroke-width=\"1.5\" opacity=\"1\"/></g><g class=\"mark-text role-legend-label\" pointer-events=\"none\"><text text-anchor=\"start\" transform=\"translate(16,9)\" font-family=\"sans-serif\" font-size=\"10px\" fill=\"#000\" opacity=\"1\">Fri</text></g></g><path class=\"foreground\" aria-hidden=\"true\" d=\"\" pointer-events=\"none\" display=\"none\"/></g><g transform=\"translate(0,80)\"><path class=\"background\" aria-hidden=\"true\" d=\"M0,0h36v12.5h-36Z\" pointer-events=\"none\" opacity=\"1\"/><g><g class=\"mark-symbol role-legend-symbol\" pointer-events=\"none\"><path transform=\"translate(6,6)\" d=\"M5,0A5,5,0,1,1,-5,0A5,5,0,1,1,5,0\" fill=\"#eeca3b\" stroke=\"#eeca3b\" stroke-width=\"1.5\" opacity=\"1\"/></g><g class=\"mark-text role-legend-label\" pointer-events=\"none\"><text text-anchor=\"start\" transform=\"translate(16,9)\" font-family=\"sans-serif\" font-size=\"10px\" fill=\"#000\" opacity=\"1\">Sat</text></g></g><path class=\"foreground\" aria-hidden=\"true\" d=\"\" pointer-events=\"none\" display=\"none\"/></g><g transform=\"translate(0,96)\"><path class=\"background\" aria-hidden=\"true\" d=\"M0,0h36v12.5h-36Z\" pointer-events=\"none\" opacity=\"1\"/><g><g class=\"mark-symbol role-legend-symbol\" pointer-events=\"none\"><path transform=\"translate(6,6)\" d=\"M5,0A5,5,0,1,1,-5,0A5,5,0,1,1,5,0\" fill=\"#b279a2\" stroke=\"#b279a2\" stroke-width=\"1.5\" opacity=\"1\"/></g><g class=\"mark-text role-legend-label\" pointer-events=\"none\"><text text-anchor=\"start\" transform=\"translate(16,9)\" font-family=\"sans-serif\" font-size=\"10px\" fill=\"#000\" opacity=\"1\">Sun</text></g></g><path class=\"foreground\" aria-hidden=\"true\" d=\"\" pointer-events=\"none\" display=\"none\"/></g></g></g><path class=\"foreground\" aria-hidden=\"true\" d=\"\" pointer-events=\"none\" display=\"none\"/></g></g><g class=\"mark-text role-legend-title\" pointer-events=\"none\"><text text-anchor=\"start\" transform=\"translate(0,9)\" font-family=\"sans-serif\" font-size=\"11px\" font-weight=\"bold\" fill=\"#000\" opacity=\"1\">DOW</text></g></g><path class=\"foreground\" aria-hidden=\"true\" d=\"\" pointer-events=\"none\" display=\"none\"/></g></g><g class=\"mark-group role-title\"><g transform=\"translate(400,-17)\"><path class=\"background\" aria-hidden=\"true\" d=\"M0,0h0v0h0Z\" pointer-events=\"none\"/><g><g class=\"mark-text role-title-text\" role=\"graphics-symbol\" aria-roledescription=\"title\" aria-label=\"Title text 'Ridership by the hour of Day'\" pointer-events=\"none\"><text text-anchor=\"middle\" transform=\"translate(0,10)\" font-family=\"sans-serif\" font-size=\"13px\" font-weight=\"bold\" fill=\"#000\" opacity=\"1\">Ridership by the hour of Day</text></g></g><path class=\"foreground\" aria-hidden=\"true\" d=\"\" pointer-events=\"none\" display=\"none\"/></g></g></g><path class=\"foreground\" aria-hidden=\"true\" d=\"\" display=\"none\"/></g></g></g><defs><clipPath id=\"clip1\"><rect x=\"0\" y=\"0\" width=\"800\" height=\"300\"/></clipPath><clipPath id=\"clip2\"><rect x=\"0\" y=\"0\" width=\"800\" height=\"300\"/></clipPath><clipPath id=\"clip3\"><rect x=\"0\" y=\"0\" width=\"800\" height=\"300\"/></clipPath><clipPath id=\"clip4\"><rect x=\"0\" y=\"0\" width=\"800\" height=\"300\"/></clipPath><clipPath id=\"clip5\"><rect x=\"0\" y=\"0\" width=\"800\" height=\"300\"/></clipPath><clipPath id=\"clip6\"><rect x=\"0\" y=\"0\" width=\"800\" height=\"300\"/></clipPath><clipPath id=\"clip7\"><rect x=\"0\" y=\"0\" width=\"800\" height=\"300\"/></clipPath><clipPath id=\"clip8\"><rect x=\"0\" y=\"0\" width=\"800\" height=\"300\"/></clipPath></defs></svg>\n"
      ],
      "text/plain": [
       "@vlplot(\n",
       "    mark={\n",
       "        tooltip=true,\n",
       "        interpolate=\"monotone\",\n",
       "        point=true,\n",
       "        type=\"line\"\n",
       "    },\n",
       "    width=800,\n",
       "    height=300,\n",
       "    title=\"Ridership by the hour of Day\",\n",
       "    selection={\n",
       "        view={\n",
       "            type=\"interval\",\n",
       "            bind=\"scales\"\n",
       "        }\n",
       "    },\n",
       "    encoding={\n",
       "        x={\n",
       "            title=\"Hour of Day\",\n",
       "            scale={\n",
       "                zero=false\n",
       "            },\n",
       "            field=\"PickupHour\"\n",
       "        },\n",
       "        y={\n",
       "            title=\"Number of Trips\",\n",
       "            field=\"count\"\n",
       "        },\n",
       "        color={\n",
       "            type=\"nominal\",\n",
       "            sort=[\n",
       "                \"Mon\",\n",
       "                \"Tue\",\n",
       "                \"Wed\",\n",
       "                \"Thu\",\n",
       "                \"Fri\",\n",
       "                \"Sat\",\n",
       "                \"Sun\"\n",
       "            ],\n",
       "            field=\"DOW\"\n",
       "        }\n",
       "    },\n",
       "    data={\n",
       "        values=...\n",
       "    }\n",
       ")"
      ]
     },
     "execution_count": 36,
     "metadata": {},
     "output_type": "execute_result"
    }
   ],
   "source": [
    "result.df |> @vlplot(\n",
    "            mark = {:line, tooltip=true, interpolate=\"monotone\", point=true},\n",
    "            x={:PickupHour, title=\"Hour of Day\", scale={zero=false}},\n",
    "            y={:count, title=\"Number of Trips\"},\n",
    "            color={\n",
    "                    :DOW, \n",
    "                    type=\"nominal\",\n",
    "                    sort = [\"Mon\", \"Tue\", \"Wed\", \"Thu\", \"Fri\", \"Sat\", \"Sun\"]\n",
    "                    },\n",
    "            width=800, height=300,\n",
    "            title = \"Ridership by the hour of Day\",\n",
    "            selection={\n",
    "                        view={type=:interval, bind=:scales}\n",
    "                    }\n",
    "        )"
   ]
  },
  {
   "cell_type": "code",
   "execution_count": null,
   "id": "84e38437-92c6-4a6a-83ce-271af8a7997e",
   "metadata": {},
   "outputs": [],
   "source": []
  },
  {
   "cell_type": "code",
   "execution_count": null,
   "id": "114d1a5f-3974-4758-8c31-848e8cb50354",
   "metadata": {},
   "outputs": [],
   "source": []
  },
  {
   "cell_type": "code",
   "execution_count": null,
   "id": "369d21aa-7e2c-42fe-9439-3d1d4ac089bd",
   "metadata": {},
   "outputs": [],
   "source": []
  },
  {
   "cell_type": "code",
   "execution_count": 45,
   "id": "641baea9-d9ae-4ad1-8b78-068c963327ef",
   "metadata": {},
   "outputs": [
    {
     "data": {
      "text/plain": [
       "\"    <script src=\\\"https://cdn.plot.ly/plotly-2.16.1.min.js\\\"></script>\\n    <div id=\\\"tester\\\" style=\\\"width:600px;height:450px;\\\"></div>\\n    <script>\\n        var trace1 = {\\n          x: ['giraffes', 'orangutans', 'monkeys'],\\n          y: [20, 14, 23],\\n          name: 'SF Zoo',\" ⋯ 65 bytes ⋯ \"   x: ['giraffes', 'orangutans', 'monkeys'],\\n          y: [12, 18, 29],\\n          name: 'LA Zoo',\\n          type: 'bar'\\n        };\\n        var data = [trace1, trace2];\\n        var layout = {barmode: 'group'};\\n        Plotly.newPlot('tester', data, layout);\\n    </script>\\n\""
      ]
     },
     "execution_count": 45,
     "metadata": {},
     "output_type": "execute_result"
    }
   ],
   "source": [
    "hstr = \"\"\"\n",
    "    <script src=\"https://cdn.plot.ly/plotly-2.16.1.min.js\"></script>\n",
    "    <div id=\"tester\" style=\"width:600px;height:450px;\"></div>\n",
    "    <script>\n",
    "        var trace1 = {\n",
    "          x: ['giraffes', 'orangutans', 'monkeys'],\n",
    "          y: [20, 14, 23],\n",
    "          name: 'SF Zoo',\n",
    "          type: 'bar'\n",
    "        };\n",
    "\n",
    "        var trace2 = {\n",
    "          x: ['giraffes', 'orangutans', 'monkeys'],\n",
    "          y: [12, 18, 29],\n",
    "          name: 'LA Zoo',\n",
    "          type: 'bar'\n",
    "        };\n",
    "        var data = [trace1, trace2];\n",
    "        var layout = {barmode: 'group'};\n",
    "        Plotly.newPlot('tester', data, layout);\n",
    "    </script>\n",
    "\"\"\""
   ]
  },
  {
   "cell_type": "code",
   "execution_count": 46,
   "id": "f63d24ec-5421-40c8-9481-061a95a6c41b",
   "metadata": {},
   "outputs": [
    {
     "data": {
      "text/html": [
       "    <script src=\"https://cdn.plot.ly/plotly-2.16.1.min.js\"></script>\n",
       "    <div id=\"tester\" style=\"width:600px;height:450px;\"></div>\n",
       "    <script>\n",
       "        var trace1 = {\n",
       "          x: ['giraffes', 'orangutans', 'monkeys'],\n",
       "          y: [20, 14, 23],\n",
       "          name: 'SF Zoo',\n",
       "          type: 'bar'\n",
       "        };\n",
       "\n",
       "        var trace2 = {\n",
       "          x: ['giraffes', 'orangutans', 'monkeys'],\n",
       "          y: [12, 18, 29],\n",
       "          name: 'LA Zoo',\n",
       "          type: 'bar'\n",
       "        };\n",
       "        var data = [trace1, trace2];\n",
       "        var layout = {barmode: 'group'};\n",
       "        Plotly.newPlot('tester', data, layout);\n",
       "    </script>\n"
      ],
      "text/plain": [
       "HTML{String}(\"    <script src=\\\"https://cdn.plot.ly/plotly-2.16.1.min.js\\\"></script>\\n    <div id=\\\"tester\\\" style=\\\"width:600px;height:450px;\\\"></div>\\n    <script>\\n        var trace1 = {\\n          x: ['giraffes', 'orangutans', 'monkeys'],\\n          y: [20, 14, 23],\\n          name: 'SF Zoo',\\n          type: 'bar'\\n        };\\n\\n        var trace2 = {\\n          x: ['giraffes', 'orangutans', 'monkeys'],\\n          y: [12, 18, 29],\\n          name: 'LA Zoo',\\n          type: 'bar'\\n        };\\n        var data = [trace1, trace2];\\n        var layout = {barmode: 'group'};\\n        Plotly.newPlot('tester', data, layout);\\n    </script>\\n\")"
      ]
     },
     "execution_count": 46,
     "metadata": {},
     "output_type": "execute_result"
    }
   ],
   "source": [
    "HTML(hstr)"
   ]
  },
  {
   "cell_type": "code",
   "execution_count": null,
   "id": "e1500843-5a83-4016-8df5-1cc012334587",
   "metadata": {},
   "outputs": [],
   "source": []
  }
 ],
 "metadata": {
  "kernelspec": {
   "display_name": "Julia 1.8.2",
   "language": "julia",
   "name": "julia-1.8"
  },
  "language_info": {
   "file_extension": ".jl",
   "mimetype": "application/julia",
   "name": "julia",
   "version": "1.8.2"
  }
 },
 "nbformat": 4,
 "nbformat_minor": 5
}
